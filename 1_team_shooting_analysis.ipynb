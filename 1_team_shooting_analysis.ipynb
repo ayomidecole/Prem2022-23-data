{
 "cells": [
  {
   "cell_type": "markdown",
   "metadata": {},
   "source": [
    "# Teams"
   ]
  },
  {
   "cell_type": "markdown",
   "metadata": {},
   "source": [
    "## Shooting"
   ]
  },
  {
   "cell_type": "code",
   "execution_count": 2,
   "metadata": {},
   "outputs": [],
   "source": [
    "import pandas as pd\n",
    "import numpy as np\n",
    "import matplotlib.pyplot as plt\n",
    "import seaborn as sns\n",
    "import scipy.stats as stats\n",
    "from scipy.stats import linregress, pearsonr\n",
    "import plotly.express as px\n"
   ]
  },
  {
   "cell_type": "code",
   "execution_count": 3,
   "metadata": {},
   "outputs": [],
   "source": [
    "shooting = pd.read_csv('team/shooting_premier_league_stats.csv')"
   ]
  },
  {
   "cell_type": "code",
   "execution_count": 4,
   "metadata": {},
   "outputs": [
    {
     "data": {
      "text/html": [
       "<div>\n",
       "<style scoped>\n",
       "    .dataframe tbody tr th:only-of-type {\n",
       "        vertical-align: middle;\n",
       "    }\n",
       "\n",
       "    .dataframe tbody tr th {\n",
       "        vertical-align: top;\n",
       "    }\n",
       "\n",
       "    .dataframe thead th {\n",
       "        text-align: right;\n",
       "    }\n",
       "</style>\n",
       "<table border=\"1\" class=\"dataframe\">\n",
       "  <thead>\n",
       "    <tr style=\"text-align: right;\">\n",
       "      <th></th>\n",
       "      <th>Unnamed: 0</th>\n",
       "      <th>Squad</th>\n",
       "      <th>Position</th>\n",
       "      <th>Gls#</th>\n",
       "      <th>Sh#</th>\n",
       "      <th>SoT#</th>\n",
       "      <th>xG#</th>\n",
       "      <th>Gls</th>\n",
       "      <th>Sh</th>\n",
       "      <th>SoT</th>\n",
       "      <th>...</th>\n",
       "      <th>Sh/90</th>\n",
       "      <th>SoT/90</th>\n",
       "      <th>G/Sh</th>\n",
       "      <th>G/SoT</th>\n",
       "      <th>PK</th>\n",
       "      <th>xG</th>\n",
       "      <th>npxG</th>\n",
       "      <th>npxG/Sh</th>\n",
       "      <th>G-xG</th>\n",
       "      <th>np:G-xG</th>\n",
       "    </tr>\n",
       "  </thead>\n",
       "  <tbody>\n",
       "    <tr>\n",
       "      <th>0</th>\n",
       "      <td>1</td>\n",
       "      <td>Arsenal</td>\n",
       "      <td>2</td>\n",
       "      <td>2</td>\n",
       "      <td>5</td>\n",
       "      <td>5</td>\n",
       "      <td>5</td>\n",
       "      <td>84</td>\n",
       "      <td>589</td>\n",
       "      <td>194</td>\n",
       "      <td>...</td>\n",
       "      <td>15.50</td>\n",
       "      <td>5.11</td>\n",
       "      <td>0.14</td>\n",
       "      <td>0.42</td>\n",
       "      <td>3</td>\n",
       "      <td>71.9</td>\n",
       "      <td>69.1</td>\n",
       "      <td>0.12</td>\n",
       "      <td>12.1</td>\n",
       "      <td>11.9</td>\n",
       "    </tr>\n",
       "    <tr>\n",
       "      <th>1</th>\n",
       "      <td>2</td>\n",
       "      <td>Aston Villa</td>\n",
       "      <td>7</td>\n",
       "      <td>10</td>\n",
       "      <td>11</td>\n",
       "      <td>10</td>\n",
       "      <td>10</td>\n",
       "      <td>49</td>\n",
       "      <td>427</td>\n",
       "      <td>145</td>\n",
       "      <td>...</td>\n",
       "      <td>11.24</td>\n",
       "      <td>3.82</td>\n",
       "      <td>0.11</td>\n",
       "      <td>0.32</td>\n",
       "      <td>3</td>\n",
       "      <td>50.2</td>\n",
       "      <td>47.2</td>\n",
       "      <td>0.11</td>\n",
       "      <td>-1.2</td>\n",
       "      <td>-1.2</td>\n",
       "    </tr>\n",
       "    <tr>\n",
       "      <th>2</th>\n",
       "      <td>3</td>\n",
       "      <td>Bournemouth</td>\n",
       "      <td>15</td>\n",
       "      <td>15</td>\n",
       "      <td>20</td>\n",
       "      <td>18</td>\n",
       "      <td>18</td>\n",
       "      <td>37</td>\n",
       "      <td>358</td>\n",
       "      <td>126</td>\n",
       "      <td>...</td>\n",
       "      <td>9.42</td>\n",
       "      <td>3.32</td>\n",
       "      <td>0.10</td>\n",
       "      <td>0.29</td>\n",
       "      <td>0</td>\n",
       "      <td>38.6</td>\n",
       "      <td>38.6</td>\n",
       "      <td>0.11</td>\n",
       "      <td>-1.6</td>\n",
       "      <td>-1.6</td>\n",
       "    </tr>\n",
       "    <tr>\n",
       "      <th>3</th>\n",
       "      <td>4</td>\n",
       "      <td>Brentford</td>\n",
       "      <td>9</td>\n",
       "      <td>7</td>\n",
       "      <td>18</td>\n",
       "      <td>9</td>\n",
       "      <td>8</td>\n",
       "      <td>56</td>\n",
       "      <td>400</td>\n",
       "      <td>147</td>\n",
       "      <td>...</td>\n",
       "      <td>10.53</td>\n",
       "      <td>3.87</td>\n",
       "      <td>0.12</td>\n",
       "      <td>0.33</td>\n",
       "      <td>7</td>\n",
       "      <td>56.8</td>\n",
       "      <td>50.6</td>\n",
       "      <td>0.13</td>\n",
       "      <td>-0.8</td>\n",
       "      <td>-1.6</td>\n",
       "    </tr>\n",
       "    <tr>\n",
       "      <th>4</th>\n",
       "      <td>5</td>\n",
       "      <td>Brighton</td>\n",
       "      <td>6</td>\n",
       "      <td>4</td>\n",
       "      <td>1</td>\n",
       "      <td>1</td>\n",
       "      <td>2</td>\n",
       "      <td>68</td>\n",
       "      <td>607</td>\n",
       "      <td>219</td>\n",
       "      <td>...</td>\n",
       "      <td>15.97</td>\n",
       "      <td>5.76</td>\n",
       "      <td>0.10</td>\n",
       "      <td>0.28</td>\n",
       "      <td>6</td>\n",
       "      <td>73.3</td>\n",
       "      <td>68.9</td>\n",
       "      <td>0.12</td>\n",
       "      <td>-5.3</td>\n",
       "      <td>-6.9</td>\n",
       "    </tr>\n",
       "    <tr>\n",
       "      <th>5</th>\n",
       "      <td>6</td>\n",
       "      <td>Chelsea</td>\n",
       "      <td>12</td>\n",
       "      <td>16</td>\n",
       "      <td>8</td>\n",
       "      <td>8</td>\n",
       "      <td>11</td>\n",
       "      <td>37</td>\n",
       "      <td>481</td>\n",
       "      <td>151</td>\n",
       "      <td>...</td>\n",
       "      <td>12.66</td>\n",
       "      <td>3.97</td>\n",
       "      <td>0.07</td>\n",
       "      <td>0.23</td>\n",
       "      <td>3</td>\n",
       "      <td>49.5</td>\n",
       "      <td>47.2</td>\n",
       "      <td>0.10</td>\n",
       "      <td>-12.5</td>\n",
       "      <td>-13.2</td>\n",
       "    </tr>\n",
       "    <tr>\n",
       "      <th>6</th>\n",
       "      <td>7</td>\n",
       "      <td>Crystal Palace</td>\n",
       "      <td>11</td>\n",
       "      <td>14</td>\n",
       "      <td>13</td>\n",
       "      <td>16</td>\n",
       "      <td>17</td>\n",
       "      <td>38</td>\n",
       "      <td>423</td>\n",
       "      <td>133</td>\n",
       "      <td>...</td>\n",
       "      <td>11.13</td>\n",
       "      <td>3.50</td>\n",
       "      <td>0.09</td>\n",
       "      <td>0.28</td>\n",
       "      <td>1</td>\n",
       "      <td>39.3</td>\n",
       "      <td>36.8</td>\n",
       "      <td>0.09</td>\n",
       "      <td>-1.3</td>\n",
       "      <td>0.2</td>\n",
       "    </tr>\n",
       "    <tr>\n",
       "      <th>7</th>\n",
       "      <td>8</td>\n",
       "      <td>Everton</td>\n",
       "      <td>17</td>\n",
       "      <td>19</td>\n",
       "      <td>12</td>\n",
       "      <td>11</td>\n",
       "      <td>15</td>\n",
       "      <td>32</td>\n",
       "      <td>426</td>\n",
       "      <td>143</td>\n",
       "      <td>...</td>\n",
       "      <td>11.21</td>\n",
       "      <td>3.76</td>\n",
       "      <td>0.07</td>\n",
       "      <td>0.20</td>\n",
       "      <td>3</td>\n",
       "      <td>45.2</td>\n",
       "      <td>42.8</td>\n",
       "      <td>0.10</td>\n",
       "      <td>-13.2</td>\n",
       "      <td>-13.8</td>\n",
       "    </tr>\n",
       "    <tr>\n",
       "      <th>8</th>\n",
       "      <td>9</td>\n",
       "      <td>Fulham</td>\n",
       "      <td>10</td>\n",
       "      <td>9</td>\n",
       "      <td>14</td>\n",
       "      <td>14</td>\n",
       "      <td>14</td>\n",
       "      <td>52</td>\n",
       "      <td>420</td>\n",
       "      <td>137</td>\n",
       "      <td>...</td>\n",
       "      <td>11.05</td>\n",
       "      <td>3.61</td>\n",
       "      <td>0.11</td>\n",
       "      <td>0.34</td>\n",
       "      <td>5</td>\n",
       "      <td>46.2</td>\n",
       "      <td>39.1</td>\n",
       "      <td>0.10</td>\n",
       "      <td>5.8</td>\n",
       "      <td>7.9</td>\n",
       "    </tr>\n",
       "    <tr>\n",
       "      <th>9</th>\n",
       "      <td>10</td>\n",
       "      <td>Leeds United</td>\n",
       "      <td>19</td>\n",
       "      <td>12</td>\n",
       "      <td>10</td>\n",
       "      <td>13</td>\n",
       "      <td>13</td>\n",
       "      <td>45</td>\n",
       "      <td>459</td>\n",
       "      <td>141</td>\n",
       "      <td>...</td>\n",
       "      <td>12.08</td>\n",
       "      <td>3.71</td>\n",
       "      <td>0.10</td>\n",
       "      <td>0.31</td>\n",
       "      <td>1</td>\n",
       "      <td>47.4</td>\n",
       "      <td>45.0</td>\n",
       "      <td>0.10</td>\n",
       "      <td>-2.4</td>\n",
       "      <td>-1.0</td>\n",
       "    </tr>\n",
       "    <tr>\n",
       "      <th>10</th>\n",
       "      <td>11</td>\n",
       "      <td>Leicester City</td>\n",
       "      <td>18</td>\n",
       "      <td>11</td>\n",
       "      <td>16</td>\n",
       "      <td>12</td>\n",
       "      <td>9</td>\n",
       "      <td>49</td>\n",
       "      <td>412</td>\n",
       "      <td>142</td>\n",
       "      <td>...</td>\n",
       "      <td>10.84</td>\n",
       "      <td>3.74</td>\n",
       "      <td>0.11</td>\n",
       "      <td>0.32</td>\n",
       "      <td>3</td>\n",
       "      <td>50.6</td>\n",
       "      <td>45.8</td>\n",
       "      <td>0.11</td>\n",
       "      <td>-1.6</td>\n",
       "      <td>0.2</td>\n",
       "    </tr>\n",
       "    <tr>\n",
       "      <th>11</th>\n",
       "      <td>12</td>\n",
       "      <td>Liverpool</td>\n",
       "      <td>5</td>\n",
       "      <td>3</td>\n",
       "      <td>2</td>\n",
       "      <td>4</td>\n",
       "      <td>3</td>\n",
       "      <td>71</td>\n",
       "      <td>601</td>\n",
       "      <td>203</td>\n",
       "      <td>...</td>\n",
       "      <td>15.82</td>\n",
       "      <td>5.34</td>\n",
       "      <td>0.11</td>\n",
       "      <td>0.34</td>\n",
       "      <td>2</td>\n",
       "      <td>72.6</td>\n",
       "      <td>69.5</td>\n",
       "      <td>0.12</td>\n",
       "      <td>-1.6</td>\n",
       "      <td>-0.5</td>\n",
       "    </tr>\n",
       "    <tr>\n",
       "      <th>12</th>\n",
       "      <td>13</td>\n",
       "      <td>Manchester City</td>\n",
       "      <td>1</td>\n",
       "      <td>1</td>\n",
       "      <td>3</td>\n",
       "      <td>3</td>\n",
       "      <td>1</td>\n",
       "      <td>92</td>\n",
       "      <td>590</td>\n",
       "      <td>205</td>\n",
       "      <td>...</td>\n",
       "      <td>15.53</td>\n",
       "      <td>5.39</td>\n",
       "      <td>0.14</td>\n",
       "      <td>0.40</td>\n",
       "      <td>9</td>\n",
       "      <td>78.6</td>\n",
       "      <td>71.1</td>\n",
       "      <td>0.12</td>\n",
       "      <td>13.4</td>\n",
       "      <td>11.9</td>\n",
       "    </tr>\n",
       "    <tr>\n",
       "      <th>13</th>\n",
       "      <td>14</td>\n",
       "      <td>Manchester Utd</td>\n",
       "      <td>3</td>\n",
       "      <td>8</td>\n",
       "      <td>4</td>\n",
       "      <td>2</td>\n",
       "      <td>6</td>\n",
       "      <td>56</td>\n",
       "      <td>590</td>\n",
       "      <td>206</td>\n",
       "      <td>...</td>\n",
       "      <td>15.53</td>\n",
       "      <td>5.42</td>\n",
       "      <td>0.09</td>\n",
       "      <td>0.26</td>\n",
       "      <td>3</td>\n",
       "      <td>67.7</td>\n",
       "      <td>65.3</td>\n",
       "      <td>0.11</td>\n",
       "      <td>-11.7</td>\n",
       "      <td>-12.3</td>\n",
       "    </tr>\n",
       "    <tr>\n",
       "      <th>14</th>\n",
       "      <td>15</td>\n",
       "      <td>Newcastle Utd</td>\n",
       "      <td>4</td>\n",
       "      <td>6</td>\n",
       "      <td>6</td>\n",
       "      <td>7</td>\n",
       "      <td>4</td>\n",
       "      <td>64</td>\n",
       "      <td>565</td>\n",
       "      <td>184</td>\n",
       "      <td>...</td>\n",
       "      <td>14.87</td>\n",
       "      <td>4.84</td>\n",
       "      <td>0.10</td>\n",
       "      <td>0.32</td>\n",
       "      <td>6</td>\n",
       "      <td>72.0</td>\n",
       "      <td>67.4</td>\n",
       "      <td>0.12</td>\n",
       "      <td>-8.0</td>\n",
       "      <td>-9.4</td>\n",
       "    </tr>\n",
       "    <tr>\n",
       "      <th>15</th>\n",
       "      <td>16</td>\n",
       "      <td>Nott'ham Forest</td>\n",
       "      <td>16</td>\n",
       "      <td>17</td>\n",
       "      <td>19</td>\n",
       "      <td>20</td>\n",
       "      <td>16</td>\n",
       "      <td>36</td>\n",
       "      <td>362</td>\n",
       "      <td>111</td>\n",
       "      <td>...</td>\n",
       "      <td>9.53</td>\n",
       "      <td>2.92</td>\n",
       "      <td>0.09</td>\n",
       "      <td>0.30</td>\n",
       "      <td>3</td>\n",
       "      <td>39.3</td>\n",
       "      <td>34.6</td>\n",
       "      <td>0.10</td>\n",
       "      <td>-3.3</td>\n",
       "      <td>-1.6</td>\n",
       "    </tr>\n",
       "    <tr>\n",
       "      <th>16</th>\n",
       "      <td>17</td>\n",
       "      <td>Southampton</td>\n",
       "      <td>20</td>\n",
       "      <td>18</td>\n",
       "      <td>15</td>\n",
       "      <td>17</td>\n",
       "      <td>19</td>\n",
       "      <td>36</td>\n",
       "      <td>413</td>\n",
       "      <td>132</td>\n",
       "      <td>...</td>\n",
       "      <td>10.87</td>\n",
       "      <td>3.47</td>\n",
       "      <td>0.08</td>\n",
       "      <td>0.26</td>\n",
       "      <td>2</td>\n",
       "      <td>37.7</td>\n",
       "      <td>34.5</td>\n",
       "      <td>0.09</td>\n",
       "      <td>-1.7</td>\n",
       "      <td>-0.5</td>\n",
       "    </tr>\n",
       "    <tr>\n",
       "      <th>17</th>\n",
       "      <td>18</td>\n",
       "      <td>Tottenham</td>\n",
       "      <td>8</td>\n",
       "      <td>5</td>\n",
       "      <td>7</td>\n",
       "      <td>6</td>\n",
       "      <td>7</td>\n",
       "      <td>68</td>\n",
       "      <td>512</td>\n",
       "      <td>186</td>\n",
       "      <td>...</td>\n",
       "      <td>13.47</td>\n",
       "      <td>4.89</td>\n",
       "      <td>0.12</td>\n",
       "      <td>0.34</td>\n",
       "      <td>5</td>\n",
       "      <td>57.1</td>\n",
       "      <td>52.4</td>\n",
       "      <td>0.10</td>\n",
       "      <td>10.9</td>\n",
       "      <td>10.6</td>\n",
       "    </tr>\n",
       "    <tr>\n",
       "      <th>18</th>\n",
       "      <td>19</td>\n",
       "      <td>West Ham</td>\n",
       "      <td>14</td>\n",
       "      <td>13</td>\n",
       "      <td>9</td>\n",
       "      <td>15</td>\n",
       "      <td>12</td>\n",
       "      <td>41</td>\n",
       "      <td>466</td>\n",
       "      <td>133</td>\n",
       "      <td>...</td>\n",
       "      <td>12.26</td>\n",
       "      <td>3.50</td>\n",
       "      <td>0.08</td>\n",
       "      <td>0.26</td>\n",
       "      <td>6</td>\n",
       "      <td>49.2</td>\n",
       "      <td>43.7</td>\n",
       "      <td>0.10</td>\n",
       "      <td>-8.2</td>\n",
       "      <td>-8.7</td>\n",
       "    </tr>\n",
       "    <tr>\n",
       "      <th>19</th>\n",
       "      <td>20</td>\n",
       "      <td>Wolves</td>\n",
       "      <td>13</td>\n",
       "      <td>20</td>\n",
       "      <td>17</td>\n",
       "      <td>19</td>\n",
       "      <td>20</td>\n",
       "      <td>28</td>\n",
       "      <td>409</td>\n",
       "      <td>119</td>\n",
       "      <td>...</td>\n",
       "      <td>10.76</td>\n",
       "      <td>3.13</td>\n",
       "      <td>0.06</td>\n",
       "      <td>0.21</td>\n",
       "      <td>3</td>\n",
       "      <td>36.8</td>\n",
       "      <td>34.5</td>\n",
       "      <td>0.09</td>\n",
       "      <td>-8.8</td>\n",
       "      <td>-9.5</td>\n",
       "    </tr>\n",
       "  </tbody>\n",
       "</table>\n",
       "<p>20 rows × 21 columns</p>\n",
       "</div>"
      ],
      "text/plain": [
       "    Unnamed: 0            Squad  Position  Gls#  Sh#  SoT#  xG#  Gls   Sh  \\\n",
       "0            1          Arsenal         2     2    5     5    5   84  589   \n",
       "1            2      Aston Villa         7    10   11    10   10   49  427   \n",
       "2            3      Bournemouth        15    15   20    18   18   37  358   \n",
       "3            4        Brentford         9     7   18     9    8   56  400   \n",
       "4            5         Brighton         6     4    1     1    2   68  607   \n",
       "5            6          Chelsea        12    16    8     8   11   37  481   \n",
       "6            7   Crystal Palace        11    14   13    16   17   38  423   \n",
       "7            8          Everton        17    19   12    11   15   32  426   \n",
       "8            9           Fulham        10     9   14    14   14   52  420   \n",
       "9           10     Leeds United        19    12   10    13   13   45  459   \n",
       "10          11   Leicester City        18    11   16    12    9   49  412   \n",
       "11          12        Liverpool         5     3    2     4    3   71  601   \n",
       "12          13  Manchester City         1     1    3     3    1   92  590   \n",
       "13          14   Manchester Utd         3     8    4     2    6   56  590   \n",
       "14          15    Newcastle Utd         4     6    6     7    4   64  565   \n",
       "15          16  Nott'ham Forest        16    17   19    20   16   36  362   \n",
       "16          17      Southampton        20    18   15    17   19   36  413   \n",
       "17          18        Tottenham         8     5    7     6    7   68  512   \n",
       "18          19         West Ham        14    13    9    15   12   41  466   \n",
       "19          20           Wolves        13    20   17    19   20   28  409   \n",
       "\n",
       "    SoT  ...  Sh/90  SoT/90  G/Sh  G/SoT  PK    xG  npxG  npxG/Sh  G-xG  \\\n",
       "0   194  ...  15.50    5.11  0.14   0.42   3  71.9  69.1     0.12  12.1   \n",
       "1   145  ...  11.24    3.82  0.11   0.32   3  50.2  47.2     0.11  -1.2   \n",
       "2   126  ...   9.42    3.32  0.10   0.29   0  38.6  38.6     0.11  -1.6   \n",
       "3   147  ...  10.53    3.87  0.12   0.33   7  56.8  50.6     0.13  -0.8   \n",
       "4   219  ...  15.97    5.76  0.10   0.28   6  73.3  68.9     0.12  -5.3   \n",
       "5   151  ...  12.66    3.97  0.07   0.23   3  49.5  47.2     0.10 -12.5   \n",
       "6   133  ...  11.13    3.50  0.09   0.28   1  39.3  36.8     0.09  -1.3   \n",
       "7   143  ...  11.21    3.76  0.07   0.20   3  45.2  42.8     0.10 -13.2   \n",
       "8   137  ...  11.05    3.61  0.11   0.34   5  46.2  39.1     0.10   5.8   \n",
       "9   141  ...  12.08    3.71  0.10   0.31   1  47.4  45.0     0.10  -2.4   \n",
       "10  142  ...  10.84    3.74  0.11   0.32   3  50.6  45.8     0.11  -1.6   \n",
       "11  203  ...  15.82    5.34  0.11   0.34   2  72.6  69.5     0.12  -1.6   \n",
       "12  205  ...  15.53    5.39  0.14   0.40   9  78.6  71.1     0.12  13.4   \n",
       "13  206  ...  15.53    5.42  0.09   0.26   3  67.7  65.3     0.11 -11.7   \n",
       "14  184  ...  14.87    4.84  0.10   0.32   6  72.0  67.4     0.12  -8.0   \n",
       "15  111  ...   9.53    2.92  0.09   0.30   3  39.3  34.6     0.10  -3.3   \n",
       "16  132  ...  10.87    3.47  0.08   0.26   2  37.7  34.5     0.09  -1.7   \n",
       "17  186  ...  13.47    4.89  0.12   0.34   5  57.1  52.4     0.10  10.9   \n",
       "18  133  ...  12.26    3.50  0.08   0.26   6  49.2  43.7     0.10  -8.2   \n",
       "19  119  ...  10.76    3.13  0.06   0.21   3  36.8  34.5     0.09  -8.8   \n",
       "\n",
       "    np:G-xG  \n",
       "0      11.9  \n",
       "1      -1.2  \n",
       "2      -1.6  \n",
       "3      -1.6  \n",
       "4      -6.9  \n",
       "5     -13.2  \n",
       "6       0.2  \n",
       "7     -13.8  \n",
       "8       7.9  \n",
       "9      -1.0  \n",
       "10      0.2  \n",
       "11     -0.5  \n",
       "12     11.9  \n",
       "13    -12.3  \n",
       "14     -9.4  \n",
       "15     -1.6  \n",
       "16     -0.5  \n",
       "17     10.6  \n",
       "18     -8.7  \n",
       "19     -9.5  \n",
       "\n",
       "[20 rows x 21 columns]"
      ]
     },
     "execution_count": 4,
     "metadata": {},
     "output_type": "execute_result"
    }
   ],
   "source": [
    "shooting"
   ]
  },
  {
   "cell_type": "code",
   "execution_count": 5,
   "metadata": {},
   "outputs": [
    {
     "data": {
      "text/html": [
       "<div>\n",
       "<style scoped>\n",
       "    .dataframe tbody tr th:only-of-type {\n",
       "        vertical-align: middle;\n",
       "    }\n",
       "\n",
       "    .dataframe tbody tr th {\n",
       "        vertical-align: top;\n",
       "    }\n",
       "\n",
       "    .dataframe thead th {\n",
       "        text-align: right;\n",
       "    }\n",
       "</style>\n",
       "<table border=\"1\" class=\"dataframe\">\n",
       "  <thead>\n",
       "    <tr style=\"text-align: right;\">\n",
       "      <th></th>\n",
       "      <th>Unnamed: 0</th>\n",
       "      <th>Position</th>\n",
       "      <th>Gls#</th>\n",
       "      <th>Sh#</th>\n",
       "      <th>SoT#</th>\n",
       "      <th>xG#</th>\n",
       "      <th>Gls</th>\n",
       "      <th>Sh</th>\n",
       "      <th>SoT</th>\n",
       "      <th>SoT%</th>\n",
       "      <th>Sh/90</th>\n",
       "      <th>SoT/90</th>\n",
       "      <th>G/Sh</th>\n",
       "      <th>G/SoT</th>\n",
       "      <th>PK</th>\n",
       "      <th>xG</th>\n",
       "      <th>npxG</th>\n",
       "      <th>npxG/Sh</th>\n",
       "      <th>G-xG</th>\n",
       "      <th>np:G-xG</th>\n",
       "    </tr>\n",
       "  </thead>\n",
       "  <tbody>\n",
       "    <tr>\n",
       "      <th>count</th>\n",
       "      <td>20.00</td>\n",
       "      <td>20.00</td>\n",
       "      <td>20.00</td>\n",
       "      <td>20.00</td>\n",
       "      <td>20.00</td>\n",
       "      <td>20.00</td>\n",
       "      <td>20.00</td>\n",
       "      <td>20.00</td>\n",
       "      <td>20.00</td>\n",
       "      <td>20.00</td>\n",
       "      <td>20.00</td>\n",
       "      <td>20.00</td>\n",
       "      <td>20.00</td>\n",
       "      <td>20.00</td>\n",
       "      <td>20.00</td>\n",
       "      <td>20.00</td>\n",
       "      <td>20.00</td>\n",
       "      <td>20.00</td>\n",
       "      <td>20.00</td>\n",
       "      <td>20.00</td>\n",
       "    </tr>\n",
       "    <tr>\n",
       "      <th>mean</th>\n",
       "      <td>10.50</td>\n",
       "      <td>10.50</td>\n",
       "      <td>10.50</td>\n",
       "      <td>10.50</td>\n",
       "      <td>10.50</td>\n",
       "      <td>10.50</td>\n",
       "      <td>51.95</td>\n",
       "      <td>475.50</td>\n",
       "      <td>157.85</td>\n",
       "      <td>33.09</td>\n",
       "      <td>12.51</td>\n",
       "      <td>4.15</td>\n",
       "      <td>0.10</td>\n",
       "      <td>0.30</td>\n",
       "      <td>3.70</td>\n",
       "      <td>54.00</td>\n",
       "      <td>50.20</td>\n",
       "      <td>0.11</td>\n",
       "      <td>-2.05</td>\n",
       "      <td>-1.95</td>\n",
       "    </tr>\n",
       "    <tr>\n",
       "      <th>std</th>\n",
       "      <td>5.92</td>\n",
       "      <td>5.92</td>\n",
       "      <td>5.92</td>\n",
       "      <td>5.92</td>\n",
       "      <td>5.92</td>\n",
       "      <td>5.92</td>\n",
       "      <td>17.76</td>\n",
       "      <td>85.00</td>\n",
       "      <td>33.44</td>\n",
       "      <td>2.33</td>\n",
       "      <td>2.24</td>\n",
       "      <td>0.88</td>\n",
       "      <td>0.02</td>\n",
       "      <td>0.06</td>\n",
       "      <td>2.25</td>\n",
       "      <td>13.87</td>\n",
       "      <td>13.34</td>\n",
       "      <td>0.01</td>\n",
       "      <td>7.71</td>\n",
       "      <td>7.98</td>\n",
       "    </tr>\n",
       "    <tr>\n",
       "      <th>min</th>\n",
       "      <td>1.00</td>\n",
       "      <td>1.00</td>\n",
       "      <td>1.00</td>\n",
       "      <td>1.00</td>\n",
       "      <td>1.00</td>\n",
       "      <td>1.00</td>\n",
       "      <td>28.00</td>\n",
       "      <td>358.00</td>\n",
       "      <td>111.00</td>\n",
       "      <td>28.50</td>\n",
       "      <td>9.42</td>\n",
       "      <td>2.92</td>\n",
       "      <td>0.06</td>\n",
       "      <td>0.20</td>\n",
       "      <td>0.00</td>\n",
       "      <td>36.80</td>\n",
       "      <td>34.50</td>\n",
       "      <td>0.09</td>\n",
       "      <td>-13.20</td>\n",
       "      <td>-13.80</td>\n",
       "    </tr>\n",
       "    <tr>\n",
       "      <th>25%</th>\n",
       "      <td>5.75</td>\n",
       "      <td>5.75</td>\n",
       "      <td>5.75</td>\n",
       "      <td>5.75</td>\n",
       "      <td>5.75</td>\n",
       "      <td>5.75</td>\n",
       "      <td>37.00</td>\n",
       "      <td>412.75</td>\n",
       "      <td>133.00</td>\n",
       "      <td>31.40</td>\n",
       "      <td>10.86</td>\n",
       "      <td>3.50</td>\n",
       "      <td>0.09</td>\n",
       "      <td>0.26</td>\n",
       "      <td>2.75</td>\n",
       "      <td>43.72</td>\n",
       "      <td>38.98</td>\n",
       "      <td>0.10</td>\n",
       "      <td>-8.05</td>\n",
       "      <td>-8.88</td>\n",
       "    </tr>\n",
       "    <tr>\n",
       "      <th>50%</th>\n",
       "      <td>10.50</td>\n",
       "      <td>10.50</td>\n",
       "      <td>10.50</td>\n",
       "      <td>10.50</td>\n",
       "      <td>10.50</td>\n",
       "      <td>10.50</td>\n",
       "      <td>49.00</td>\n",
       "      <td>443.00</td>\n",
       "      <td>144.00</td>\n",
       "      <td>33.25</td>\n",
       "      <td>11.66</td>\n",
       "      <td>3.79</td>\n",
       "      <td>0.10</td>\n",
       "      <td>0.30</td>\n",
       "      <td>3.00</td>\n",
       "      <td>49.85</td>\n",
       "      <td>46.50</td>\n",
       "      <td>0.11</td>\n",
       "      <td>-1.65</td>\n",
       "      <td>-1.40</td>\n",
       "    </tr>\n",
       "    <tr>\n",
       "      <th>75%</th>\n",
       "      <td>15.25</td>\n",
       "      <td>15.25</td>\n",
       "      <td>15.25</td>\n",
       "      <td>15.25</td>\n",
       "      <td>15.25</td>\n",
       "      <td>15.25</td>\n",
       "      <td>65.00</td>\n",
       "      <td>571.00</td>\n",
       "      <td>188.00</td>\n",
       "      <td>34.75</td>\n",
       "      <td>15.03</td>\n",
       "      <td>4.94</td>\n",
       "      <td>0.11</td>\n",
       "      <td>0.33</td>\n",
       "      <td>5.25</td>\n",
       "      <td>68.75</td>\n",
       "      <td>65.82</td>\n",
       "      <td>0.12</td>\n",
       "      <td>-1.10</td>\n",
       "      <td>0.20</td>\n",
       "    </tr>\n",
       "    <tr>\n",
       "      <th>max</th>\n",
       "      <td>20.00</td>\n",
       "      <td>20.00</td>\n",
       "      <td>20.00</td>\n",
       "      <td>20.00</td>\n",
       "      <td>20.00</td>\n",
       "      <td>20.00</td>\n",
       "      <td>92.00</td>\n",
       "      <td>607.00</td>\n",
       "      <td>219.00</td>\n",
       "      <td>36.80</td>\n",
       "      <td>15.97</td>\n",
       "      <td>5.76</td>\n",
       "      <td>0.14</td>\n",
       "      <td>0.42</td>\n",
       "      <td>9.00</td>\n",
       "      <td>78.60</td>\n",
       "      <td>71.10</td>\n",
       "      <td>0.13</td>\n",
       "      <td>13.40</td>\n",
       "      <td>11.90</td>\n",
       "    </tr>\n",
       "  </tbody>\n",
       "</table>\n",
       "</div>"
      ],
      "text/plain": [
       "       Unnamed: 0  Position   Gls#    Sh#   SoT#    xG#    Gls      Sh  \\\n",
       "count       20.00     20.00  20.00  20.00  20.00  20.00  20.00   20.00   \n",
       "mean        10.50     10.50  10.50  10.50  10.50  10.50  51.95  475.50   \n",
       "std          5.92      5.92   5.92   5.92   5.92   5.92  17.76   85.00   \n",
       "min          1.00      1.00   1.00   1.00   1.00   1.00  28.00  358.00   \n",
       "25%          5.75      5.75   5.75   5.75   5.75   5.75  37.00  412.75   \n",
       "50%         10.50     10.50  10.50  10.50  10.50  10.50  49.00  443.00   \n",
       "75%         15.25     15.25  15.25  15.25  15.25  15.25  65.00  571.00   \n",
       "max         20.00     20.00  20.00  20.00  20.00  20.00  92.00  607.00   \n",
       "\n",
       "          SoT   SoT%  Sh/90  SoT/90   G/Sh  G/SoT     PK     xG   npxG  \\\n",
       "count   20.00  20.00  20.00   20.00  20.00  20.00  20.00  20.00  20.00   \n",
       "mean   157.85  33.09  12.51    4.15   0.10   0.30   3.70  54.00  50.20   \n",
       "std     33.44   2.33   2.24    0.88   0.02   0.06   2.25  13.87  13.34   \n",
       "min    111.00  28.50   9.42    2.92   0.06   0.20   0.00  36.80  34.50   \n",
       "25%    133.00  31.40  10.86    3.50   0.09   0.26   2.75  43.72  38.98   \n",
       "50%    144.00  33.25  11.66    3.79   0.10   0.30   3.00  49.85  46.50   \n",
       "75%    188.00  34.75  15.03    4.94   0.11   0.33   5.25  68.75  65.82   \n",
       "max    219.00  36.80  15.97    5.76   0.14   0.42   9.00  78.60  71.10   \n",
       "\n",
       "       npxG/Sh   G-xG  np:G-xG  \n",
       "count    20.00  20.00    20.00  \n",
       "mean      0.11  -2.05    -1.95  \n",
       "std       0.01   7.71     7.98  \n",
       "min       0.09 -13.20   -13.80  \n",
       "25%       0.10  -8.05    -8.88  \n",
       "50%       0.11  -1.65    -1.40  \n",
       "75%       0.12  -1.10     0.20  \n",
       "max       0.13  13.40    11.90  "
      ]
     },
     "execution_count": 5,
     "metadata": {},
     "output_type": "execute_result"
    }
   ],
   "source": [
    "shooting.describe().round(2)"
   ]
  },
  {
   "cell_type": "code",
   "execution_count": 6,
   "metadata": {},
   "outputs": [
    {
     "data": {
      "text/html": [
       "<div>\n",
       "<style scoped>\n",
       "    .dataframe tbody tr th:only-of-type {\n",
       "        vertical-align: middle;\n",
       "    }\n",
       "\n",
       "    .dataframe tbody tr th {\n",
       "        vertical-align: top;\n",
       "    }\n",
       "\n",
       "    .dataframe thead th {\n",
       "        text-align: right;\n",
       "    }\n",
       "</style>\n",
       "<table border=\"1\" class=\"dataframe\">\n",
       "  <thead>\n",
       "    <tr style=\"text-align: right;\">\n",
       "      <th></th>\n",
       "      <th>Squad</th>\n",
       "      <th>Position</th>\n",
       "      <th>Gls#</th>\n",
       "      <th>Sh#</th>\n",
       "      <th>SoT#</th>\n",
       "      <th>xG#</th>\n",
       "      <th>Gls</th>\n",
       "      <th>Sh</th>\n",
       "      <th>SoT</th>\n",
       "      <th>SoT%</th>\n",
       "      <th>Sh/90</th>\n",
       "      <th>SoT/90</th>\n",
       "      <th>G/Sh</th>\n",
       "      <th>G/SoT</th>\n",
       "      <th>PK</th>\n",
       "      <th>xG</th>\n",
       "      <th>npxG</th>\n",
       "      <th>npxG/Sh</th>\n",
       "      <th>G-xG</th>\n",
       "      <th>np:G-xG</th>\n",
       "    </tr>\n",
       "  </thead>\n",
       "  <tbody>\n",
       "    <tr>\n",
       "      <th>1</th>\n",
       "      <td>Arsenal</td>\n",
       "      <td>2</td>\n",
       "      <td>2</td>\n",
       "      <td>5</td>\n",
       "      <td>5</td>\n",
       "      <td>5</td>\n",
       "      <td>84</td>\n",
       "      <td>589</td>\n",
       "      <td>194</td>\n",
       "      <td>32.9</td>\n",
       "      <td>15.50</td>\n",
       "      <td>5.11</td>\n",
       "      <td>0.14</td>\n",
       "      <td>0.42</td>\n",
       "      <td>3</td>\n",
       "      <td>71.9</td>\n",
       "      <td>69.1</td>\n",
       "      <td>0.12</td>\n",
       "      <td>12.1</td>\n",
       "      <td>11.9</td>\n",
       "    </tr>\n",
       "    <tr>\n",
       "      <th>2</th>\n",
       "      <td>Aston Villa</td>\n",
       "      <td>7</td>\n",
       "      <td>10</td>\n",
       "      <td>11</td>\n",
       "      <td>10</td>\n",
       "      <td>10</td>\n",
       "      <td>49</td>\n",
       "      <td>427</td>\n",
       "      <td>145</td>\n",
       "      <td>34.0</td>\n",
       "      <td>11.24</td>\n",
       "      <td>3.82</td>\n",
       "      <td>0.11</td>\n",
       "      <td>0.32</td>\n",
       "      <td>3</td>\n",
       "      <td>50.2</td>\n",
       "      <td>47.2</td>\n",
       "      <td>0.11</td>\n",
       "      <td>-1.2</td>\n",
       "      <td>-1.2</td>\n",
       "    </tr>\n",
       "    <tr>\n",
       "      <th>3</th>\n",
       "      <td>Bournemouth</td>\n",
       "      <td>15</td>\n",
       "      <td>15</td>\n",
       "      <td>20</td>\n",
       "      <td>18</td>\n",
       "      <td>18</td>\n",
       "      <td>37</td>\n",
       "      <td>358</td>\n",
       "      <td>126</td>\n",
       "      <td>35.2</td>\n",
       "      <td>9.42</td>\n",
       "      <td>3.32</td>\n",
       "      <td>0.10</td>\n",
       "      <td>0.29</td>\n",
       "      <td>0</td>\n",
       "      <td>38.6</td>\n",
       "      <td>38.6</td>\n",
       "      <td>0.11</td>\n",
       "      <td>-1.6</td>\n",
       "      <td>-1.6</td>\n",
       "    </tr>\n",
       "    <tr>\n",
       "      <th>4</th>\n",
       "      <td>Brentford</td>\n",
       "      <td>9</td>\n",
       "      <td>7</td>\n",
       "      <td>18</td>\n",
       "      <td>9</td>\n",
       "      <td>8</td>\n",
       "      <td>56</td>\n",
       "      <td>400</td>\n",
       "      <td>147</td>\n",
       "      <td>36.8</td>\n",
       "      <td>10.53</td>\n",
       "      <td>3.87</td>\n",
       "      <td>0.12</td>\n",
       "      <td>0.33</td>\n",
       "      <td>7</td>\n",
       "      <td>56.8</td>\n",
       "      <td>50.6</td>\n",
       "      <td>0.13</td>\n",
       "      <td>-0.8</td>\n",
       "      <td>-1.6</td>\n",
       "    </tr>\n",
       "    <tr>\n",
       "      <th>5</th>\n",
       "      <td>Brighton</td>\n",
       "      <td>6</td>\n",
       "      <td>4</td>\n",
       "      <td>1</td>\n",
       "      <td>1</td>\n",
       "      <td>2</td>\n",
       "      <td>68</td>\n",
       "      <td>607</td>\n",
       "      <td>219</td>\n",
       "      <td>36.1</td>\n",
       "      <td>15.97</td>\n",
       "      <td>5.76</td>\n",
       "      <td>0.10</td>\n",
       "      <td>0.28</td>\n",
       "      <td>6</td>\n",
       "      <td>73.3</td>\n",
       "      <td>68.9</td>\n",
       "      <td>0.12</td>\n",
       "      <td>-5.3</td>\n",
       "      <td>-6.9</td>\n",
       "    </tr>\n",
       "    <tr>\n",
       "      <th>6</th>\n",
       "      <td>Chelsea</td>\n",
       "      <td>12</td>\n",
       "      <td>16</td>\n",
       "      <td>8</td>\n",
       "      <td>8</td>\n",
       "      <td>11</td>\n",
       "      <td>37</td>\n",
       "      <td>481</td>\n",
       "      <td>151</td>\n",
       "      <td>31.4</td>\n",
       "      <td>12.66</td>\n",
       "      <td>3.97</td>\n",
       "      <td>0.07</td>\n",
       "      <td>0.23</td>\n",
       "      <td>3</td>\n",
       "      <td>49.5</td>\n",
       "      <td>47.2</td>\n",
       "      <td>0.10</td>\n",
       "      <td>-12.5</td>\n",
       "      <td>-13.2</td>\n",
       "    </tr>\n",
       "    <tr>\n",
       "      <th>7</th>\n",
       "      <td>Crystal Palace</td>\n",
       "      <td>11</td>\n",
       "      <td>14</td>\n",
       "      <td>13</td>\n",
       "      <td>16</td>\n",
       "      <td>17</td>\n",
       "      <td>38</td>\n",
       "      <td>423</td>\n",
       "      <td>133</td>\n",
       "      <td>31.4</td>\n",
       "      <td>11.13</td>\n",
       "      <td>3.50</td>\n",
       "      <td>0.09</td>\n",
       "      <td>0.28</td>\n",
       "      <td>1</td>\n",
       "      <td>39.3</td>\n",
       "      <td>36.8</td>\n",
       "      <td>0.09</td>\n",
       "      <td>-1.3</td>\n",
       "      <td>0.2</td>\n",
       "    </tr>\n",
       "    <tr>\n",
       "      <th>8</th>\n",
       "      <td>Everton</td>\n",
       "      <td>17</td>\n",
       "      <td>19</td>\n",
       "      <td>12</td>\n",
       "      <td>11</td>\n",
       "      <td>15</td>\n",
       "      <td>32</td>\n",
       "      <td>426</td>\n",
       "      <td>143</td>\n",
       "      <td>33.6</td>\n",
       "      <td>11.21</td>\n",
       "      <td>3.76</td>\n",
       "      <td>0.07</td>\n",
       "      <td>0.20</td>\n",
       "      <td>3</td>\n",
       "      <td>45.2</td>\n",
       "      <td>42.8</td>\n",
       "      <td>0.10</td>\n",
       "      <td>-13.2</td>\n",
       "      <td>-13.8</td>\n",
       "    </tr>\n",
       "    <tr>\n",
       "      <th>9</th>\n",
       "      <td>Fulham</td>\n",
       "      <td>10</td>\n",
       "      <td>9</td>\n",
       "      <td>14</td>\n",
       "      <td>14</td>\n",
       "      <td>14</td>\n",
       "      <td>52</td>\n",
       "      <td>420</td>\n",
       "      <td>137</td>\n",
       "      <td>32.6</td>\n",
       "      <td>11.05</td>\n",
       "      <td>3.61</td>\n",
       "      <td>0.11</td>\n",
       "      <td>0.34</td>\n",
       "      <td>5</td>\n",
       "      <td>46.2</td>\n",
       "      <td>39.1</td>\n",
       "      <td>0.10</td>\n",
       "      <td>5.8</td>\n",
       "      <td>7.9</td>\n",
       "    </tr>\n",
       "    <tr>\n",
       "      <th>10</th>\n",
       "      <td>Leeds United</td>\n",
       "      <td>19</td>\n",
       "      <td>12</td>\n",
       "      <td>10</td>\n",
       "      <td>13</td>\n",
       "      <td>13</td>\n",
       "      <td>45</td>\n",
       "      <td>459</td>\n",
       "      <td>141</td>\n",
       "      <td>30.7</td>\n",
       "      <td>12.08</td>\n",
       "      <td>3.71</td>\n",
       "      <td>0.10</td>\n",
       "      <td>0.31</td>\n",
       "      <td>1</td>\n",
       "      <td>47.4</td>\n",
       "      <td>45.0</td>\n",
       "      <td>0.10</td>\n",
       "      <td>-2.4</td>\n",
       "      <td>-1.0</td>\n",
       "    </tr>\n",
       "    <tr>\n",
       "      <th>11</th>\n",
       "      <td>Leicester City</td>\n",
       "      <td>18</td>\n",
       "      <td>11</td>\n",
       "      <td>16</td>\n",
       "      <td>12</td>\n",
       "      <td>9</td>\n",
       "      <td>49</td>\n",
       "      <td>412</td>\n",
       "      <td>142</td>\n",
       "      <td>34.5</td>\n",
       "      <td>10.84</td>\n",
       "      <td>3.74</td>\n",
       "      <td>0.11</td>\n",
       "      <td>0.32</td>\n",
       "      <td>3</td>\n",
       "      <td>50.6</td>\n",
       "      <td>45.8</td>\n",
       "      <td>0.11</td>\n",
       "      <td>-1.6</td>\n",
       "      <td>0.2</td>\n",
       "    </tr>\n",
       "    <tr>\n",
       "      <th>12</th>\n",
       "      <td>Liverpool</td>\n",
       "      <td>5</td>\n",
       "      <td>3</td>\n",
       "      <td>2</td>\n",
       "      <td>4</td>\n",
       "      <td>3</td>\n",
       "      <td>71</td>\n",
       "      <td>601</td>\n",
       "      <td>203</td>\n",
       "      <td>33.8</td>\n",
       "      <td>15.82</td>\n",
       "      <td>5.34</td>\n",
       "      <td>0.11</td>\n",
       "      <td>0.34</td>\n",
       "      <td>2</td>\n",
       "      <td>72.6</td>\n",
       "      <td>69.5</td>\n",
       "      <td>0.12</td>\n",
       "      <td>-1.6</td>\n",
       "      <td>-0.5</td>\n",
       "    </tr>\n",
       "    <tr>\n",
       "      <th>13</th>\n",
       "      <td>Manchester City</td>\n",
       "      <td>1</td>\n",
       "      <td>1</td>\n",
       "      <td>3</td>\n",
       "      <td>3</td>\n",
       "      <td>1</td>\n",
       "      <td>92</td>\n",
       "      <td>590</td>\n",
       "      <td>205</td>\n",
       "      <td>34.7</td>\n",
       "      <td>15.53</td>\n",
       "      <td>5.39</td>\n",
       "      <td>0.14</td>\n",
       "      <td>0.40</td>\n",
       "      <td>9</td>\n",
       "      <td>78.6</td>\n",
       "      <td>71.1</td>\n",
       "      <td>0.12</td>\n",
       "      <td>13.4</td>\n",
       "      <td>11.9</td>\n",
       "    </tr>\n",
       "    <tr>\n",
       "      <th>14</th>\n",
       "      <td>Manchester Utd</td>\n",
       "      <td>3</td>\n",
       "      <td>8</td>\n",
       "      <td>4</td>\n",
       "      <td>2</td>\n",
       "      <td>6</td>\n",
       "      <td>56</td>\n",
       "      <td>590</td>\n",
       "      <td>206</td>\n",
       "      <td>34.9</td>\n",
       "      <td>15.53</td>\n",
       "      <td>5.42</td>\n",
       "      <td>0.09</td>\n",
       "      <td>0.26</td>\n",
       "      <td>3</td>\n",
       "      <td>67.7</td>\n",
       "      <td>65.3</td>\n",
       "      <td>0.11</td>\n",
       "      <td>-11.7</td>\n",
       "      <td>-12.3</td>\n",
       "    </tr>\n",
       "    <tr>\n",
       "      <th>15</th>\n",
       "      <td>Newcastle Utd</td>\n",
       "      <td>4</td>\n",
       "      <td>6</td>\n",
       "      <td>6</td>\n",
       "      <td>7</td>\n",
       "      <td>4</td>\n",
       "      <td>64</td>\n",
       "      <td>565</td>\n",
       "      <td>184</td>\n",
       "      <td>32.6</td>\n",
       "      <td>14.87</td>\n",
       "      <td>4.84</td>\n",
       "      <td>0.10</td>\n",
       "      <td>0.32</td>\n",
       "      <td>6</td>\n",
       "      <td>72.0</td>\n",
       "      <td>67.4</td>\n",
       "      <td>0.12</td>\n",
       "      <td>-8.0</td>\n",
       "      <td>-9.4</td>\n",
       "    </tr>\n",
       "    <tr>\n",
       "      <th>16</th>\n",
       "      <td>Nott'ham Forest</td>\n",
       "      <td>16</td>\n",
       "      <td>17</td>\n",
       "      <td>19</td>\n",
       "      <td>20</td>\n",
       "      <td>16</td>\n",
       "      <td>36</td>\n",
       "      <td>362</td>\n",
       "      <td>111</td>\n",
       "      <td>30.7</td>\n",
       "      <td>9.53</td>\n",
       "      <td>2.92</td>\n",
       "      <td>0.09</td>\n",
       "      <td>0.30</td>\n",
       "      <td>3</td>\n",
       "      <td>39.3</td>\n",
       "      <td>34.6</td>\n",
       "      <td>0.10</td>\n",
       "      <td>-3.3</td>\n",
       "      <td>-1.6</td>\n",
       "    </tr>\n",
       "    <tr>\n",
       "      <th>17</th>\n",
       "      <td>Southampton</td>\n",
       "      <td>20</td>\n",
       "      <td>18</td>\n",
       "      <td>15</td>\n",
       "      <td>17</td>\n",
       "      <td>19</td>\n",
       "      <td>36</td>\n",
       "      <td>413</td>\n",
       "      <td>132</td>\n",
       "      <td>32.0</td>\n",
       "      <td>10.87</td>\n",
       "      <td>3.47</td>\n",
       "      <td>0.08</td>\n",
       "      <td>0.26</td>\n",
       "      <td>2</td>\n",
       "      <td>37.7</td>\n",
       "      <td>34.5</td>\n",
       "      <td>0.09</td>\n",
       "      <td>-1.7</td>\n",
       "      <td>-0.5</td>\n",
       "    </tr>\n",
       "    <tr>\n",
       "      <th>18</th>\n",
       "      <td>Tottenham</td>\n",
       "      <td>8</td>\n",
       "      <td>5</td>\n",
       "      <td>7</td>\n",
       "      <td>6</td>\n",
       "      <td>7</td>\n",
       "      <td>68</td>\n",
       "      <td>512</td>\n",
       "      <td>186</td>\n",
       "      <td>36.3</td>\n",
       "      <td>13.47</td>\n",
       "      <td>4.89</td>\n",
       "      <td>0.12</td>\n",
       "      <td>0.34</td>\n",
       "      <td>5</td>\n",
       "      <td>57.1</td>\n",
       "      <td>52.4</td>\n",
       "      <td>0.10</td>\n",
       "      <td>10.9</td>\n",
       "      <td>10.6</td>\n",
       "    </tr>\n",
       "    <tr>\n",
       "      <th>19</th>\n",
       "      <td>West Ham</td>\n",
       "      <td>14</td>\n",
       "      <td>13</td>\n",
       "      <td>9</td>\n",
       "      <td>15</td>\n",
       "      <td>12</td>\n",
       "      <td>41</td>\n",
       "      <td>466</td>\n",
       "      <td>133</td>\n",
       "      <td>28.5</td>\n",
       "      <td>12.26</td>\n",
       "      <td>3.50</td>\n",
       "      <td>0.08</td>\n",
       "      <td>0.26</td>\n",
       "      <td>6</td>\n",
       "      <td>49.2</td>\n",
       "      <td>43.7</td>\n",
       "      <td>0.10</td>\n",
       "      <td>-8.2</td>\n",
       "      <td>-8.7</td>\n",
       "    </tr>\n",
       "    <tr>\n",
       "      <th>20</th>\n",
       "      <td>Wolves</td>\n",
       "      <td>13</td>\n",
       "      <td>20</td>\n",
       "      <td>17</td>\n",
       "      <td>19</td>\n",
       "      <td>20</td>\n",
       "      <td>28</td>\n",
       "      <td>409</td>\n",
       "      <td>119</td>\n",
       "      <td>29.1</td>\n",
       "      <td>10.76</td>\n",
       "      <td>3.13</td>\n",
       "      <td>0.06</td>\n",
       "      <td>0.21</td>\n",
       "      <td>3</td>\n",
       "      <td>36.8</td>\n",
       "      <td>34.5</td>\n",
       "      <td>0.09</td>\n",
       "      <td>-8.8</td>\n",
       "      <td>-9.5</td>\n",
       "    </tr>\n",
       "  </tbody>\n",
       "</table>\n",
       "</div>"
      ],
      "text/plain": [
       "              Squad  Position  Gls#  Sh#  SoT#  xG#  Gls   Sh  SoT  SoT%  \\\n",
       "1           Arsenal         2     2    5     5    5   84  589  194  32.9   \n",
       "2       Aston Villa         7    10   11    10   10   49  427  145  34.0   \n",
       "3       Bournemouth        15    15   20    18   18   37  358  126  35.2   \n",
       "4         Brentford         9     7   18     9    8   56  400  147  36.8   \n",
       "5          Brighton         6     4    1     1    2   68  607  219  36.1   \n",
       "6           Chelsea        12    16    8     8   11   37  481  151  31.4   \n",
       "7    Crystal Palace        11    14   13    16   17   38  423  133  31.4   \n",
       "8           Everton        17    19   12    11   15   32  426  143  33.6   \n",
       "9            Fulham        10     9   14    14   14   52  420  137  32.6   \n",
       "10     Leeds United        19    12   10    13   13   45  459  141  30.7   \n",
       "11   Leicester City        18    11   16    12    9   49  412  142  34.5   \n",
       "12        Liverpool         5     3    2     4    3   71  601  203  33.8   \n",
       "13  Manchester City         1     1    3     3    1   92  590  205  34.7   \n",
       "14   Manchester Utd         3     8    4     2    6   56  590  206  34.9   \n",
       "15    Newcastle Utd         4     6    6     7    4   64  565  184  32.6   \n",
       "16  Nott'ham Forest        16    17   19    20   16   36  362  111  30.7   \n",
       "17      Southampton        20    18   15    17   19   36  413  132  32.0   \n",
       "18        Tottenham         8     5    7     6    7   68  512  186  36.3   \n",
       "19         West Ham        14    13    9    15   12   41  466  133  28.5   \n",
       "20           Wolves        13    20   17    19   20   28  409  119  29.1   \n",
       "\n",
       "    Sh/90  SoT/90  G/Sh  G/SoT  PK    xG  npxG  npxG/Sh  G-xG  np:G-xG  \n",
       "1   15.50    5.11  0.14   0.42   3  71.9  69.1     0.12  12.1     11.9  \n",
       "2   11.24    3.82  0.11   0.32   3  50.2  47.2     0.11  -1.2     -1.2  \n",
       "3    9.42    3.32  0.10   0.29   0  38.6  38.6     0.11  -1.6     -1.6  \n",
       "4   10.53    3.87  0.12   0.33   7  56.8  50.6     0.13  -0.8     -1.6  \n",
       "5   15.97    5.76  0.10   0.28   6  73.3  68.9     0.12  -5.3     -6.9  \n",
       "6   12.66    3.97  0.07   0.23   3  49.5  47.2     0.10 -12.5    -13.2  \n",
       "7   11.13    3.50  0.09   0.28   1  39.3  36.8     0.09  -1.3      0.2  \n",
       "8   11.21    3.76  0.07   0.20   3  45.2  42.8     0.10 -13.2    -13.8  \n",
       "9   11.05    3.61  0.11   0.34   5  46.2  39.1     0.10   5.8      7.9  \n",
       "10  12.08    3.71  0.10   0.31   1  47.4  45.0     0.10  -2.4     -1.0  \n",
       "11  10.84    3.74  0.11   0.32   3  50.6  45.8     0.11  -1.6      0.2  \n",
       "12  15.82    5.34  0.11   0.34   2  72.6  69.5     0.12  -1.6     -0.5  \n",
       "13  15.53    5.39  0.14   0.40   9  78.6  71.1     0.12  13.4     11.9  \n",
       "14  15.53    5.42  0.09   0.26   3  67.7  65.3     0.11 -11.7    -12.3  \n",
       "15  14.87    4.84  0.10   0.32   6  72.0  67.4     0.12  -8.0     -9.4  \n",
       "16   9.53    2.92  0.09   0.30   3  39.3  34.6     0.10  -3.3     -1.6  \n",
       "17  10.87    3.47  0.08   0.26   2  37.7  34.5     0.09  -1.7     -0.5  \n",
       "18  13.47    4.89  0.12   0.34   5  57.1  52.4     0.10  10.9     10.6  \n",
       "19  12.26    3.50  0.08   0.26   6  49.2  43.7     0.10  -8.2     -8.7  \n",
       "20  10.76    3.13  0.06   0.21   3  36.8  34.5     0.09  -8.8     -9.5  "
      ]
     },
     "execution_count": 6,
     "metadata": {},
     "output_type": "execute_result"
    }
   ],
   "source": [
    "shooting = shooting.drop(columns=['Unnamed: 0'])\n",
    "shooting.set_index(np.arange(1, len(shooting)+1))\n"
   ]
  },
  {
   "cell_type": "markdown",
   "metadata": {},
   "source": [
    "### Shots"
   ]
  },
  {
   "cell_type": "code",
   "execution_count": 7,
   "metadata": {},
   "outputs": [
    {
     "data": {
      "text/html": [
       "<div>\n",
       "<style scoped>\n",
       "    .dataframe tbody tr th:only-of-type {\n",
       "        vertical-align: middle;\n",
       "    }\n",
       "\n",
       "    .dataframe tbody tr th {\n",
       "        vertical-align: top;\n",
       "    }\n",
       "\n",
       "    .dataframe thead th {\n",
       "        text-align: right;\n",
       "    }\n",
       "</style>\n",
       "<table border=\"1\" class=\"dataframe\">\n",
       "  <thead>\n",
       "    <tr style=\"text-align: right;\">\n",
       "      <th></th>\n",
       "      <th>Squad</th>\n",
       "      <th>Sh</th>\n",
       "    </tr>\n",
       "  </thead>\n",
       "  <tbody>\n",
       "    <tr>\n",
       "      <th>1</th>\n",
       "      <td>Brighton</td>\n",
       "      <td>607</td>\n",
       "    </tr>\n",
       "    <tr>\n",
       "      <th>2</th>\n",
       "      <td>Liverpool</td>\n",
       "      <td>601</td>\n",
       "    </tr>\n",
       "    <tr>\n",
       "      <th>3</th>\n",
       "      <td>Manchester City</td>\n",
       "      <td>590</td>\n",
       "    </tr>\n",
       "    <tr>\n",
       "      <th>4</th>\n",
       "      <td>Manchester Utd</td>\n",
       "      <td>590</td>\n",
       "    </tr>\n",
       "    <tr>\n",
       "      <th>5</th>\n",
       "      <td>Arsenal</td>\n",
       "      <td>589</td>\n",
       "    </tr>\n",
       "  </tbody>\n",
       "</table>\n",
       "</div>"
      ],
      "text/plain": [
       "             Squad   Sh\n",
       "1         Brighton  607\n",
       "2        Liverpool  601\n",
       "3  Manchester City  590\n",
       "4   Manchester Utd  590\n",
       "5          Arsenal  589"
      ]
     },
     "execution_count": 7,
     "metadata": {},
     "output_type": "execute_result"
    }
   ],
   "source": [
    "shooting_sorted = shooting.sort_values('Sh', ascending=False).head(5).reset_index(drop=True)\n",
    "shooting_sorted.index = shooting_sorted.index + 1\n",
    "shooting_sorted[['Squad', 'Sh']] \n"
   ]
  },
  {
   "cell_type": "markdown",
   "metadata": {},
   "source": [
    "Brighton created the most shots in the Premier League last season."
   ]
  },
  {
   "cell_type": "markdown",
   "metadata": {},
   "source": [
    "### Shots on Target"
   ]
  },
  {
   "cell_type": "code",
   "execution_count": 8,
   "metadata": {},
   "outputs": [
    {
     "data": {
      "text/html": [
       "<div>\n",
       "<style scoped>\n",
       "    .dataframe tbody tr th:only-of-type {\n",
       "        vertical-align: middle;\n",
       "    }\n",
       "\n",
       "    .dataframe tbody tr th {\n",
       "        vertical-align: top;\n",
       "    }\n",
       "\n",
       "    .dataframe thead th {\n",
       "        text-align: right;\n",
       "    }\n",
       "</style>\n",
       "<table border=\"1\" class=\"dataframe\">\n",
       "  <thead>\n",
       "    <tr style=\"text-align: right;\">\n",
       "      <th></th>\n",
       "      <th>Squad</th>\n",
       "      <th>SoT</th>\n",
       "    </tr>\n",
       "  </thead>\n",
       "  <tbody>\n",
       "    <tr>\n",
       "      <th>1</th>\n",
       "      <td>Brighton</td>\n",
       "      <td>219</td>\n",
       "    </tr>\n",
       "    <tr>\n",
       "      <th>2</th>\n",
       "      <td>Manchester Utd</td>\n",
       "      <td>206</td>\n",
       "    </tr>\n",
       "    <tr>\n",
       "      <th>3</th>\n",
       "      <td>Manchester City</td>\n",
       "      <td>205</td>\n",
       "    </tr>\n",
       "    <tr>\n",
       "      <th>4</th>\n",
       "      <td>Liverpool</td>\n",
       "      <td>203</td>\n",
       "    </tr>\n",
       "    <tr>\n",
       "      <th>5</th>\n",
       "      <td>Arsenal</td>\n",
       "      <td>194</td>\n",
       "    </tr>\n",
       "  </tbody>\n",
       "</table>\n",
       "</div>"
      ],
      "text/plain": [
       "             Squad  SoT\n",
       "1         Brighton  219\n",
       "2   Manchester Utd  206\n",
       "3  Manchester City  205\n",
       "4        Liverpool  203\n",
       "5          Arsenal  194"
      ]
     },
     "execution_count": 8,
     "metadata": {},
     "output_type": "execute_result"
    }
   ],
   "source": [
    "SoT_sorted = shooting.sort_values('SoT', ascending=False).head(5).reset_index(drop=True)\n",
    "SoT_sorted.index = SoT_sorted.index + 1\n",
    "SoT_sorted[['Squad', 'SoT']]"
   ]
  },
  {
   "cell_type": "markdown",
   "metadata": {},
   "source": [
    "Brighton also had the most shots on target last season."
   ]
  },
  {
   "cell_type": "markdown",
   "metadata": {},
   "source": [
    "### Expected Goals(xG)"
   ]
  },
  {
   "cell_type": "code",
   "execution_count": 9,
   "metadata": {},
   "outputs": [
    {
     "data": {
      "text/html": [
       "<div>\n",
       "<style scoped>\n",
       "    .dataframe tbody tr th:only-of-type {\n",
       "        vertical-align: middle;\n",
       "    }\n",
       "\n",
       "    .dataframe tbody tr th {\n",
       "        vertical-align: top;\n",
       "    }\n",
       "\n",
       "    .dataframe thead th {\n",
       "        text-align: right;\n",
       "    }\n",
       "</style>\n",
       "<table border=\"1\" class=\"dataframe\">\n",
       "  <thead>\n",
       "    <tr style=\"text-align: right;\">\n",
       "      <th></th>\n",
       "      <th>Squad</th>\n",
       "      <th>xG</th>\n",
       "    </tr>\n",
       "  </thead>\n",
       "  <tbody>\n",
       "    <tr>\n",
       "      <th>1</th>\n",
       "      <td>Manchester City</td>\n",
       "      <td>78.6</td>\n",
       "    </tr>\n",
       "    <tr>\n",
       "      <th>2</th>\n",
       "      <td>Brighton</td>\n",
       "      <td>73.3</td>\n",
       "    </tr>\n",
       "    <tr>\n",
       "      <th>3</th>\n",
       "      <td>Liverpool</td>\n",
       "      <td>72.6</td>\n",
       "    </tr>\n",
       "    <tr>\n",
       "      <th>4</th>\n",
       "      <td>Newcastle Utd</td>\n",
       "      <td>72.0</td>\n",
       "    </tr>\n",
       "    <tr>\n",
       "      <th>5</th>\n",
       "      <td>Arsenal</td>\n",
       "      <td>71.9</td>\n",
       "    </tr>\n",
       "  </tbody>\n",
       "</table>\n",
       "</div>"
      ],
      "text/plain": [
       "             Squad    xG\n",
       "1  Manchester City  78.6\n",
       "2         Brighton  73.3\n",
       "3        Liverpool  72.6\n",
       "4    Newcastle Utd  72.0\n",
       "5          Arsenal  71.9"
      ]
     },
     "execution_count": 9,
     "metadata": {},
     "output_type": "execute_result"
    }
   ],
   "source": [
    "shooting_xGsorted = shooting.sort_values('xG', ascending=False).set_index(np.arange(1, len(shooting)+1))\n",
    "shooting_xGsorted[['Squad', 'xG']].head(5)"
   ]
  },
  {
   "cell_type": "markdown",
   "metadata": {},
   "source": [
    "### Goals"
   ]
  },
  {
   "cell_type": "code",
   "execution_count": 10,
   "metadata": {},
   "outputs": [
    {
     "data": {
      "text/html": [
       "<div>\n",
       "<style scoped>\n",
       "    .dataframe tbody tr th:only-of-type {\n",
       "        vertical-align: middle;\n",
       "    }\n",
       "\n",
       "    .dataframe tbody tr th {\n",
       "        vertical-align: top;\n",
       "    }\n",
       "\n",
       "    .dataframe thead th {\n",
       "        text-align: right;\n",
       "    }\n",
       "</style>\n",
       "<table border=\"1\" class=\"dataframe\">\n",
       "  <thead>\n",
       "    <tr style=\"text-align: right;\">\n",
       "      <th></th>\n",
       "      <th>Squad</th>\n",
       "      <th>Gls</th>\n",
       "    </tr>\n",
       "  </thead>\n",
       "  <tbody>\n",
       "    <tr>\n",
       "      <th>1</th>\n",
       "      <td>Manchester City</td>\n",
       "      <td>92</td>\n",
       "    </tr>\n",
       "    <tr>\n",
       "      <th>2</th>\n",
       "      <td>Arsenal</td>\n",
       "      <td>84</td>\n",
       "    </tr>\n",
       "    <tr>\n",
       "      <th>3</th>\n",
       "      <td>Liverpool</td>\n",
       "      <td>71</td>\n",
       "    </tr>\n",
       "    <tr>\n",
       "      <th>4</th>\n",
       "      <td>Tottenham</td>\n",
       "      <td>68</td>\n",
       "    </tr>\n",
       "    <tr>\n",
       "      <th>5</th>\n",
       "      <td>Brighton</td>\n",
       "      <td>68</td>\n",
       "    </tr>\n",
       "  </tbody>\n",
       "</table>\n",
       "</div>"
      ],
      "text/plain": [
       "             Squad  Gls\n",
       "1  Manchester City   92\n",
       "2          Arsenal   84\n",
       "3        Liverpool   71\n",
       "4        Tottenham   68\n",
       "5         Brighton   68"
      ]
     },
     "execution_count": 10,
     "metadata": {},
     "output_type": "execute_result"
    }
   ],
   "source": [
    "top_5_gls = shooting.sort_values('Gls', ascending=False).head(5).reset_index(drop=True)\n",
    "top_5_gls.index = top_5_gls.index + 1\n",
    "top_5_gls[['Squad', 'Gls']]\n",
    "\n"
   ]
  },
  {
   "cell_type": "markdown",
   "metadata": {},
   "source": [
    "### Overperformed xG"
   ]
  },
  {
   "cell_type": "code",
   "execution_count": 11,
   "metadata": {},
   "outputs": [
    {
     "data": {
      "text/html": [
       "<div>\n",
       "<style scoped>\n",
       "    .dataframe tbody tr th:only-of-type {\n",
       "        vertical-align: middle;\n",
       "    }\n",
       "\n",
       "    .dataframe tbody tr th {\n",
       "        vertical-align: top;\n",
       "    }\n",
       "\n",
       "    .dataframe thead th {\n",
       "        text-align: right;\n",
       "    }\n",
       "</style>\n",
       "<table border=\"1\" class=\"dataframe\">\n",
       "  <thead>\n",
       "    <tr style=\"text-align: right;\">\n",
       "      <th></th>\n",
       "      <th>Squad</th>\n",
       "      <th>Gls</th>\n",
       "      <th>xG</th>\n",
       "    </tr>\n",
       "  </thead>\n",
       "  <tbody>\n",
       "    <tr>\n",
       "      <th>1</th>\n",
       "      <td>Manchester City</td>\n",
       "      <td>92</td>\n",
       "      <td>78.6</td>\n",
       "    </tr>\n",
       "    <tr>\n",
       "      <th>2</th>\n",
       "      <td>Arsenal</td>\n",
       "      <td>84</td>\n",
       "      <td>71.9</td>\n",
       "    </tr>\n",
       "    <tr>\n",
       "      <th>3</th>\n",
       "      <td>Tottenham</td>\n",
       "      <td>68</td>\n",
       "      <td>57.1</td>\n",
       "    </tr>\n",
       "    <tr>\n",
       "      <th>4</th>\n",
       "      <td>Fulham</td>\n",
       "      <td>52</td>\n",
       "      <td>46.2</td>\n",
       "    </tr>\n",
       "  </tbody>\n",
       "</table>\n",
       "</div>"
      ],
      "text/plain": [
       "             Squad  Gls    xG\n",
       "1  Manchester City   92  78.6\n",
       "2          Arsenal   84  71.9\n",
       "3        Tottenham   68  57.1\n",
       "4           Fulham   52  46.2"
      ]
     },
     "execution_count": 11,
     "metadata": {},
     "output_type": "execute_result"
    }
   ],
   "source": [
    "overperformed_xG = shooting[shooting['Gls'] > shooting['xG']].sort_values('Gls', ascending=False).reset_index(drop=True)\n",
    "overperformed_xG.index = overperformed_xG.index + 1\n",
    "overperformed_xG[['Squad', 'Gls', 'xG']]\n"
   ]
  },
  {
   "cell_type": "markdown",
   "metadata": {},
   "source": [
    "### Underperformed xG"
   ]
  },
  {
   "cell_type": "code",
   "execution_count": 12,
   "metadata": {},
   "outputs": [
    {
     "data": {
      "text/html": [
       "<div>\n",
       "<style scoped>\n",
       "    .dataframe tbody tr th:only-of-type {\n",
       "        vertical-align: middle;\n",
       "    }\n",
       "\n",
       "    .dataframe tbody tr th {\n",
       "        vertical-align: top;\n",
       "    }\n",
       "\n",
       "    .dataframe thead th {\n",
       "        text-align: right;\n",
       "    }\n",
       "</style>\n",
       "<table border=\"1\" class=\"dataframe\">\n",
       "  <thead>\n",
       "    <tr style=\"text-align: right;\">\n",
       "      <th></th>\n",
       "      <th>Squad</th>\n",
       "      <th>Gls</th>\n",
       "      <th>xG</th>\n",
       "    </tr>\n",
       "  </thead>\n",
       "  <tbody>\n",
       "    <tr>\n",
       "      <th>1</th>\n",
       "      <td>Liverpool</td>\n",
       "      <td>71</td>\n",
       "      <td>72.6</td>\n",
       "    </tr>\n",
       "    <tr>\n",
       "      <th>2</th>\n",
       "      <td>Brighton</td>\n",
       "      <td>68</td>\n",
       "      <td>73.3</td>\n",
       "    </tr>\n",
       "    <tr>\n",
       "      <th>3</th>\n",
       "      <td>Newcastle Utd</td>\n",
       "      <td>64</td>\n",
       "      <td>72.0</td>\n",
       "    </tr>\n",
       "    <tr>\n",
       "      <th>4</th>\n",
       "      <td>Brentford</td>\n",
       "      <td>56</td>\n",
       "      <td>56.8</td>\n",
       "    </tr>\n",
       "    <tr>\n",
       "      <th>5</th>\n",
       "      <td>Manchester Utd</td>\n",
       "      <td>56</td>\n",
       "      <td>67.7</td>\n",
       "    </tr>\n",
       "    <tr>\n",
       "      <th>6</th>\n",
       "      <td>Aston Villa</td>\n",
       "      <td>49</td>\n",
       "      <td>50.2</td>\n",
       "    </tr>\n",
       "    <tr>\n",
       "      <th>7</th>\n",
       "      <td>Leicester City</td>\n",
       "      <td>49</td>\n",
       "      <td>50.6</td>\n",
       "    </tr>\n",
       "    <tr>\n",
       "      <th>8</th>\n",
       "      <td>Leeds United</td>\n",
       "      <td>45</td>\n",
       "      <td>47.4</td>\n",
       "    </tr>\n",
       "    <tr>\n",
       "      <th>9</th>\n",
       "      <td>West Ham</td>\n",
       "      <td>41</td>\n",
       "      <td>49.2</td>\n",
       "    </tr>\n",
       "    <tr>\n",
       "      <th>10</th>\n",
       "      <td>Crystal Palace</td>\n",
       "      <td>38</td>\n",
       "      <td>39.3</td>\n",
       "    </tr>\n",
       "    <tr>\n",
       "      <th>11</th>\n",
       "      <td>Bournemouth</td>\n",
       "      <td>37</td>\n",
       "      <td>38.6</td>\n",
       "    </tr>\n",
       "    <tr>\n",
       "      <th>12</th>\n",
       "      <td>Chelsea</td>\n",
       "      <td>37</td>\n",
       "      <td>49.5</td>\n",
       "    </tr>\n",
       "    <tr>\n",
       "      <th>13</th>\n",
       "      <td>Nott'ham Forest</td>\n",
       "      <td>36</td>\n",
       "      <td>39.3</td>\n",
       "    </tr>\n",
       "    <tr>\n",
       "      <th>14</th>\n",
       "      <td>Southampton</td>\n",
       "      <td>36</td>\n",
       "      <td>37.7</td>\n",
       "    </tr>\n",
       "    <tr>\n",
       "      <th>15</th>\n",
       "      <td>Everton</td>\n",
       "      <td>32</td>\n",
       "      <td>45.2</td>\n",
       "    </tr>\n",
       "    <tr>\n",
       "      <th>16</th>\n",
       "      <td>Wolves</td>\n",
       "      <td>28</td>\n",
       "      <td>36.8</td>\n",
       "    </tr>\n",
       "  </tbody>\n",
       "</table>\n",
       "</div>"
      ],
      "text/plain": [
       "              Squad  Gls    xG\n",
       "1         Liverpool   71  72.6\n",
       "2          Brighton   68  73.3\n",
       "3     Newcastle Utd   64  72.0\n",
       "4         Brentford   56  56.8\n",
       "5    Manchester Utd   56  67.7\n",
       "6       Aston Villa   49  50.2\n",
       "7    Leicester City   49  50.6\n",
       "8      Leeds United   45  47.4\n",
       "9          West Ham   41  49.2\n",
       "10   Crystal Palace   38  39.3\n",
       "11      Bournemouth   37  38.6\n",
       "12          Chelsea   37  49.5\n",
       "13  Nott'ham Forest   36  39.3\n",
       "14      Southampton   36  37.7\n",
       "15          Everton   32  45.2\n",
       "16           Wolves   28  36.8"
      ]
     },
     "execution_count": 12,
     "metadata": {},
     "output_type": "execute_result"
    }
   ],
   "source": [
    "underperformed_xG = shooting[shooting['Gls'] < shooting['xG']].sort_values('Gls', ascending=False).reset_index(drop=True)\n",
    "underperformed_xG.index = underperformed_xG.index + 1\n",
    "underperformed_xG[['Squad', 'Gls', 'xG']]"
   ]
  },
  {
   "cell_type": "markdown",
   "metadata": {},
   "source": [
    "### Goals per Shots on Target"
   ]
  },
  {
   "cell_type": "code",
   "execution_count": 13,
   "metadata": {},
   "outputs": [
    {
     "data": {
      "text/html": [
       "<div>\n",
       "<style scoped>\n",
       "    .dataframe tbody tr th:only-of-type {\n",
       "        vertical-align: middle;\n",
       "    }\n",
       "\n",
       "    .dataframe tbody tr th {\n",
       "        vertical-align: top;\n",
       "    }\n",
       "\n",
       "    .dataframe thead th {\n",
       "        text-align: right;\n",
       "    }\n",
       "</style>\n",
       "<table border=\"1\" class=\"dataframe\">\n",
       "  <thead>\n",
       "    <tr style=\"text-align: right;\">\n",
       "      <th></th>\n",
       "      <th>Squad</th>\n",
       "      <th>G/SoT</th>\n",
       "      <th>Gls</th>\n",
       "    </tr>\n",
       "  </thead>\n",
       "  <tbody>\n",
       "    <tr>\n",
       "      <th>1</th>\n",
       "      <td>Arsenal</td>\n",
       "      <td>0.42</td>\n",
       "      <td>84</td>\n",
       "    </tr>\n",
       "    <tr>\n",
       "      <th>2</th>\n",
       "      <td>Manchester City</td>\n",
       "      <td>0.40</td>\n",
       "      <td>92</td>\n",
       "    </tr>\n",
       "    <tr>\n",
       "      <th>3</th>\n",
       "      <td>Fulham</td>\n",
       "      <td>0.34</td>\n",
       "      <td>52</td>\n",
       "    </tr>\n",
       "    <tr>\n",
       "      <th>4</th>\n",
       "      <td>Tottenham</td>\n",
       "      <td>0.34</td>\n",
       "      <td>68</td>\n",
       "    </tr>\n",
       "    <tr>\n",
       "      <th>5</th>\n",
       "      <td>Liverpool</td>\n",
       "      <td>0.34</td>\n",
       "      <td>71</td>\n",
       "    </tr>\n",
       "  </tbody>\n",
       "</table>\n",
       "</div>"
      ],
      "text/plain": [
       "             Squad  G/SoT  Gls\n",
       "1          Arsenal   0.42   84\n",
       "2  Manchester City   0.40   92\n",
       "3           Fulham   0.34   52\n",
       "4        Tottenham   0.34   68\n",
       "5        Liverpool   0.34   71"
      ]
     },
     "execution_count": 13,
     "metadata": {},
     "output_type": "execute_result"
    }
   ],
   "source": [
    "goals_SoT_5 = shooting.sort_values('G/SoT', ascending=False).head(5).reset_index(drop=True)\n",
    "goals_SoT_5.index = goals_SoT_5.index + 1\n",
    "goals_SoT_5[['Squad', 'G/SoT', 'Gls']]"
   ]
  },
  {
   "cell_type": "code",
   "execution_count": 14,
   "metadata": {},
   "outputs": [
    {
     "data": {
      "text/html": [
       "<div>\n",
       "<style scoped>\n",
       "    .dataframe tbody tr th:only-of-type {\n",
       "        vertical-align: middle;\n",
       "    }\n",
       "\n",
       "    .dataframe tbody tr th {\n",
       "        vertical-align: top;\n",
       "    }\n",
       "\n",
       "    .dataframe thead th {\n",
       "        text-align: right;\n",
       "    }\n",
       "</style>\n",
       "<table border=\"1\" class=\"dataframe\">\n",
       "  <thead>\n",
       "    <tr style=\"text-align: right;\">\n",
       "      <th></th>\n",
       "      <th>Squad</th>\n",
       "      <th>G/SoT</th>\n",
       "      <th>Gls</th>\n",
       "    </tr>\n",
       "  </thead>\n",
       "  <tbody>\n",
       "    <tr>\n",
       "      <th>1</th>\n",
       "      <td>Arsenal</td>\n",
       "      <td>0.42</td>\n",
       "      <td>84</td>\n",
       "    </tr>\n",
       "    <tr>\n",
       "      <th>2</th>\n",
       "      <td>Manchester City</td>\n",
       "      <td>0.40</td>\n",
       "      <td>92</td>\n",
       "    </tr>\n",
       "    <tr>\n",
       "      <th>3</th>\n",
       "      <td>Fulham</td>\n",
       "      <td>0.34</td>\n",
       "      <td>52</td>\n",
       "    </tr>\n",
       "    <tr>\n",
       "      <th>4</th>\n",
       "      <td>Tottenham</td>\n",
       "      <td>0.34</td>\n",
       "      <td>68</td>\n",
       "    </tr>\n",
       "    <tr>\n",
       "      <th>5</th>\n",
       "      <td>Liverpool</td>\n",
       "      <td>0.34</td>\n",
       "      <td>71</td>\n",
       "    </tr>\n",
       "    <tr>\n",
       "      <th>6</th>\n",
       "      <td>Brentford</td>\n",
       "      <td>0.33</td>\n",
       "      <td>56</td>\n",
       "    </tr>\n",
       "    <tr>\n",
       "      <th>7</th>\n",
       "      <td>Newcastle Utd</td>\n",
       "      <td>0.32</td>\n",
       "      <td>64</td>\n",
       "    </tr>\n",
       "    <tr>\n",
       "      <th>8</th>\n",
       "      <td>Aston Villa</td>\n",
       "      <td>0.32</td>\n",
       "      <td>49</td>\n",
       "    </tr>\n",
       "    <tr>\n",
       "      <th>9</th>\n",
       "      <td>Leicester City</td>\n",
       "      <td>0.32</td>\n",
       "      <td>49</td>\n",
       "    </tr>\n",
       "    <tr>\n",
       "      <th>10</th>\n",
       "      <td>Leeds United</td>\n",
       "      <td>0.31</td>\n",
       "      <td>45</td>\n",
       "    </tr>\n",
       "    <tr>\n",
       "      <th>11</th>\n",
       "      <td>Nott'ham Forest</td>\n",
       "      <td>0.30</td>\n",
       "      <td>36</td>\n",
       "    </tr>\n",
       "    <tr>\n",
       "      <th>12</th>\n",
       "      <td>Bournemouth</td>\n",
       "      <td>0.29</td>\n",
       "      <td>37</td>\n",
       "    </tr>\n",
       "    <tr>\n",
       "      <th>13</th>\n",
       "      <td>Crystal Palace</td>\n",
       "      <td>0.28</td>\n",
       "      <td>38</td>\n",
       "    </tr>\n",
       "    <tr>\n",
       "      <th>14</th>\n",
       "      <td>Brighton</td>\n",
       "      <td>0.28</td>\n",
       "      <td>68</td>\n",
       "    </tr>\n",
       "    <tr>\n",
       "      <th>15</th>\n",
       "      <td>Manchester Utd</td>\n",
       "      <td>0.26</td>\n",
       "      <td>56</td>\n",
       "    </tr>\n",
       "    <tr>\n",
       "      <th>16</th>\n",
       "      <td>Southampton</td>\n",
       "      <td>0.26</td>\n",
       "      <td>36</td>\n",
       "    </tr>\n",
       "    <tr>\n",
       "      <th>17</th>\n",
       "      <td>West Ham</td>\n",
       "      <td>0.26</td>\n",
       "      <td>41</td>\n",
       "    </tr>\n",
       "    <tr>\n",
       "      <th>18</th>\n",
       "      <td>Chelsea</td>\n",
       "      <td>0.23</td>\n",
       "      <td>37</td>\n",
       "    </tr>\n",
       "    <tr>\n",
       "      <th>19</th>\n",
       "      <td>Wolves</td>\n",
       "      <td>0.21</td>\n",
       "      <td>28</td>\n",
       "    </tr>\n",
       "    <tr>\n",
       "      <th>20</th>\n",
       "      <td>Everton</td>\n",
       "      <td>0.20</td>\n",
       "      <td>32</td>\n",
       "    </tr>\n",
       "  </tbody>\n",
       "</table>\n",
       "</div>"
      ],
      "text/plain": [
       "              Squad  G/SoT  Gls\n",
       "1           Arsenal   0.42   84\n",
       "2   Manchester City   0.40   92\n",
       "3            Fulham   0.34   52\n",
       "4         Tottenham   0.34   68\n",
       "5         Liverpool   0.34   71\n",
       "6         Brentford   0.33   56\n",
       "7     Newcastle Utd   0.32   64\n",
       "8       Aston Villa   0.32   49\n",
       "9    Leicester City   0.32   49\n",
       "10     Leeds United   0.31   45\n",
       "11  Nott'ham Forest   0.30   36\n",
       "12      Bournemouth   0.29   37\n",
       "13   Crystal Palace   0.28   38\n",
       "14         Brighton   0.28   68\n",
       "15   Manchester Utd   0.26   56\n",
       "16      Southampton   0.26   36\n",
       "17         West Ham   0.26   41\n",
       "18          Chelsea   0.23   37\n",
       "19           Wolves   0.21   28\n",
       "20          Everton   0.20   32"
      ]
     },
     "execution_count": 14,
     "metadata": {},
     "output_type": "execute_result"
    }
   ],
   "source": [
    "goals_SoT = shooting.sort_values('G/SoT', ascending=False).reset_index(drop=True)\n",
    "goals_SoT.index = goals_SoT.index + 1\n",
    "goals_SoT[['Squad', 'G/SoT', 'Gls']]"
   ]
  },
  {
   "cell_type": "code",
   "execution_count": 15,
   "metadata": {},
   "outputs": [
    {
     "data": {
      "image/png": "[encoded data removed]",
      "text/plain": [
       "<Figure size 640x480 with 1 Axes>"
      ]
     },
     "metadata": {},
     "output_type": "display_data"
    }
   ],
   "source": [
    "# Calculate line of best fit\n",
    "slope, intercept, r_value, p_value, std_err = linregress(goals_SoT['G/SoT'], goals_SoT['Gls'])\n",
    "line = slope * goals_SoT['G/SoT'] + intercept\n",
    "\n",
    "# Plot scatter plot with line of best fit\n",
    "plt.scatter(goals_SoT['G/SoT'], goals_SoT['Gls'],)\n",
    "plt.plot(goals_SoT['G/SoT'], line, color='red', label='Line of Best Fit')\n",
    "\n",
    "# Add labels and title\n",
    "plt.xlabel('G/SoT')\n",
    "plt.ylabel('Gls')\n",
    "plt.title('Relationship between Goals per Shots on Target and Goals')\n",
    "\n",
    "# Calculate Pearson correlation coefficient\n",
    "correlation, _ = pearsonr(goals_SoT['G/SoT'], goals_SoT['Gls'])\n",
    "plt.text(0.05, 0.95, f'Correlation: {correlation:.2f}', transform=plt.gca().transAxes)\n",
    "\n",
    "# Show the plot\n",
    "plt.show()\n"
   ]
  },
  {
   "cell_type": "markdown",
   "metadata": {},
   "source": [
    "### Goals per Shots"
   ]
  },
  {
   "cell_type": "code",
   "execution_count": 16,
   "metadata": {},
   "outputs": [
    {
     "data": {
      "text/html": [
       "<div>\n",
       "<style scoped>\n",
       "    .dataframe tbody tr th:only-of-type {\n",
       "        vertical-align: middle;\n",
       "    }\n",
       "\n",
       "    .dataframe tbody tr th {\n",
       "        vertical-align: top;\n",
       "    }\n",
       "\n",
       "    .dataframe thead th {\n",
       "        text-align: right;\n",
       "    }\n",
       "</style>\n",
       "<table border=\"1\" class=\"dataframe\">\n",
       "  <thead>\n",
       "    <tr style=\"text-align: right;\">\n",
       "      <th></th>\n",
       "      <th>Squad</th>\n",
       "      <th>G/Sh</th>\n",
       "      <th>Gls</th>\n",
       "    </tr>\n",
       "  </thead>\n",
       "  <tbody>\n",
       "    <tr>\n",
       "      <th>1</th>\n",
       "      <td>Arsenal</td>\n",
       "      <td>0.14</td>\n",
       "      <td>84</td>\n",
       "    </tr>\n",
       "    <tr>\n",
       "      <th>2</th>\n",
       "      <td>Manchester City</td>\n",
       "      <td>0.14</td>\n",
       "      <td>92</td>\n",
       "    </tr>\n",
       "    <tr>\n",
       "      <th>3</th>\n",
       "      <td>Tottenham</td>\n",
       "      <td>0.12</td>\n",
       "      <td>68</td>\n",
       "    </tr>\n",
       "    <tr>\n",
       "      <th>4</th>\n",
       "      <td>Brentford</td>\n",
       "      <td>0.12</td>\n",
       "      <td>56</td>\n",
       "    </tr>\n",
       "    <tr>\n",
       "      <th>5</th>\n",
       "      <td>Fulham</td>\n",
       "      <td>0.11</td>\n",
       "      <td>52</td>\n",
       "    </tr>\n",
       "  </tbody>\n",
       "</table>\n",
       "</div>"
      ],
      "text/plain": [
       "             Squad  G/Sh  Gls\n",
       "1          Arsenal  0.14   84\n",
       "2  Manchester City  0.14   92\n",
       "3        Tottenham  0.12   68\n",
       "4        Brentford  0.12   56\n",
       "5           Fulham  0.11   52"
      ]
     },
     "execution_count": 16,
     "metadata": {},
     "output_type": "execute_result"
    }
   ],
   "source": [
    "goals_Shot_5 = shooting.sort_values('G/Sh', ascending=False).head(5).reset_index(drop=True)\n",
    "goals_Shot_5.index = goals_Shot_5.index + 1\n",
    "goals_Shot_5[['Squad', 'G/Sh', 'Gls']]"
   ]
  },
  {
   "cell_type": "code",
   "execution_count": 17,
   "metadata": {},
   "outputs": [
    {
     "data": {
      "text/html": [
       "<div>\n",
       "<style scoped>\n",
       "    .dataframe tbody tr th:only-of-type {\n",
       "        vertical-align: middle;\n",
       "    }\n",
       "\n",
       "    .dataframe tbody tr th {\n",
       "        vertical-align: top;\n",
       "    }\n",
       "\n",
       "    .dataframe thead th {\n",
       "        text-align: right;\n",
       "    }\n",
       "</style>\n",
       "<table border=\"1\" class=\"dataframe\">\n",
       "  <thead>\n",
       "    <tr style=\"text-align: right;\">\n",
       "      <th></th>\n",
       "      <th>Squad</th>\n",
       "      <th>G/Sh</th>\n",
       "      <th>Gls</th>\n",
       "    </tr>\n",
       "  </thead>\n",
       "  <tbody>\n",
       "    <tr>\n",
       "      <th>1</th>\n",
       "      <td>Arsenal</td>\n",
       "      <td>0.14</td>\n",
       "      <td>84</td>\n",
       "    </tr>\n",
       "    <tr>\n",
       "      <th>2</th>\n",
       "      <td>Manchester City</td>\n",
       "      <td>0.14</td>\n",
       "      <td>92</td>\n",
       "    </tr>\n",
       "    <tr>\n",
       "      <th>3</th>\n",
       "      <td>Tottenham</td>\n",
       "      <td>0.12</td>\n",
       "      <td>68</td>\n",
       "    </tr>\n",
       "    <tr>\n",
       "      <th>4</th>\n",
       "      <td>Brentford</td>\n",
       "      <td>0.12</td>\n",
       "      <td>56</td>\n",
       "    </tr>\n",
       "    <tr>\n",
       "      <th>5</th>\n",
       "      <td>Fulham</td>\n",
       "      <td>0.11</td>\n",
       "      <td>52</td>\n",
       "    </tr>\n",
       "    <tr>\n",
       "      <th>6</th>\n",
       "      <td>Liverpool</td>\n",
       "      <td>0.11</td>\n",
       "      <td>71</td>\n",
       "    </tr>\n",
       "    <tr>\n",
       "      <th>7</th>\n",
       "      <td>Aston Villa</td>\n",
       "      <td>0.11</td>\n",
       "      <td>49</td>\n",
       "    </tr>\n",
       "    <tr>\n",
       "      <th>8</th>\n",
       "      <td>Leicester City</td>\n",
       "      <td>0.11</td>\n",
       "      <td>49</td>\n",
       "    </tr>\n",
       "    <tr>\n",
       "      <th>9</th>\n",
       "      <td>Leeds United</td>\n",
       "      <td>0.10</td>\n",
       "      <td>45</td>\n",
       "    </tr>\n",
       "    <tr>\n",
       "      <th>10</th>\n",
       "      <td>Brighton</td>\n",
       "      <td>0.10</td>\n",
       "      <td>68</td>\n",
       "    </tr>\n",
       "    <tr>\n",
       "      <th>11</th>\n",
       "      <td>Newcastle Utd</td>\n",
       "      <td>0.10</td>\n",
       "      <td>64</td>\n",
       "    </tr>\n",
       "    <tr>\n",
       "      <th>12</th>\n",
       "      <td>Bournemouth</td>\n",
       "      <td>0.10</td>\n",
       "      <td>37</td>\n",
       "    </tr>\n",
       "    <tr>\n",
       "      <th>13</th>\n",
       "      <td>Crystal Palace</td>\n",
       "      <td>0.09</td>\n",
       "      <td>38</td>\n",
       "    </tr>\n",
       "    <tr>\n",
       "      <th>14</th>\n",
       "      <td>Manchester Utd</td>\n",
       "      <td>0.09</td>\n",
       "      <td>56</td>\n",
       "    </tr>\n",
       "    <tr>\n",
       "      <th>15</th>\n",
       "      <td>Nott'ham Forest</td>\n",
       "      <td>0.09</td>\n",
       "      <td>36</td>\n",
       "    </tr>\n",
       "    <tr>\n",
       "      <th>16</th>\n",
       "      <td>Southampton</td>\n",
       "      <td>0.08</td>\n",
       "      <td>36</td>\n",
       "    </tr>\n",
       "    <tr>\n",
       "      <th>17</th>\n",
       "      <td>West Ham</td>\n",
       "      <td>0.08</td>\n",
       "      <td>41</td>\n",
       "    </tr>\n",
       "    <tr>\n",
       "      <th>18</th>\n",
       "      <td>Everton</td>\n",
       "      <td>0.07</td>\n",
       "      <td>32</td>\n",
       "    </tr>\n",
       "    <tr>\n",
       "      <th>19</th>\n",
       "      <td>Chelsea</td>\n",
       "      <td>0.07</td>\n",
       "      <td>37</td>\n",
       "    </tr>\n",
       "    <tr>\n",
       "      <th>20</th>\n",
       "      <td>Wolves</td>\n",
       "      <td>0.06</td>\n",
       "      <td>28</td>\n",
       "    </tr>\n",
       "  </tbody>\n",
       "</table>\n",
       "</div>"
      ],
      "text/plain": [
       "              Squad  G/Sh  Gls\n",
       "1           Arsenal  0.14   84\n",
       "2   Manchester City  0.14   92\n",
       "3         Tottenham  0.12   68\n",
       "4         Brentford  0.12   56\n",
       "5            Fulham  0.11   52\n",
       "6         Liverpool  0.11   71\n",
       "7       Aston Villa  0.11   49\n",
       "8    Leicester City  0.11   49\n",
       "9      Leeds United  0.10   45\n",
       "10         Brighton  0.10   68\n",
       "11    Newcastle Utd  0.10   64\n",
       "12      Bournemouth  0.10   37\n",
       "13   Crystal Palace  0.09   38\n",
       "14   Manchester Utd  0.09   56\n",
       "15  Nott'ham Forest  0.09   36\n",
       "16      Southampton  0.08   36\n",
       "17         West Ham  0.08   41\n",
       "18          Everton  0.07   32\n",
       "19          Chelsea  0.07   37\n",
       "20           Wolves  0.06   28"
      ]
     },
     "execution_count": 17,
     "metadata": {},
     "output_type": "execute_result"
    }
   ],
   "source": [
    "goals_SoT = shooting.sort_values('G/Sh', ascending=False).reset_index(drop=True)\n",
    "goals_SoT.index = goals_SoT.index + 1\n",
    "goals_SoT[['Squad', 'G/Sh', 'Gls']]"
   ]
  },
  {
   "cell_type": "code",
   "execution_count": 18,
   "metadata": {},
   "outputs": [
    {
     "data": {
      "image/png": "[encoded data removed]",
      "text/plain": [
       "<Figure size 640x480 with 1 Axes>"
      ]
     },
     "metadata": {},
     "output_type": "display_data"
    }
   ],
   "source": [
    "# Calculate line of best fit\n",
    "slope, intercept, r_value, p_value, std_err = linregress(goals_SoT['G/Sh'], goals_SoT['Gls'])\n",
    "line = slope * goals_SoT['G/Sh'] + intercept\n",
    "\n",
    "# Plot scatter plot with line of best fit\n",
    "plt.scatter(goals_SoT['G/Sh'], goals_SoT['Gls'])\n",
    "plt.plot(goals_SoT['G/Sh'], line, color='red', label='Line of Best Fit')\n",
    "\n",
    "# Add labels and title\n",
    "plt.xlabel('G/Sh')\n",
    "plt.ylabel('Gls')\n",
    "plt.title('Relationship between Goals per Shots and Goals')\n",
    "\n",
    "# Calculate Pearson correlation coefficient\n",
    "correlation, _ = pearsonr(goals_SoT['G/Sh'], goals_SoT['Gls'])\n",
    "plt.text(0.05, 0.95, f'Correlation: {correlation:.2f}', transform=plt.gca().transAxes)\n",
    "\n",
    "# Show the plot\n",
    "plt.show()"
   ]
  },
  {
   "cell_type": "markdown",
   "metadata": {},
   "source": [
    "### Correlation Analysis"
   ]
  },
  {
   "cell_type": "code",
   "execution_count": 19,
   "metadata": {},
   "outputs": [
    {
     "data": {
      "text/html": [
       "<div>\n",
       "<style scoped>\n",
       "    .dataframe tbody tr th:only-of-type {\n",
       "        vertical-align: middle;\n",
       "    }\n",
       "\n",
       "    .dataframe tbody tr th {\n",
       "        vertical-align: top;\n",
       "    }\n",
       "\n",
       "    .dataframe thead th {\n",
       "        text-align: right;\n",
       "    }\n",
       "</style>\n",
       "<table border=\"1\" class=\"dataframe\">\n",
       "  <thead>\n",
       "    <tr style=\"text-align: right;\">\n",
       "      <th></th>\n",
       "      <th>Squad</th>\n",
       "      <th>Position</th>\n",
       "      <th>Gls#</th>\n",
       "      <th>Sh#</th>\n",
       "      <th>SoT#</th>\n",
       "      <th>xG#</th>\n",
       "      <th>Gls</th>\n",
       "      <th>Sh</th>\n",
       "      <th>SoT</th>\n",
       "      <th>SoT%</th>\n",
       "      <th>Sh/90</th>\n",
       "      <th>SoT/90</th>\n",
       "      <th>G/Sh</th>\n",
       "      <th>G/SoT</th>\n",
       "      <th>PK</th>\n",
       "      <th>xG</th>\n",
       "      <th>npxG</th>\n",
       "      <th>npxG/Sh</th>\n",
       "      <th>G-xG</th>\n",
       "      <th>np:G-xG</th>\n",
       "    </tr>\n",
       "  </thead>\n",
       "  <tbody>\n",
       "    <tr>\n",
       "      <th>0</th>\n",
       "      <td>Arsenal</td>\n",
       "      <td>2</td>\n",
       "      <td>2</td>\n",
       "      <td>5</td>\n",
       "      <td>5</td>\n",
       "      <td>5</td>\n",
       "      <td>84</td>\n",
       "      <td>589</td>\n",
       "      <td>194</td>\n",
       "      <td>32.9</td>\n",
       "      <td>15.50</td>\n",
       "      <td>5.11</td>\n",
       "      <td>0.14</td>\n",
       "      <td>0.42</td>\n",
       "      <td>3</td>\n",
       "      <td>71.9</td>\n",
       "      <td>69.1</td>\n",
       "      <td>0.12</td>\n",
       "      <td>12.1</td>\n",
       "      <td>11.9</td>\n",
       "    </tr>\n",
       "    <tr>\n",
       "      <th>1</th>\n",
       "      <td>Aston Villa</td>\n",
       "      <td>7</td>\n",
       "      <td>10</td>\n",
       "      <td>11</td>\n",
       "      <td>10</td>\n",
       "      <td>10</td>\n",
       "      <td>49</td>\n",
       "      <td>427</td>\n",
       "      <td>145</td>\n",
       "      <td>34.0</td>\n",
       "      <td>11.24</td>\n",
       "      <td>3.82</td>\n",
       "      <td>0.11</td>\n",
       "      <td>0.32</td>\n",
       "      <td>3</td>\n",
       "      <td>50.2</td>\n",
       "      <td>47.2</td>\n",
       "      <td>0.11</td>\n",
       "      <td>-1.2</td>\n",
       "      <td>-1.2</td>\n",
       "    </tr>\n",
       "    <tr>\n",
       "      <th>2</th>\n",
       "      <td>Bournemouth</td>\n",
       "      <td>15</td>\n",
       "      <td>15</td>\n",
       "      <td>20</td>\n",
       "      <td>18</td>\n",
       "      <td>18</td>\n",
       "      <td>37</td>\n",
       "      <td>358</td>\n",
       "      <td>126</td>\n",
       "      <td>35.2</td>\n",
       "      <td>9.42</td>\n",
       "      <td>3.32</td>\n",
       "      <td>0.10</td>\n",
       "      <td>0.29</td>\n",
       "      <td>0</td>\n",
       "      <td>38.6</td>\n",
       "      <td>38.6</td>\n",
       "      <td>0.11</td>\n",
       "      <td>-1.6</td>\n",
       "      <td>-1.6</td>\n",
       "    </tr>\n",
       "    <tr>\n",
       "      <th>3</th>\n",
       "      <td>Brentford</td>\n",
       "      <td>9</td>\n",
       "      <td>7</td>\n",
       "      <td>18</td>\n",
       "      <td>9</td>\n",
       "      <td>8</td>\n",
       "      <td>56</td>\n",
       "      <td>400</td>\n",
       "      <td>147</td>\n",
       "      <td>36.8</td>\n",
       "      <td>10.53</td>\n",
       "      <td>3.87</td>\n",
       "      <td>0.12</td>\n",
       "      <td>0.33</td>\n",
       "      <td>7</td>\n",
       "      <td>56.8</td>\n",
       "      <td>50.6</td>\n",
       "      <td>0.13</td>\n",
       "      <td>-0.8</td>\n",
       "      <td>-1.6</td>\n",
       "    </tr>\n",
       "    <tr>\n",
       "      <th>4</th>\n",
       "      <td>Brighton</td>\n",
       "      <td>6</td>\n",
       "      <td>4</td>\n",
       "      <td>1</td>\n",
       "      <td>1</td>\n",
       "      <td>2</td>\n",
       "      <td>68</td>\n",
       "      <td>607</td>\n",
       "      <td>219</td>\n",
       "      <td>36.1</td>\n",
       "      <td>15.97</td>\n",
       "      <td>5.76</td>\n",
       "      <td>0.10</td>\n",
       "      <td>0.28</td>\n",
       "      <td>6</td>\n",
       "      <td>73.3</td>\n",
       "      <td>68.9</td>\n",
       "      <td>0.12</td>\n",
       "      <td>-5.3</td>\n",
       "      <td>-6.9</td>\n",
       "    </tr>\n",
       "  </tbody>\n",
       "</table>\n",
       "</div>"
      ],
      "text/plain": [
       "         Squad  Position  Gls#  Sh#  SoT#  xG#  Gls   Sh  SoT  SoT%  Sh/90  \\\n",
       "0      Arsenal         2     2    5     5    5   84  589  194  32.9  15.50   \n",
       "1  Aston Villa         7    10   11    10   10   49  427  145  34.0  11.24   \n",
       "2  Bournemouth        15    15   20    18   18   37  358  126  35.2   9.42   \n",
       "3    Brentford         9     7   18     9    8   56  400  147  36.8  10.53   \n",
       "4     Brighton         6     4    1     1    2   68  607  219  36.1  15.97   \n",
       "\n",
       "   SoT/90  G/Sh  G/SoT  PK    xG  npxG  npxG/Sh  G-xG  np:G-xG  \n",
       "0    5.11  0.14   0.42   3  71.9  69.1     0.12  12.1     11.9  \n",
       "1    3.82  0.11   0.32   3  50.2  47.2     0.11  -1.2     -1.2  \n",
       "2    3.32  0.10   0.29   0  38.6  38.6     0.11  -1.6     -1.6  \n",
       "3    3.87  0.12   0.33   7  56.8  50.6     0.13  -0.8     -1.6  \n",
       "4    5.76  0.10   0.28   6  73.3  68.9     0.12  -5.3     -6.9  "
      ]
     },
     "execution_count": 19,
     "metadata": {},
     "output_type": "execute_result"
    }
   ],
   "source": [
    "shooting.head()"
   ]
  },
  {
   "cell_type": "code",
   "execution_count": 20,
   "metadata": {},
   "outputs": [
    {
     "data": {
      "text/html": [
       "<div>\n",
       "<style scoped>\n",
       "    .dataframe tbody tr th:only-of-type {\n",
       "        vertical-align: middle;\n",
       "    }\n",
       "\n",
       "    .dataframe tbody tr th {\n",
       "        vertical-align: top;\n",
       "    }\n",
       "\n",
       "    .dataframe thead th {\n",
       "        text-align: right;\n",
       "    }\n",
       "</style>\n",
       "<table border=\"1\" class=\"dataframe\">\n",
       "  <thead>\n",
       "    <tr style=\"text-align: right;\">\n",
       "      <th></th>\n",
       "      <th>Squad</th>\n",
       "      <th>Position</th>\n",
       "      <th>Gls#</th>\n",
       "      <th>Sh#</th>\n",
       "      <th>SoT#</th>\n",
       "      <th>xG#</th>\n",
       "    </tr>\n",
       "  </thead>\n",
       "  <tbody>\n",
       "    <tr>\n",
       "      <th>1</th>\n",
       "      <td>Manchester City</td>\n",
       "      <td>1</td>\n",
       "      <td>1</td>\n",
       "      <td>3</td>\n",
       "      <td>3</td>\n",
       "      <td>1</td>\n",
       "    </tr>\n",
       "    <tr>\n",
       "      <th>2</th>\n",
       "      <td>Arsenal</td>\n",
       "      <td>2</td>\n",
       "      <td>2</td>\n",
       "      <td>5</td>\n",
       "      <td>5</td>\n",
       "      <td>5</td>\n",
       "    </tr>\n",
       "    <tr>\n",
       "      <th>3</th>\n",
       "      <td>Manchester Utd</td>\n",
       "      <td>3</td>\n",
       "      <td>8</td>\n",
       "      <td>4</td>\n",
       "      <td>2</td>\n",
       "      <td>6</td>\n",
       "    </tr>\n",
       "    <tr>\n",
       "      <th>4</th>\n",
       "      <td>Newcastle Utd</td>\n",
       "      <td>4</td>\n",
       "      <td>6</td>\n",
       "      <td>6</td>\n",
       "      <td>7</td>\n",
       "      <td>4</td>\n",
       "    </tr>\n",
       "    <tr>\n",
       "      <th>5</th>\n",
       "      <td>Liverpool</td>\n",
       "      <td>5</td>\n",
       "      <td>3</td>\n",
       "      <td>2</td>\n",
       "      <td>4</td>\n",
       "      <td>3</td>\n",
       "    </tr>\n",
       "    <tr>\n",
       "      <th>6</th>\n",
       "      <td>Brighton</td>\n",
       "      <td>6</td>\n",
       "      <td>4</td>\n",
       "      <td>1</td>\n",
       "      <td>1</td>\n",
       "      <td>2</td>\n",
       "    </tr>\n",
       "    <tr>\n",
       "      <th>7</th>\n",
       "      <td>Aston Villa</td>\n",
       "      <td>7</td>\n",
       "      <td>10</td>\n",
       "      <td>11</td>\n",
       "      <td>10</td>\n",
       "      <td>10</td>\n",
       "    </tr>\n",
       "    <tr>\n",
       "      <th>8</th>\n",
       "      <td>Tottenham</td>\n",
       "      <td>8</td>\n",
       "      <td>5</td>\n",
       "      <td>7</td>\n",
       "      <td>6</td>\n",
       "      <td>7</td>\n",
       "    </tr>\n",
       "    <tr>\n",
       "      <th>9</th>\n",
       "      <td>Brentford</td>\n",
       "      <td>9</td>\n",
       "      <td>7</td>\n",
       "      <td>18</td>\n",
       "      <td>9</td>\n",
       "      <td>8</td>\n",
       "    </tr>\n",
       "    <tr>\n",
       "      <th>10</th>\n",
       "      <td>Fulham</td>\n",
       "      <td>10</td>\n",
       "      <td>9</td>\n",
       "      <td>14</td>\n",
       "      <td>14</td>\n",
       "      <td>14</td>\n",
       "    </tr>\n",
       "    <tr>\n",
       "      <th>11</th>\n",
       "      <td>Crystal Palace</td>\n",
       "      <td>11</td>\n",
       "      <td>14</td>\n",
       "      <td>13</td>\n",
       "      <td>16</td>\n",
       "      <td>17</td>\n",
       "    </tr>\n",
       "    <tr>\n",
       "      <th>12</th>\n",
       "      <td>Chelsea</td>\n",
       "      <td>12</td>\n",
       "      <td>16</td>\n",
       "      <td>8</td>\n",
       "      <td>8</td>\n",
       "      <td>11</td>\n",
       "    </tr>\n",
       "    <tr>\n",
       "      <th>13</th>\n",
       "      <td>Wolves</td>\n",
       "      <td>13</td>\n",
       "      <td>20</td>\n",
       "      <td>17</td>\n",
       "      <td>19</td>\n",
       "      <td>20</td>\n",
       "    </tr>\n",
       "    <tr>\n",
       "      <th>14</th>\n",
       "      <td>West Ham</td>\n",
       "      <td>14</td>\n",
       "      <td>13</td>\n",
       "      <td>9</td>\n",
       "      <td>15</td>\n",
       "      <td>12</td>\n",
       "    </tr>\n",
       "    <tr>\n",
       "      <th>15</th>\n",
       "      <td>Bournemouth</td>\n",
       "      <td>15</td>\n",
       "      <td>15</td>\n",
       "      <td>20</td>\n",
       "      <td>18</td>\n",
       "      <td>18</td>\n",
       "    </tr>\n",
       "    <tr>\n",
       "      <th>16</th>\n",
       "      <td>Nott'ham Forest</td>\n",
       "      <td>16</td>\n",
       "      <td>17</td>\n",
       "      <td>19</td>\n",
       "      <td>20</td>\n",
       "      <td>16</td>\n",
       "    </tr>\n",
       "    <tr>\n",
       "      <th>17</th>\n",
       "      <td>Everton</td>\n",
       "      <td>17</td>\n",
       "      <td>19</td>\n",
       "      <td>12</td>\n",
       "      <td>11</td>\n",
       "      <td>15</td>\n",
       "    </tr>\n",
       "    <tr>\n",
       "      <th>18</th>\n",
       "      <td>Leicester City</td>\n",
       "      <td>18</td>\n",
       "      <td>11</td>\n",
       "      <td>16</td>\n",
       "      <td>12</td>\n",
       "      <td>9</td>\n",
       "    </tr>\n",
       "    <tr>\n",
       "      <th>19</th>\n",
       "      <td>Leeds United</td>\n",
       "      <td>19</td>\n",
       "      <td>12</td>\n",
       "      <td>10</td>\n",
       "      <td>13</td>\n",
       "      <td>13</td>\n",
       "    </tr>\n",
       "    <tr>\n",
       "      <th>20</th>\n",
       "      <td>Southampton</td>\n",
       "      <td>20</td>\n",
       "      <td>18</td>\n",
       "      <td>15</td>\n",
       "      <td>17</td>\n",
       "      <td>19</td>\n",
       "    </tr>\n",
       "  </tbody>\n",
       "</table>\n",
       "</div>"
      ],
      "text/plain": [
       "              Squad  Position  Gls#  Sh#  SoT#  xG#\n",
       "1   Manchester City         1     1    3     3    1\n",
       "2           Arsenal         2     2    5     5    5\n",
       "3    Manchester Utd         3     8    4     2    6\n",
       "4     Newcastle Utd         4     6    6     7    4\n",
       "5         Liverpool         5     3    2     4    3\n",
       "6          Brighton         6     4    1     1    2\n",
       "7       Aston Villa         7    10   11    10   10\n",
       "8         Tottenham         8     5    7     6    7\n",
       "9         Brentford         9     7   18     9    8\n",
       "10           Fulham        10     9   14    14   14\n",
       "11   Crystal Palace        11    14   13    16   17\n",
       "12          Chelsea        12    16    8     8   11\n",
       "13           Wolves        13    20   17    19   20\n",
       "14         West Ham        14    13    9    15   12\n",
       "15      Bournemouth        15    15   20    18   18\n",
       "16  Nott'ham Forest        16    17   19    20   16\n",
       "17          Everton        17    19   12    11   15\n",
       "18   Leicester City        18    11   16    12    9\n",
       "19     Leeds United        19    12   10    13   13\n",
       "20      Southampton        20    18   15    17   19"
      ]
     },
     "execution_count": 20,
     "metadata": {},
     "output_type": "execute_result"
    }
   ],
   "source": [
    "corr_analysis = shooting[['Squad','Position', 'Gls#', 'Sh#', 'SoT#', 'xG#']].sort_values('Position').reset_index(drop=True)\n",
    "corr_analysis.index = corr_analysis.index+1\n",
    "corr_analysis"
   ]
  },
  {
   "cell_type": "code",
   "execution_count": 21,
   "metadata": {},
   "outputs": [
    {
     "data": {
      "image/png": "[encoded data removed]",
      "text/plain": [
       "<Figure size 640x480 with 1 Axes>"
      ]
     },
     "metadata": {},
     "output_type": "display_data"
    }
   ],
   "source": [
    "correlation = shooting['Position'].corr(shooting['Gls#'])\n",
    "\n",
    "sns.regplot(x='Position', y='Gls#', data=shooting)\n",
    "\n",
    "plt.xlabel('Position')\n",
    "plt.ylabel('Gls#')\n",
    "plt.title('Correlation between Position and Goals')\n",
    "\n",
    "\n",
    "plt.text(0.05, 0.95, f'Correlation: {correlation:.2f}', transform=plt.gca().transAxes)\n",
    "\n",
    "# Show the plot\n",
    "plt.show()\n"
   ]
  },
  {
   "cell_type": "code",
   "execution_count": 22,
   "metadata": {},
   "outputs": [
    {
     "data": {
      "image/png": "[encoded data removed]",
      "text/plain": [
       "<Figure size 640x480 with 1 Axes>"
      ]
     },
     "metadata": {},
     "output_type": "display_data"
    }
   ],
   "source": [
    "correlation = shooting['Position'].corr(shooting['Sh#'])\n",
    "\n",
    "sns.regplot(x='Position', y='Sh#', data=shooting)\n",
    "\n",
    "plt.xlabel('Position')\n",
    "plt.ylabel('Sh#')\n",
    "plt.title('Correlation between Position and Shots')\n",
    "\n",
    "plt.text(0.05, 0.95, f'Correlation: {correlation:.2f}', transform=plt.gca().transAxes)\n",
    "\n",
    "# Show the plot\n",
    "plt.show()"
   ]
  },
  {
   "cell_type": "code",
   "execution_count": 23,
   "metadata": {},
   "outputs": [
    {
     "data": {
      "image/png": "[encoded data removed]",
      "text/plain": [
       "<Figure size 640x480 with 1 Axes>"
      ]
     },
     "metadata": {},
     "output_type": "display_data"
    }
   ],
   "source": [
    "correlation = shooting['Position'].corr(shooting['SoT#'])\n",
    "\n",
    "sns.regplot(x='Position', y='SoT#', data=shooting)\n",
    "\n",
    "plt.xlabel('Position')\n",
    "plt.ylabel('SoT#')\n",
    "plt.title('Correlation between Position and Shots on Target')\n",
    "\n",
    "\n",
    "plt.text(0.05, 0.95, f'Correlation: {correlation:.2f}', transform=plt.gca().transAxes)\n",
    "\n",
    "# Show the plot\n",
    "plt.show()"
   ]
  },
  {
   "cell_type": "code",
   "execution_count": 24,
   "metadata": {},
   "outputs": [
    {
     "data": {
      "image/png": "[encoded data removed]",
      "text/plain": [
       "<Figure size 640x480 with 1 Axes>"
      ]
     },
     "metadata": {},
     "output_type": "display_data"
    }
   ],
   "source": [
    "correlation = shooting['Position'].corr(shooting['xG#'])\n",
    "\n",
    "sns.regplot(x='Position', y='xG#', data=shooting)\n",
    "\n",
    "plt.xlabel('Position')\n",
    "plt.ylabel('xG#')\n",
    "plt.title('Correlation between Position and Expected Goals(xG)')\n",
    "\n",
    "\n",
    "plt.text(0.05, 0.95, f'Correlation: {correlation:.2f}', transform=plt.gca().transAxes)\n",
    "\n",
    "# Show the plot\n",
    "plt.show()"
   ]
  },
  {
   "cell_type": "code",
   "execution_count": 25,
   "metadata": {},
   "outputs": [
    {
     "data": {
      "image/png": "[encoded data removed]",
      "text/plain": [
       "<Figure size 640x480 with 1 Axes>"
      ]
     },
     "metadata": {},
     "output_type": "display_data"
    }
   ],
   "source": [
    "correlation = shooting['SoT#'].corr(shooting['xG#'])\n",
    "\n",
    "sns.regplot(x='SoT#', y='xG#', data=shooting)\n",
    "\n",
    "plt.xlabel('SoT#')\n",
    "plt.ylabel('xG#')\n",
    "plt.title('Correlation between Shots on Target and Expected Goals(xG)')\n",
    "\n",
    "\n",
    "plt.text(0.05, 0.95, f'Correlation: {correlation:.2f}', transform=plt.gca().transAxes)\n",
    "\n",
    "# Show the plot\n",
    "plt.show()"
   ]
  },
  {
   "cell_type": "code",
   "execution_count": 26,
   "metadata": {},
   "outputs": [
    {
     "data": {
      "application/vnd.plotly.v1+json": {
       "config": {
        "plotlyServerURL": "https://plot.ly"
       },
       "data": [
        {
         "alignmentgroup": "True",
         "hovertemplate": "x=%{x}<br>y=%{y}<br>color=%{marker.color}<extra></extra>",
         "legendgroup": "",
         "marker": {
          "color": [
           0.8180451127819549,
           0.7022556390977444,
           0.7759398496240602,
           0.7849624060150376
          ],
          "coloraxis": "coloraxis",
          "pattern": {
           "shape": ""
          }
         },
         "name": "",
         "offsetgroup": "",
         "orientation": "v",
         "showlegend": false,
         "textposition": "auto",
         "type": "bar",
         "x": [
          "Gls#",
          "Sh#",
          "SoT#",
          "xG#"
         ],
         "xaxis": "x",
         "y": [
          0.8180451127819549,
          0.7022556390977444,
          0.7759398496240602,
          0.7849624060150376
         ],
         "yaxis": "y"
        }
       ],
       "layout": {
        "barmode": "relative",
        "coloraxis": {
         "colorbar": {
          "title": {
           "text": "Correlation"
          }
         },
         "colorscale": [
          [
           0,
           "rgb(247,251,255)"
          ],
          [
           0.125,
           "rgb(222,235,247)"
          ],
          [
           0.25,
           "rgb(198,219,239)"
          ],
          [
           0.375,
           "rgb(158,202,225)"
          ],
          [
           0.5,
           "rgb(107,174,214)"
          ],
          [
           0.625,
           "rgb(66,146,198)"
          ],
          [
           0.75,
           "rgb(33,113,181)"
          ],
          [
           0.875,
           "rgb(8,81,156)"
          ],
          [
           1,
           "rgb(8,48,107)"
          ]
         ]
        },
        "height": 500,
        "legend": {
         "tracegroupgap": 0
        },
        "margin": {
         "t": 60
        },
        "template": {
         "data": {
          "bar": [
           {
            "error_x": {
             "color": "#2a3f5f"
            },
            "error_y": {
             "color": "#2a3f5f"
            },
            "marker": {
             "line": {
              "color": "#E5ECF6",
              "width": 0.5
             },
             "pattern": {
              "fillmode": "overlay",
              "size": 10,
              "solidity": 0.2
             }
            },
            "type": "bar"
           }
          ],
          "barpolar": [
           {
            "marker": {
             "line": {
              "color": "#E5ECF6",
              "width": 0.5
             },
             "pattern": {
              "fillmode": "overlay",
              "size": 10,
              "solidity": 0.2
             }
            },
            "type": "barpolar"
           }
          ],
          "carpet": [
           {
            "aaxis": {
             "endlinecolor": "#2a3f5f",
             "gridcolor": "white",
             "linecolor": "white",
             "minorgridcolor": "white",
             "startlinecolor": "#2a3f5f"
            },
            "baxis": {
             "endlinecolor": "#2a3f5f",
             "gridcolor": "white",
             "linecolor": "white",
             "minorgridcolor": "white",
             "startlinecolor": "#2a3f5f"
            },
            "type": "carpet"
           }
          ],
          "choropleth": [
           {
            "colorbar": {
             "outlinewidth": 0,
             "ticks": ""
            },
            "type": "choropleth"
           }
          ],
          "contour": [
           {
            "colorbar": {
             "outlinewidth": 0,
             "ticks": ""
            },
            "colorscale": [
             [
              0,
              "#0d0887"
             ],
             [
              0.1111111111111111,
              "#46039f"
             ],
             [
              0.2222222222222222,
              "#7201a8"
             ],
             [
              0.3333333333333333,
              "#9c179e"
             ],
             [
              0.4444444444444444,
              "#bd3786"
             ],
             [
              0.5555555555555556,
              "#d8576b"
             ],
             [
              0.6666666666666666,
              "#ed7953"
             ],
             [
              0.7777777777777778,
              "#fb9f3a"
             ],
             [
              0.8888888888888888,
              "#fdca26"
             ],
             [
              1,
              "#f0f921"
             ]
            ],
            "type": "contour"
           }
          ],
          "contourcarpet": [
           {
            "colorbar": {
             "outlinewidth": 0,
             "ticks": ""
            },
            "type": "contourcarpet"
           }
          ],
          "heatmap": [
           {
            "colorbar": {
             "outlinewidth": 0,
             "ticks": ""
            },
            "colorscale": [
             [
              0,
              "#0d0887"
             ],
             [
              0.1111111111111111,
              "#46039f"
             ],
             [
              0.2222222222222222,
              "#7201a8"
             ],
             [
              0.3333333333333333,
              "#9c179e"
             ],
             [
              0.4444444444444444,
              "#bd3786"
             ],
             [
              0.5555555555555556,
              "#d8576b"
             ],
             [
              0.6666666666666666,
              "#ed7953"
             ],
             [
              0.7777777777777778,
              "#fb9f3a"
             ],
             [
              0.8888888888888888,
              "#fdca26"
             ],
             [
              1,
              "#f0f921"
             ]
            ],
            "type": "heatmap"
           }
          ],
          "heatmapgl": [
           {
            "colorbar": {
             "outlinewidth": 0,
             "ticks": ""
            },
            "colorscale": [
             [
              0,
              "#0d0887"
             ],
             [
              0.1111111111111111,
              "#46039f"
             ],
             [
              0.2222222222222222,
              "#7201a8"
             ],
             [
              0.3333333333333333,
              "#9c179e"
             ],
             [
              0.4444444444444444,
              "#bd3786"
             ],
             [
              0.5555555555555556,
              "#d8576b"
             ],
             [
              0.6666666666666666,
              "#ed7953"
             ],
             [
              0.7777777777777778,
              "#fb9f3a"
             ],
             [
              0.8888888888888888,
              "#fdca26"
             ],
             [
              1,
              "#f0f921"
             ]
            ],
            "type": "heatmapgl"
           }
          ],
          "histogram": [
           {
            "marker": {
             "pattern": {
              "fillmode": "overlay",
              "size": 10,
              "solidity": 0.2
             }
            },
            "type": "histogram"
           }
          ],
          "histogram2d": [
           {
            "colorbar": {
             "outlinewidth": 0,
             "ticks": ""
            },
            "colorscale": [
             [
              0,
              "#0d0887"
             ],
             [
              0.1111111111111111,
              "#46039f"
             ],
             [
              0.2222222222222222,
              "#7201a8"
             ],
             [
              0.3333333333333333,
              "#9c179e"
             ],
             [
              0.4444444444444444,
              "#bd3786"
             ],
             [
              0.5555555555555556,
              "#d8576b"
             ],
             [
              0.6666666666666666,
              "#ed7953"
             ],
             [
              0.7777777777777778,
              "#fb9f3a"
             ],
             [
              0.8888888888888888,
              "#fdca26"
             ],
             [
              1,
              "#f0f921"
             ]
            ],
            "type": "histogram2d"
           }
          ],
          "histogram2dcontour": [
           {
            "colorbar": {
             "outlinewidth": 0,
             "ticks": ""
            },
            "colorscale": [
             [
              0,
              "#0d0887"
             ],
             [
              0.1111111111111111,
              "#46039f"
             ],
             [
              0.2222222222222222,
              "#7201a8"
             ],
             [
              0.3333333333333333,
              "#9c179e"
             ],
             [
              0.4444444444444444,
              "#bd3786"
             ],
             [
              0.5555555555555556,
              "#d8576b"
             ],
             [
              0.6666666666666666,
              "#ed7953"
             ],
             [
              0.7777777777777778,
              "#fb9f3a"
             ],
             [
              0.8888888888888888,
              "#fdca26"
             ],
             [
              1,
              "#f0f921"
             ]
            ],
            "type": "histogram2dcontour"
           }
          ],
          "mesh3d": [
           {
            "colorbar": {
             "outlinewidth": 0,
             "ticks": ""
            },
            "type": "mesh3d"
           }
          ],
          "parcoords": [
           {
            "line": {
             "colorbar": {
              "outlinewidth": 0,
              "ticks": ""
             }
            },
            "type": "parcoords"
           }
          ],
          "pie": [
           {
            "automargin": true,
            "type": "pie"
           }
          ],
          "scatter": [
           {
            "fillpattern": {
             "fillmode": "overlay",
             "size": 10,
             "solidity": 0.2
            },
            "type": "scatter"
           }
          ],
          "scatter3d": [
           {
            "line": {
             "colorbar": {
              "outlinewidth": 0,
              "ticks": ""
             }
            },
            "marker": {
             "colorbar": {
              "outlinewidth": 0,
              "ticks": ""
             }
            },
            "type": "scatter3d"
           }
          ],
          "scattercarpet": [
           {
            "marker": {
             "colorbar": {
              "outlinewidth": 0,
              "ticks": ""
             }
            },
            "type": "scattercarpet"
           }
          ],
          "scattergeo": [
           {
            "marker": {
             "colorbar": {
              "outlinewidth": 0,
              "ticks": ""
             }
            },
            "type": "scattergeo"
           }
          ],
          "scattergl": [
           {
            "marker": {
             "colorbar": {
              "outlinewidth": 0,
              "ticks": ""
             }
            },
            "type": "scattergl"
           }
          ],
          "scattermapbox": [
           {
            "marker": {
             "colorbar": {
              "outlinewidth": 0,
              "ticks": ""
             }
            },
            "type": "scattermapbox"
           }
          ],
          "scatterpolar": [
           {
            "marker": {
             "colorbar": {
              "outlinewidth": 0,
              "ticks": ""
             }
            },
            "type": "scatterpolar"
           }
          ],
          "scatterpolargl": [
           {
            "marker": {
             "colorbar": {
              "outlinewidth": 0,
              "ticks": ""
             }
            },
            "type": "scatterpolargl"
           }
          ],
          "scatterternary": [
           {
            "marker": {
             "colorbar": {
              "outlinewidth": 0,
              "ticks": ""
             }
            },
            "type": "scatterternary"
           }
          ],
          "surface": [
           {
            "colorbar": {
             "outlinewidth": 0,
             "ticks": ""
            },
            "colorscale": [
             [
              0,
              "#0d0887"
             ],
             [
              0.1111111111111111,
              "#46039f"
             ],
             [
              0.2222222222222222,
              "#7201a8"
             ],
             [
              0.3333333333333333,
              "#9c179e"
             ],
             [
              0.4444444444444444,
              "#bd3786"
             ],
             [
              0.5555555555555556,
              "#d8576b"
             ],
             [
              0.6666666666666666,
              "#ed7953"
             ],
             [
              0.7777777777777778,
              "#fb9f3a"
             ],
             [
              0.8888888888888888,
              "#fdca26"
             ],
             [
              1,
              "#f0f921"
             ]
            ],
            "type": "surface"
           }
          ],
          "table": [
           {
            "cells": {
             "fill": {
              "color": "#EBF0F8"
             },
             "line": {
              "color": "white"
             }
            },
            "header": {
             "fill": {
              "color": "#C8D4E3"
             },
             "line": {
              "color": "white"
             }
            },
            "type": "table"
           }
          ]
         },
         "layout": {
          "annotationdefaults": {
           "arrowcolor": "#2a3f5f",
           "arrowhead": 0,
           "arrowwidth": 1
          },
          "autotypenumbers": "strict",
          "coloraxis": {
           "colorbar": {
            "outlinewidth": 0,
            "ticks": ""
           }
          },
          "colorscale": {
           "diverging": [
            [
             0,
             "#8e0152"
            ],
            [
             0.1,
             "#c51b7d"
            ],
            [
             0.2,
             "#de77ae"
            ],
            [
             0.3,
             "#f1b6da"
            ],
            [
             0.4,
             "#fde0ef"
            ],
            [
             0.5,
             "#f7f7f7"
            ],
            [
             0.6,
             "#e6f5d0"
            ],
            [
             0.7,
             "#b8e186"
            ],
            [
             0.8,
             "#7fbc41"
            ],
            [
             0.9,
             "#4d9221"
            ],
            [
             1,
             "#276419"
            ]
           ],
           "sequential": [
            [
             0,
             "#0d0887"
            ],
            [
             0.1111111111111111,
             "#46039f"
            ],
            [
             0.2222222222222222,
             "#7201a8"
            ],
            [
             0.3333333333333333,
             "#9c179e"
            ],
            [
             0.4444444444444444,
             "#bd3786"
            ],
            [
             0.5555555555555556,
             "#d8576b"
            ],
            [
             0.6666666666666666,
             "#ed7953"
            ],
            [
             0.7777777777777778,
             "#fb9f3a"
            ],
            [
             0.8888888888888888,
             "#fdca26"
            ],
            [
             1,
             "#f0f921"
            ]
           ],
           "sequentialminus": [
            [
             0,
             "#0d0887"
            ],
            [
             0.1111111111111111,
             "#46039f"
            ],
            [
             0.2222222222222222,
             "#7201a8"
            ],
            [
             0.3333333333333333,
             "#9c179e"
            ],
            [
             0.4444444444444444,
             "#bd3786"
            ],
            [
             0.5555555555555556,
             "#d8576b"
            ],
            [
             0.6666666666666666,
             "#ed7953"
            ],
            [
             0.7777777777777778,
             "#fb9f3a"
            ],
            [
             0.8888888888888888,
             "#fdca26"
            ],
            [
             1,
             "#f0f921"
            ]
           ]
          },
          "colorway": [
           "#636efa",
           "#EF553B",
           "#00cc96",
           "#ab63fa",
           "#FFA15A",
           "#19d3f3",
           "#FF6692",
           "#B6E880",
           "#FF97FF",
           "#FECB52"
          ],
          "font": {
           "color": "#2a3f5f"
          },
          "geo": {
           "bgcolor": "white",
           "lakecolor": "white",
           "landcolor": "#E5ECF6",
           "showlakes": true,
           "showland": true,
           "subunitcolor": "white"
          },
          "hoverlabel": {
           "align": "left"
          },
          "hovermode": "closest",
          "mapbox": {
           "style": "light"
          },
          "paper_bgcolor": "white",
          "plot_bgcolor": "#E5ECF6",
          "polar": {
           "angularaxis": {
            "gridcolor": "white",
            "linecolor": "white",
            "ticks": ""
           },
           "bgcolor": "#E5ECF6",
           "radialaxis": {
            "gridcolor": "white",
            "linecolor": "white",
            "ticks": ""
           }
          },
          "scene": {
           "xaxis": {
            "backgroundcolor": "#E5ECF6",
            "gridcolor": "white",
            "gridwidth": 2,
            "linecolor": "white",
            "showbackground": true,
            "ticks": "",
            "zerolinecolor": "white"
           },
           "yaxis": {
            "backgroundcolor": "#E5ECF6",
            "gridcolor": "white",
            "gridwidth": 2,
            "linecolor": "white",
            "showbackground": true,
            "ticks": "",
            "zerolinecolor": "white"
           },
           "zaxis": {
            "backgroundcolor": "#E5ECF6",
            "gridcolor": "white",
            "gridwidth": 2,
            "linecolor": "white",
            "showbackground": true,
            "ticks": "",
            "zerolinecolor": "white"
           }
          },
          "shapedefaults": {
           "line": {
            "color": "#2a3f5f"
           }
          },
          "ternary": {
           "aaxis": {
            "gridcolor": "white",
            "linecolor": "white",
            "ticks": ""
           },
           "baxis": {
            "gridcolor": "white",
            "linecolor": "white",
            "ticks": ""
           },
           "bgcolor": "#E5ECF6",
           "caxis": {
            "gridcolor": "white",
            "linecolor": "white",
            "ticks": ""
           }
          },
          "title": {
           "x": 0.05
          },
          "xaxis": {
           "automargin": true,
           "gridcolor": "white",
           "linecolor": "white",
           "ticks": "",
           "title": {
            "standoff": 15
           },
           "zerolinecolor": "white",
           "zerolinewidth": 2
          },
          "yaxis": {
           "automargin": true,
           "gridcolor": "white",
           "linecolor": "white",
           "ticks": "",
           "title": {
            "standoff": 15
           },
           "zerolinecolor": "white",
           "zerolinewidth": 2
          }
         }
        },
        "title": {
         "text": "Correlation with Position"
        },
        "width": 800,
        "xaxis": {
         "anchor": "y",
         "domain": [
          0,
          1
         ],
         "tickangle": 45,
         "tickfont": {
          "size": 10
         },
         "title": {
          "text": "Metrics"
         }
        },
        "yaxis": {
         "anchor": "x",
         "domain": [
          0,
          1
         ],
         "tickfont": {
          "size": 10
         },
         "title": {
          "text": "Correlation"
         }
        }
       }
      }
     },
     "metadata": {},
     "output_type": "display_data"
    }
   ],
   "source": [
    "corr_matrix = shooting[['Position', 'Gls#', 'Sh#', 'SoT#', 'xG#']].corr()\n",
    "\n",
    "top_row = corr_matrix.iloc[0].drop('Position')\n",
    "\n",
    "fig = px.bar(x=top_row.index, y=top_row.values, color=top_row.values, color_continuous_scale='Blues')\n",
    "\n",
    "fig.update_layout(\n",
    "    title='Correlation with Position',\n",
    "    xaxis_title='Metrics',\n",
    "    yaxis_title='Correlation',\n",
    "    xaxis={'tickangle': 45, 'tickfont': {'size': 10}},\n",
    "    yaxis={'tickfont': {'size': 10}},\n",
    "    coloraxis_colorbar={'title': 'Correlation'},\n",
    "    height=500,\n",
    "    width=800\n",
    ")\n",
    "\n",
    "fig.show()\n"
   ]
  }
 ],
 "metadata": {
  "kernelspec": {
   "display_name": "Python 3",
   "language": "python",
   "name": "python3"
  },
  "language_info": {
   "codemirror_mode": {
    "name": "ipython",
    "version": 3
   },
   "file_extension": ".py",
   "mimetype": "text/x-python",
   "name": "python",
   "nbconvert_exporter": "python",
   "pygments_lexer": "ipython3",
   "version": "3.11.5"
  }
 },
 "nbformat": 4,
 "nbformat_minor": 2
}
