{
 "cells": [
  {
   "cell_type": "code",
   "execution_count": 1,
   "metadata": {},
   "outputs": [],
   "source": [
    "import pandas as pd\n",
    "import numpy as np\n",
    "import matplotlib.pyplot as plt\n",
    "import seaborn as sns\n",
    "import scipy.stats as stats\n",
    "from scipy.stats import linregress, pearsonr\n",
    "import plotly.express as px\n",
    "import plotly.graph_objects as go\n",
    "from sklearn.model_selection import train_test_split\n",
    "from sklearn.linear_model import LinearRegression\n",
    "from sklearn.metrics import r2_score"
   ]
  },
  {
   "cell_type": "code",
   "execution_count": 2,
   "metadata": {},
   "outputs": [
    {
     "data": {
      "text/html": [
       "<div>\n",
       "<style scoped>\n",
       "    .dataframe tbody tr th:only-of-type {\n",
       "        vertical-align: middle;\n",
       "    }\n",
       "\n",
       "    .dataframe tbody tr th {\n",
       "        vertical-align: top;\n",
       "    }\n",
       "\n",
       "    .dataframe thead th {\n",
       "        text-align: right;\n",
       "    }\n",
       "</style>\n",
       "<table border=\"1\" class=\"dataframe\">\n",
       "  <thead>\n",
       "    <tr style=\"text-align: right;\">\n",
       "      <th></th>\n",
       "      <th>Player</th>\n",
       "      <th>Nation</th>\n",
       "      <th>Pos</th>\n",
       "      <th>Squad</th>\n",
       "      <th>Age</th>\n",
       "      <th>90s_played</th>\n",
       "      <th>Goals</th>\n",
       "      <th>Tot_Shot</th>\n",
       "      <th>Shot_On_Target</th>\n",
       "      <th>Shot_Target_Rate</th>\n",
       "      <th>...</th>\n",
       "      <th>ShotTargetPer90</th>\n",
       "      <th>Goal/TotShot</th>\n",
       "      <th>Goal/ShotTarget</th>\n",
       "      <th>Penalty</th>\n",
       "      <th>Att_Penalty</th>\n",
       "      <th>xG</th>\n",
       "      <th>NoPen_xG</th>\n",
       "      <th>NoPen_xGperShot</th>\n",
       "      <th>Goal-xG</th>\n",
       "      <th>NoPen_Goal-xG</th>\n",
       "    </tr>\n",
       "  </thead>\n",
       "  <tbody>\n",
       "    <tr>\n",
       "      <th>1</th>\n",
       "      <td>Brenden Aaronson</td>\n",
       "      <td>us USA</td>\n",
       "      <td>MF,FW</td>\n",
       "      <td>Leeds United</td>\n",
       "      <td>21</td>\n",
       "      <td>26.4</td>\n",
       "      <td>1</td>\n",
       "      <td>41</td>\n",
       "      <td>9</td>\n",
       "      <td>22.0</td>\n",
       "      <td>...</td>\n",
       "      <td>0.34</td>\n",
       "      <td>0.02</td>\n",
       "      <td>0.11</td>\n",
       "      <td>0</td>\n",
       "      <td>0</td>\n",
       "      <td>3.9</td>\n",
       "      <td>3.9</td>\n",
       "      <td>0.09</td>\n",
       "      <td>-2.9</td>\n",
       "      <td>-2.9</td>\n",
       "    </tr>\n",
       "    <tr>\n",
       "      <th>2</th>\n",
       "      <td>George Abbott</td>\n",
       "      <td>eng ENG</td>\n",
       "      <td>MF</td>\n",
       "      <td>Tottenham</td>\n",
       "      <td>16</td>\n",
       "      <td>0.0</td>\n",
       "      <td>0</td>\n",
       "      <td>0</td>\n",
       "      <td>0</td>\n",
       "      <td>NaN</td>\n",
       "      <td>...</td>\n",
       "      <td>0.00</td>\n",
       "      <td>NaN</td>\n",
       "      <td>NaN</td>\n",
       "      <td>0</td>\n",
       "      <td>0</td>\n",
       "      <td>0.0</td>\n",
       "      <td>0.0</td>\n",
       "      <td>NaN</td>\n",
       "      <td>0.0</td>\n",
       "      <td>0.0</td>\n",
       "    </tr>\n",
       "    <tr>\n",
       "      <th>3</th>\n",
       "      <td>Che Adams</td>\n",
       "      <td>sct SCO</td>\n",
       "      <td>FW</td>\n",
       "      <td>Southampton</td>\n",
       "      <td>26</td>\n",
       "      <td>22.1</td>\n",
       "      <td>5</td>\n",
       "      <td>47</td>\n",
       "      <td>14</td>\n",
       "      <td>29.8</td>\n",
       "      <td>...</td>\n",
       "      <td>0.63</td>\n",
       "      <td>0.11</td>\n",
       "      <td>0.36</td>\n",
       "      <td>0</td>\n",
       "      <td>0</td>\n",
       "      <td>6.6</td>\n",
       "      <td>6.6</td>\n",
       "      <td>0.14</td>\n",
       "      <td>-1.6</td>\n",
       "      <td>-1.6</td>\n",
       "    </tr>\n",
       "    <tr>\n",
       "      <th>4</th>\n",
       "      <td>Tyler Adams</td>\n",
       "      <td>us USA</td>\n",
       "      <td>MF</td>\n",
       "      <td>Leeds United</td>\n",
       "      <td>23</td>\n",
       "      <td>24.0</td>\n",
       "      <td>0</td>\n",
       "      <td>4</td>\n",
       "      <td>0</td>\n",
       "      <td>0.0</td>\n",
       "      <td>...</td>\n",
       "      <td>0.00</td>\n",
       "      <td>0.00</td>\n",
       "      <td>NaN</td>\n",
       "      <td>0</td>\n",
       "      <td>0</td>\n",
       "      <td>0.1</td>\n",
       "      <td>0.1</td>\n",
       "      <td>0.03</td>\n",
       "      <td>-0.1</td>\n",
       "      <td>-0.1</td>\n",
       "    </tr>\n",
       "    <tr>\n",
       "      <th>5</th>\n",
       "      <td>Tosin Adarabioyo</td>\n",
       "      <td>eng ENG</td>\n",
       "      <td>DF</td>\n",
       "      <td>Fulham</td>\n",
       "      <td>24</td>\n",
       "      <td>23.2</td>\n",
       "      <td>1</td>\n",
       "      <td>16</td>\n",
       "      <td>4</td>\n",
       "      <td>25.0</td>\n",
       "      <td>...</td>\n",
       "      <td>0.17</td>\n",
       "      <td>0.06</td>\n",
       "      <td>0.25</td>\n",
       "      <td>0</td>\n",
       "      <td>0</td>\n",
       "      <td>0.7</td>\n",
       "      <td>0.7</td>\n",
       "      <td>0.04</td>\n",
       "      <td>0.3</td>\n",
       "      <td>0.3</td>\n",
       "    </tr>\n",
       "  </tbody>\n",
       "</table>\n",
       "<p>5 rows × 21 columns</p>\n",
       "</div>"
      ],
      "text/plain": [
       "             Player   Nation    Pos         Squad  Age  90s_played  Goals  \\\n",
       "1  Brenden Aaronson   us USA  MF,FW  Leeds United   21        26.4      1   \n",
       "2     George Abbott  eng ENG     MF     Tottenham   16         0.0      0   \n",
       "3         Che Adams  sct SCO     FW   Southampton   26        22.1      5   \n",
       "4       Tyler Adams   us USA     MF  Leeds United   23        24.0      0   \n",
       "5  Tosin Adarabioyo  eng ENG     DF        Fulham   24        23.2      1   \n",
       "\n",
       "   Tot_Shot  Shot_On_Target  Shot_Target_Rate  ...  ShotTargetPer90  \\\n",
       "1        41               9              22.0  ...             0.34   \n",
       "2         0               0               NaN  ...             0.00   \n",
       "3        47              14              29.8  ...             0.63   \n",
       "4         4               0               0.0  ...             0.00   \n",
       "5        16               4              25.0  ...             0.17   \n",
       "\n",
       "   Goal/TotShot  Goal/ShotTarget  Penalty  Att_Penalty   xG  NoPen_xG  \\\n",
       "1          0.02             0.11        0            0  3.9       3.9   \n",
       "2           NaN              NaN        0            0  0.0       0.0   \n",
       "3          0.11             0.36        0            0  6.6       6.6   \n",
       "4          0.00              NaN        0            0  0.1       0.1   \n",
       "5          0.06             0.25        0            0  0.7       0.7   \n",
       "\n",
       "   NoPen_xGperShot  Goal-xG  NoPen_Goal-xG  \n",
       "1             0.09     -2.9           -2.9  \n",
       "2              NaN      0.0            0.0  \n",
       "3             0.14     -1.6           -1.6  \n",
       "4             0.03     -0.1           -0.1  \n",
       "5             0.04      0.3            0.3  \n",
       "\n",
       "[5 rows x 21 columns]"
      ]
     },
     "execution_count": 2,
     "metadata": {},
     "output_type": "execute_result"
    }
   ],
   "source": [
    "player_shooting = pd.read_csv('players/player_premier_league_shooting.csv')\n",
    "player_shooting = player_shooting.drop(columns=['Unnamed: 0'])\n",
    "player_shooting.index = player_shooting.index + 1\n",
    "player_shooting.head()"
   ]
  },
  {
   "cell_type": "code",
   "execution_count": 3,
   "metadata": {},
   "outputs": [
    {
     "data": {
      "text/html": [
       "<div>\n",
       "<style scoped>\n",
       "    .dataframe tbody tr th:only-of-type {\n",
       "        vertical-align: middle;\n",
       "    }\n",
       "\n",
       "    .dataframe tbody tr th {\n",
       "        vertical-align: top;\n",
       "    }\n",
       "\n",
       "    .dataframe thead th {\n",
       "        text-align: right;\n",
       "    }\n",
       "</style>\n",
       "<table border=\"1\" class=\"dataframe\">\n",
       "  <thead>\n",
       "    <tr style=\"text-align: right;\">\n",
       "      <th></th>\n",
       "      <th>Player</th>\n",
       "      <th>Tot_Shot</th>\n",
       "    </tr>\n",
       "  </thead>\n",
       "  <tbody>\n",
       "    <tr>\n",
       "      <th>1</th>\n",
       "      <td>Harry Kane</td>\n",
       "      <td>124</td>\n",
       "    </tr>\n",
       "    <tr>\n",
       "      <th>2</th>\n",
       "      <td>Mohamed Salah</td>\n",
       "      <td>121</td>\n",
       "    </tr>\n",
       "    <tr>\n",
       "      <th>3</th>\n",
       "      <td>Erling Haaland</td>\n",
       "      <td>116</td>\n",
       "    </tr>\n",
       "    <tr>\n",
       "      <th>4</th>\n",
       "      <td>Marcus Rashford</td>\n",
       "      <td>108</td>\n",
       "    </tr>\n",
       "    <tr>\n",
       "      <th>5</th>\n",
       "      <td>Martin Ødegaard</td>\n",
       "      <td>93</td>\n",
       "    </tr>\n",
       "    <tr>\n",
       "      <th>6</th>\n",
       "      <td>Bruno Fernandes</td>\n",
       "      <td>90</td>\n",
       "    </tr>\n",
       "    <tr>\n",
       "      <th>7</th>\n",
       "      <td>Ivan Toney</td>\n",
       "      <td>87</td>\n",
       "    </tr>\n",
       "    <tr>\n",
       "      <th>8</th>\n",
       "      <td>Bukayo Saka</td>\n",
       "      <td>86</td>\n",
       "    </tr>\n",
       "    <tr>\n",
       "      <th>9</th>\n",
       "      <td>Aleksandar Mitrović</td>\n",
       "      <td>85</td>\n",
       "    </tr>\n",
       "    <tr>\n",
       "      <th>10</th>\n",
       "      <td>Ollie Watkins</td>\n",
       "      <td>84</td>\n",
       "    </tr>\n",
       "    <tr>\n",
       "      <th>11</th>\n",
       "      <td>Darwin Núñez</td>\n",
       "      <td>84</td>\n",
       "    </tr>\n",
       "    <tr>\n",
       "      <th>12</th>\n",
       "      <td>James Maddison</td>\n",
       "      <td>83</td>\n",
       "    </tr>\n",
       "    <tr>\n",
       "      <th>13</th>\n",
       "      <td>Son Heung-min</td>\n",
       "      <td>81</td>\n",
       "    </tr>\n",
       "    <tr>\n",
       "      <th>14</th>\n",
       "      <td>Alexis Mac Allister</td>\n",
       "      <td>80</td>\n",
       "    </tr>\n",
       "    <tr>\n",
       "      <th>15</th>\n",
       "      <td>Gabriel Martinelli</td>\n",
       "      <td>79</td>\n",
       "    </tr>\n",
       "    <tr>\n",
       "      <th>16</th>\n",
       "      <td>Gabriel Jesus</td>\n",
       "      <td>76</td>\n",
       "    </tr>\n",
       "    <tr>\n",
       "      <th>17</th>\n",
       "      <td>Dominic Solanke</td>\n",
       "      <td>76</td>\n",
       "    </tr>\n",
       "    <tr>\n",
       "      <th>18</th>\n",
       "      <td>Solly March</td>\n",
       "      <td>74</td>\n",
       "    </tr>\n",
       "    <tr>\n",
       "      <th>19</th>\n",
       "      <td>Jarrod Bowen</td>\n",
       "      <td>73</td>\n",
       "    </tr>\n",
       "    <tr>\n",
       "      <th>20</th>\n",
       "      <td>Antony</td>\n",
       "      <td>72</td>\n",
       "    </tr>\n",
       "  </tbody>\n",
       "</table>\n",
       "</div>"
      ],
      "text/plain": [
       "                 Player  Tot_Shot\n",
       "1            Harry Kane       124\n",
       "2         Mohamed Salah       121\n",
       "3        Erling Haaland       116\n",
       "4       Marcus Rashford       108\n",
       "5       Martin Ødegaard        93\n",
       "6       Bruno Fernandes        90\n",
       "7            Ivan Toney        87\n",
       "8           Bukayo Saka        86\n",
       "9   Aleksandar Mitrović        85\n",
       "10        Ollie Watkins        84\n",
       "11         Darwin Núñez        84\n",
       "12       James Maddison        83\n",
       "13        Son Heung-min        81\n",
       "14  Alexis Mac Allister        80\n",
       "15   Gabriel Martinelli        79\n",
       "16        Gabriel Jesus        76\n",
       "17      Dominic Solanke        76\n",
       "18          Solly March        74\n",
       "19         Jarrod Bowen        73\n",
       "20               Antony        72"
      ]
     },
     "execution_count": 3,
     "metadata": {},
     "output_type": "execute_result"
    }
   ],
   "source": [
    "player_shooting_top20 = player_shooting.sort_values('Tot_Shot', ascending=False).head(20).reset_index(drop=True)\n",
    "player_shooting_top20.index = player_shooting_top20.index + 1\n",
    "player_shooting_top20[['Player', 'Tot_Shot']]"
   ]
  },
  {
   "cell_type": "code",
   "execution_count": 4,
   "metadata": {},
   "outputs": [
    {
     "data": {
      "text/html": [
       "<div>\n",
       "<style scoped>\n",
       "    .dataframe tbody tr th:only-of-type {\n",
       "        vertical-align: middle;\n",
       "    }\n",
       "\n",
       "    .dataframe tbody tr th {\n",
       "        vertical-align: top;\n",
       "    }\n",
       "\n",
       "    .dataframe thead th {\n",
       "        text-align: right;\n",
       "    }\n",
       "</style>\n",
       "<table border=\"1\" class=\"dataframe\">\n",
       "  <thead>\n",
       "    <tr style=\"text-align: right;\">\n",
       "      <th></th>\n",
       "      <th>Player</th>\n",
       "      <th>Goals</th>\n",
       "    </tr>\n",
       "  </thead>\n",
       "  <tbody>\n",
       "    <tr>\n",
       "      <th>1</th>\n",
       "      <td>Erling Haaland</td>\n",
       "      <td>36</td>\n",
       "    </tr>\n",
       "    <tr>\n",
       "      <th>2</th>\n",
       "      <td>Harry Kane</td>\n",
       "      <td>30</td>\n",
       "    </tr>\n",
       "    <tr>\n",
       "      <th>3</th>\n",
       "      <td>Ivan Toney</td>\n",
       "      <td>20</td>\n",
       "    </tr>\n",
       "    <tr>\n",
       "      <th>4</th>\n",
       "      <td>Mohamed Salah</td>\n",
       "      <td>19</td>\n",
       "    </tr>\n",
       "    <tr>\n",
       "      <th>5</th>\n",
       "      <td>Callum Wilson</td>\n",
       "      <td>18</td>\n",
       "    </tr>\n",
       "    <tr>\n",
       "      <th>6</th>\n",
       "      <td>Marcus Rashford</td>\n",
       "      <td>17</td>\n",
       "    </tr>\n",
       "    <tr>\n",
       "      <th>7</th>\n",
       "      <td>Gabriel Martinelli</td>\n",
       "      <td>15</td>\n",
       "    </tr>\n",
       "    <tr>\n",
       "      <th>8</th>\n",
       "      <td>Ollie Watkins</td>\n",
       "      <td>15</td>\n",
       "    </tr>\n",
       "    <tr>\n",
       "      <th>9</th>\n",
       "      <td>Martin Ødegaard</td>\n",
       "      <td>15</td>\n",
       "    </tr>\n",
       "    <tr>\n",
       "      <th>10</th>\n",
       "      <td>Aleksandar Mitrović</td>\n",
       "      <td>14</td>\n",
       "    </tr>\n",
       "    <tr>\n",
       "      <th>11</th>\n",
       "      <td>Bukayo Saka</td>\n",
       "      <td>14</td>\n",
       "    </tr>\n",
       "    <tr>\n",
       "      <th>12</th>\n",
       "      <td>Rodrigo</td>\n",
       "      <td>13</td>\n",
       "    </tr>\n",
       "    <tr>\n",
       "      <th>13</th>\n",
       "      <td>Harvey Barnes</td>\n",
       "      <td>13</td>\n",
       "    </tr>\n",
       "    <tr>\n",
       "      <th>14</th>\n",
       "      <td>Phil Foden</td>\n",
       "      <td>11</td>\n",
       "    </tr>\n",
       "    <tr>\n",
       "      <th>15</th>\n",
       "      <td>Roberto Firmino</td>\n",
       "      <td>11</td>\n",
       "    </tr>\n",
       "    <tr>\n",
       "      <th>16</th>\n",
       "      <td>Miguel Almirón</td>\n",
       "      <td>11</td>\n",
       "    </tr>\n",
       "    <tr>\n",
       "      <th>17</th>\n",
       "      <td>Gabriel Jesus</td>\n",
       "      <td>11</td>\n",
       "    </tr>\n",
       "    <tr>\n",
       "      <th>18</th>\n",
       "      <td>James Maddison</td>\n",
       "      <td>10</td>\n",
       "    </tr>\n",
       "    <tr>\n",
       "      <th>19</th>\n",
       "      <td>Alexis Mac Allister</td>\n",
       "      <td>10</td>\n",
       "    </tr>\n",
       "    <tr>\n",
       "      <th>20</th>\n",
       "      <td>Taiwo Awoniyi</td>\n",
       "      <td>10</td>\n",
       "    </tr>\n",
       "  </tbody>\n",
       "</table>\n",
       "</div>"
      ],
      "text/plain": [
       "                 Player  Goals\n",
       "1        Erling Haaland     36\n",
       "2            Harry Kane     30\n",
       "3            Ivan Toney     20\n",
       "4         Mohamed Salah     19\n",
       "5         Callum Wilson     18\n",
       "6       Marcus Rashford     17\n",
       "7    Gabriel Martinelli     15\n",
       "8         Ollie Watkins     15\n",
       "9       Martin Ødegaard     15\n",
       "10  Aleksandar Mitrović     14\n",
       "11          Bukayo Saka     14\n",
       "12              Rodrigo     13\n",
       "13        Harvey Barnes     13\n",
       "14           Phil Foden     11\n",
       "15      Roberto Firmino     11\n",
       "16       Miguel Almirón     11\n",
       "17        Gabriel Jesus     11\n",
       "18       James Maddison     10\n",
       "19  Alexis Mac Allister     10\n",
       "20        Taiwo Awoniyi     10"
      ]
     },
     "execution_count": 4,
     "metadata": {},
     "output_type": "execute_result"
    }
   ],
   "source": [
    "player_goals_top20 = player_shooting.sort_values('Goals', ascending=False).head(20).reset_index(drop=True)\n",
    "player_goals_top20.index = player_goals_top20.index + 1\n",
    "player_goals_top20[['Player', 'Goals']]"
   ]
  },
  {
   "cell_type": "code",
   "execution_count": 5,
   "metadata": {},
   "outputs": [
    {
     "data": {
      "text/plain": [
       "count          20\n",
       "unique         12\n",
       "top       Arsenal\n",
       "freq            4\n",
       "Name: Squad, dtype: object"
      ]
     },
     "execution_count": 5,
     "metadata": {},
     "output_type": "execute_result"
    }
   ],
   "source": [
    "player_shooting_top20['Squad'].describe()"
   ]
  },
  {
   "cell_type": "code",
   "execution_count": 6,
   "metadata": {},
   "outputs": [
    {
     "data": {
      "text/plain": [
       "count          20\n",
       "unique         13\n",
       "top       Arsenal\n",
       "freq            4\n",
       "Name: Squad, dtype: object"
      ]
     },
     "execution_count": 6,
     "metadata": {},
     "output_type": "execute_result"
    }
   ],
   "source": [
    "player_goals_top20['Squad'].describe()"
   ]
  },
  {
   "cell_type": "code",
   "execution_count": 7,
   "metadata": {},
   "outputs": [
    {
     "data": {
      "text/plain": [
       "Squad\n",
       "Arsenal            4\n",
       "Manchester Utd     3\n",
       "Tottenham          2\n",
       "Liverpool          2\n",
       "Brighton           2\n",
       "Manchester City    1\n",
       "Brentford          1\n",
       "Fulham             1\n",
       "Aston Villa        1\n",
       "Leicester City     1\n",
       "Bournemouth        1\n",
       "West Ham           1\n",
       "Name: count, dtype: int64"
      ]
     },
     "execution_count": 7,
     "metadata": {},
     "output_type": "execute_result"
    }
   ],
   "source": [
    "player_shooting_top20['Squad'].value_counts()"
   ]
  },
  {
   "cell_type": "code",
   "execution_count": 8,
   "metadata": {},
   "outputs": [
    {
     "data": {
      "text/plain": [
       "Squad\n",
       "Arsenal            4\n",
       "Manchester City    2\n",
       "Liverpool          2\n",
       "Newcastle Utd      2\n",
       "Leicester City     2\n",
       "Tottenham          1\n",
       "Brentford          1\n",
       "Manchester Utd     1\n",
       "Aston Villa        1\n",
       "Fulham             1\n",
       "Leeds United       1\n",
       "Brighton           1\n",
       "Nott'ham Forest    1\n",
       "Name: count, dtype: int64"
      ]
     },
     "execution_count": 8,
     "metadata": {},
     "output_type": "execute_result"
    }
   ],
   "source": [
    "player_goals_top20['Squad'].value_counts()"
   ]
  },
  {
   "cell_type": "code",
   "execution_count": 9,
   "metadata": {},
   "outputs": [
    {
     "data": {
      "text/html": [
       "<div>\n",
       "<style scoped>\n",
       "    .dataframe tbody tr th:only-of-type {\n",
       "        vertical-align: middle;\n",
       "    }\n",
       "\n",
       "    .dataframe tbody tr th {\n",
       "        vertical-align: top;\n",
       "    }\n",
       "\n",
       "    .dataframe thead th {\n",
       "        text-align: right;\n",
       "    }\n",
       "</style>\n",
       "<table border=\"1\" class=\"dataframe\">\n",
       "  <thead>\n",
       "    <tr style=\"text-align: right;\">\n",
       "      <th></th>\n",
       "      <th>Player</th>\n",
       "      <th>Squad</th>\n",
       "      <th>Goal/TotShot</th>\n",
       "    </tr>\n",
       "  </thead>\n",
       "  <tbody>\n",
       "    <tr>\n",
       "      <th>1</th>\n",
       "      <td>Erling Haaland</td>\n",
       "      <td>Manchester City</td>\n",
       "      <td>0.25</td>\n",
       "    </tr>\n",
       "    <tr>\n",
       "      <th>2</th>\n",
       "      <td>Harry Kane</td>\n",
       "      <td>Tottenham</td>\n",
       "      <td>0.20</td>\n",
       "    </tr>\n",
       "    <tr>\n",
       "      <th>3</th>\n",
       "      <td>Gabriel Martinelli</td>\n",
       "      <td>Arsenal</td>\n",
       "      <td>0.19</td>\n",
       "    </tr>\n",
       "    <tr>\n",
       "      <th>4</th>\n",
       "      <td>Ollie Watkins</td>\n",
       "      <td>Aston Villa</td>\n",
       "      <td>0.17</td>\n",
       "    </tr>\n",
       "    <tr>\n",
       "      <th>5</th>\n",
       "      <td>Marcus Rashford</td>\n",
       "      <td>Manchester Utd</td>\n",
       "      <td>0.16</td>\n",
       "    </tr>\n",
       "    <tr>\n",
       "      <th>6</th>\n",
       "      <td>Martin Ødegaard</td>\n",
       "      <td>Arsenal</td>\n",
       "      <td>0.16</td>\n",
       "    </tr>\n",
       "    <tr>\n",
       "      <th>7</th>\n",
       "      <td>Ivan Toney</td>\n",
       "      <td>Brentford</td>\n",
       "      <td>0.16</td>\n",
       "    </tr>\n",
       "    <tr>\n",
       "      <th>8</th>\n",
       "      <td>Bukayo Saka</td>\n",
       "      <td>Arsenal</td>\n",
       "      <td>0.14</td>\n",
       "    </tr>\n",
       "    <tr>\n",
       "      <th>9</th>\n",
       "      <td>Mohamed Salah</td>\n",
       "      <td>Liverpool</td>\n",
       "      <td>0.14</td>\n",
       "    </tr>\n",
       "    <tr>\n",
       "      <th>10</th>\n",
       "      <td>Gabriel Jesus</td>\n",
       "      <td>Arsenal</td>\n",
       "      <td>0.13</td>\n",
       "    </tr>\n",
       "    <tr>\n",
       "      <th>11</th>\n",
       "      <td>Son Heung-min</td>\n",
       "      <td>Tottenham</td>\n",
       "      <td>0.12</td>\n",
       "    </tr>\n",
       "    <tr>\n",
       "      <th>12</th>\n",
       "      <td>Aleksandar Mitrović</td>\n",
       "      <td>Fulham</td>\n",
       "      <td>0.12</td>\n",
       "    </tr>\n",
       "    <tr>\n",
       "      <th>13</th>\n",
       "      <td>Darwin Núñez</td>\n",
       "      <td>Liverpool</td>\n",
       "      <td>0.11</td>\n",
       "    </tr>\n",
       "    <tr>\n",
       "      <th>14</th>\n",
       "      <td>James Maddison</td>\n",
       "      <td>Leicester City</td>\n",
       "      <td>0.11</td>\n",
       "    </tr>\n",
       "    <tr>\n",
       "      <th>15</th>\n",
       "      <td>Solly March</td>\n",
       "      <td>Brighton</td>\n",
       "      <td>0.09</td>\n",
       "    </tr>\n",
       "    <tr>\n",
       "      <th>16</th>\n",
       "      <td>Dominic Solanke</td>\n",
       "      <td>Bournemouth</td>\n",
       "      <td>0.08</td>\n",
       "    </tr>\n",
       "    <tr>\n",
       "      <th>17</th>\n",
       "      <td>Bruno Fernandes</td>\n",
       "      <td>Manchester Utd</td>\n",
       "      <td>0.07</td>\n",
       "    </tr>\n",
       "    <tr>\n",
       "      <th>18</th>\n",
       "      <td>Jarrod Bowen</td>\n",
       "      <td>West Ham</td>\n",
       "      <td>0.07</td>\n",
       "    </tr>\n",
       "    <tr>\n",
       "      <th>19</th>\n",
       "      <td>Antony</td>\n",
       "      <td>Manchester Utd</td>\n",
       "      <td>0.06</td>\n",
       "    </tr>\n",
       "    <tr>\n",
       "      <th>20</th>\n",
       "      <td>Alexis Mac Allister</td>\n",
       "      <td>Brighton</td>\n",
       "      <td>0.05</td>\n",
       "    </tr>\n",
       "  </tbody>\n",
       "</table>\n",
       "</div>"
      ],
      "text/plain": [
       "                 Player            Squad  Goal/TotShot\n",
       "1        Erling Haaland  Manchester City          0.25\n",
       "2            Harry Kane        Tottenham          0.20\n",
       "3    Gabriel Martinelli          Arsenal          0.19\n",
       "4         Ollie Watkins      Aston Villa          0.17\n",
       "5       Marcus Rashford   Manchester Utd          0.16\n",
       "6       Martin Ødegaard          Arsenal          0.16\n",
       "7            Ivan Toney        Brentford          0.16\n",
       "8           Bukayo Saka          Arsenal          0.14\n",
       "9         Mohamed Salah        Liverpool          0.14\n",
       "10        Gabriel Jesus          Arsenal          0.13\n",
       "11        Son Heung-min        Tottenham          0.12\n",
       "12  Aleksandar Mitrović           Fulham          0.12\n",
       "13         Darwin Núñez        Liverpool          0.11\n",
       "14       James Maddison   Leicester City          0.11\n",
       "15          Solly March         Brighton          0.09\n",
       "16      Dominic Solanke      Bournemouth          0.08\n",
       "17      Bruno Fernandes   Manchester Utd          0.07\n",
       "18         Jarrod Bowen         West Ham          0.07\n",
       "19               Antony   Manchester Utd          0.06\n",
       "20  Alexis Mac Allister         Brighton          0.05"
      ]
     },
     "execution_count": 9,
     "metadata": {},
     "output_type": "execute_result"
    }
   ],
   "source": [
    "goal_eff = player_shooting_top20.sort_values('Goal/TotShot', ascending=False).reset_index()\n",
    "goal_eff.index = goal_eff.index + 1\n",
    "goal_eff[['Player', 'Squad', 'Goal/TotShot']]"
   ]
  },
  {
   "cell_type": "code",
   "execution_count": 10,
   "metadata": {},
   "outputs": [
    {
     "data": {
      "text/html": [
       "<div>\n",
       "<style scoped>\n",
       "    .dataframe tbody tr th:only-of-type {\n",
       "        vertical-align: middle;\n",
       "    }\n",
       "\n",
       "    .dataframe tbody tr th {\n",
       "        vertical-align: top;\n",
       "    }\n",
       "\n",
       "    .dataframe thead th {\n",
       "        text-align: right;\n",
       "    }\n",
       "</style>\n",
       "<table border=\"1\" class=\"dataframe\">\n",
       "  <thead>\n",
       "    <tr style=\"text-align: right;\">\n",
       "      <th></th>\n",
       "      <th>Player</th>\n",
       "      <th>Squad</th>\n",
       "      <th>Goal-xG</th>\n",
       "    </tr>\n",
       "  </thead>\n",
       "  <tbody>\n",
       "    <tr>\n",
       "      <th>1</th>\n",
       "      <td>Harry Kane</td>\n",
       "      <td>Tottenham</td>\n",
       "      <td>8.5</td>\n",
       "    </tr>\n",
       "    <tr>\n",
       "      <th>2</th>\n",
       "      <td>Erling Haaland</td>\n",
       "      <td>Manchester City</td>\n",
       "      <td>7.6</td>\n",
       "    </tr>\n",
       "    <tr>\n",
       "      <th>3</th>\n",
       "      <td>Gabriel Martinelli</td>\n",
       "      <td>Arsenal</td>\n",
       "      <td>5.7</td>\n",
       "    </tr>\n",
       "    <tr>\n",
       "      <th>4</th>\n",
       "      <td>Martin Ødegaard</td>\n",
       "      <td>Arsenal</td>\n",
       "      <td>5.0</td>\n",
       "    </tr>\n",
       "    <tr>\n",
       "      <th>5</th>\n",
       "      <td>Bukayo Saka</td>\n",
       "      <td>Arsenal</td>\n",
       "      <td>2.8</td>\n",
       "    </tr>\n",
       "    <tr>\n",
       "      <th>6</th>\n",
       "      <td>Marcus Rashford</td>\n",
       "      <td>Manchester Utd</td>\n",
       "      <td>1.6</td>\n",
       "    </tr>\n",
       "    <tr>\n",
       "      <th>7</th>\n",
       "      <td>Ivan Toney</td>\n",
       "      <td>Brentford</td>\n",
       "      <td>1.3</td>\n",
       "    </tr>\n",
       "    <tr>\n",
       "      <th>8</th>\n",
       "      <td>James Maddison</td>\n",
       "      <td>Leicester City</td>\n",
       "      <td>1.3</td>\n",
       "    </tr>\n",
       "  </tbody>\n",
       "</table>\n",
       "</div>"
      ],
      "text/plain": [
       "               Player            Squad  Goal-xG\n",
       "1          Harry Kane        Tottenham      8.5\n",
       "2      Erling Haaland  Manchester City      7.6\n",
       "3  Gabriel Martinelli          Arsenal      5.7\n",
       "4     Martin Ødegaard          Arsenal      5.0\n",
       "5         Bukayo Saka          Arsenal      2.8\n",
       "6     Marcus Rashford   Manchester Utd      1.6\n",
       "7          Ivan Toney        Brentford      1.3\n",
       "8      James Maddison   Leicester City      1.3"
      ]
     },
     "execution_count": 10,
     "metadata": {},
     "output_type": "execute_result"
    }
   ],
   "source": [
    "goal_xG = player_shooting_top20.sort_values('Goal-xG', ascending=False).reset_index()\n",
    "goal_xG.index = goal_xG.index + 1\n",
    "goal_xG[['Player', 'Squad', 'Goal-xG']].head(8)\n"
   ]
  },
  {
   "cell_type": "code",
   "execution_count": 11,
   "metadata": {},
   "outputs": [
    {
     "data": {
      "text/html": [
       "<div>\n",
       "<style scoped>\n",
       "    .dataframe tbody tr th:only-of-type {\n",
       "        vertical-align: middle;\n",
       "    }\n",
       "\n",
       "    .dataframe tbody tr th {\n",
       "        vertical-align: top;\n",
       "    }\n",
       "\n",
       "    .dataframe thead th {\n",
       "        text-align: right;\n",
       "    }\n",
       "</style>\n",
       "<table border=\"1\" class=\"dataframe\">\n",
       "  <thead>\n",
       "    <tr style=\"text-align: right;\">\n",
       "      <th></th>\n",
       "      <th>Player</th>\n",
       "      <th>Squad</th>\n",
       "      <th>Goal-xG</th>\n",
       "    </tr>\n",
       "  </thead>\n",
       "  <tbody>\n",
       "    <tr>\n",
       "      <th>9</th>\n",
       "      <td>Son Heung-min</td>\n",
       "      <td>Tottenham</td>\n",
       "      <td>-0.1</td>\n",
       "    </tr>\n",
       "    <tr>\n",
       "      <th>10</th>\n",
       "      <td>Aleksandar Mitrović</td>\n",
       "      <td>Fulham</td>\n",
       "      <td>-0.9</td>\n",
       "    </tr>\n",
       "    <tr>\n",
       "      <th>11</th>\n",
       "      <td>Solly March</td>\n",
       "      <td>Brighton</td>\n",
       "      <td>-1.1</td>\n",
       "    </tr>\n",
       "    <tr>\n",
       "      <th>12</th>\n",
       "      <td>Bruno Fernandes</td>\n",
       "      <td>Manchester Utd</td>\n",
       "      <td>-1.3</td>\n",
       "    </tr>\n",
       "    <tr>\n",
       "      <th>13</th>\n",
       "      <td>Ollie Watkins</td>\n",
       "      <td>Aston Villa</td>\n",
       "      <td>-1.5</td>\n",
       "    </tr>\n",
       "    <tr>\n",
       "      <th>14</th>\n",
       "      <td>Alexis Mac Allister</td>\n",
       "      <td>Brighton</td>\n",
       "      <td>-2.1</td>\n",
       "    </tr>\n",
       "    <tr>\n",
       "      <th>15</th>\n",
       "      <td>Antony</td>\n",
       "      <td>Manchester Utd</td>\n",
       "      <td>-2.6</td>\n",
       "    </tr>\n",
       "    <tr>\n",
       "      <th>16</th>\n",
       "      <td>Mohamed Salah</td>\n",
       "      <td>Liverpool</td>\n",
       "      <td>-2.7</td>\n",
       "    </tr>\n",
       "    <tr>\n",
       "      <th>17</th>\n",
       "      <td>Jarrod Bowen</td>\n",
       "      <td>West Ham</td>\n",
       "      <td>-2.9</td>\n",
       "    </tr>\n",
       "    <tr>\n",
       "      <th>18</th>\n",
       "      <td>Gabriel Jesus</td>\n",
       "      <td>Arsenal</td>\n",
       "      <td>-3.0</td>\n",
       "    </tr>\n",
       "    <tr>\n",
       "      <th>19</th>\n",
       "      <td>Dominic Solanke</td>\n",
       "      <td>Bournemouth</td>\n",
       "      <td>-3.1</td>\n",
       "    </tr>\n",
       "    <tr>\n",
       "      <th>20</th>\n",
       "      <td>Darwin Núñez</td>\n",
       "      <td>Liverpool</td>\n",
       "      <td>-3.1</td>\n",
       "    </tr>\n",
       "  </tbody>\n",
       "</table>\n",
       "</div>"
      ],
      "text/plain": [
       "                 Player           Squad  Goal-xG\n",
       "9         Son Heung-min       Tottenham     -0.1\n",
       "10  Aleksandar Mitrović          Fulham     -0.9\n",
       "11          Solly March        Brighton     -1.1\n",
       "12      Bruno Fernandes  Manchester Utd     -1.3\n",
       "13        Ollie Watkins     Aston Villa     -1.5\n",
       "14  Alexis Mac Allister        Brighton     -2.1\n",
       "15               Antony  Manchester Utd     -2.6\n",
       "16        Mohamed Salah       Liverpool     -2.7\n",
       "17         Jarrod Bowen        West Ham     -2.9\n",
       "18        Gabriel Jesus         Arsenal     -3.0\n",
       "19      Dominic Solanke     Bournemouth     -3.1\n",
       "20         Darwin Núñez       Liverpool     -3.1"
      ]
     },
     "execution_count": 11,
     "metadata": {},
     "output_type": "execute_result"
    }
   ],
   "source": [
    "goal_xG = player_shooting_top20.sort_values('Goal-xG', ascending=False).reset_index()\n",
    "goal_xG.index = goal_xG.index + 1\n",
    "goal_xG[['Player', 'Squad', 'Goal-xG']].tail(12)"
   ]
  },
  {
   "cell_type": "code",
   "execution_count": 12,
   "metadata": {},
   "outputs": [
    {
     "data": {
      "text/html": [
       "<div>\n",
       "<style scoped>\n",
       "    .dataframe tbody tr th:only-of-type {\n",
       "        vertical-align: middle;\n",
       "    }\n",
       "\n",
       "    .dataframe tbody tr th {\n",
       "        vertical-align: top;\n",
       "    }\n",
       "\n",
       "    .dataframe thead th {\n",
       "        text-align: right;\n",
       "    }\n",
       "</style>\n",
       "<table border=\"1\" class=\"dataframe\">\n",
       "  <thead>\n",
       "    <tr style=\"text-align: right;\">\n",
       "      <th></th>\n",
       "      <th>Player</th>\n",
       "      <th>Squad</th>\n",
       "      <th>Goal-xG</th>\n",
       "    </tr>\n",
       "  </thead>\n",
       "  <tbody>\n",
       "    <tr>\n",
       "      <th>1</th>\n",
       "      <td>Harry Kane</td>\n",
       "      <td>Tottenham</td>\n",
       "      <td>8.5</td>\n",
       "    </tr>\n",
       "    <tr>\n",
       "      <th>2</th>\n",
       "      <td>Erling Haaland</td>\n",
       "      <td>Manchester City</td>\n",
       "      <td>7.6</td>\n",
       "    </tr>\n",
       "    <tr>\n",
       "      <th>3</th>\n",
       "      <td>Gabriel Martinelli</td>\n",
       "      <td>Arsenal</td>\n",
       "      <td>5.7</td>\n",
       "    </tr>\n",
       "    <tr>\n",
       "      <th>4</th>\n",
       "      <td>Roberto Firmino</td>\n",
       "      <td>Liverpool</td>\n",
       "      <td>5.5</td>\n",
       "    </tr>\n",
       "    <tr>\n",
       "      <th>5</th>\n",
       "      <td>Phil Foden</td>\n",
       "      <td>Manchester City</td>\n",
       "      <td>5.1</td>\n",
       "    </tr>\n",
       "    <tr>\n",
       "      <th>6</th>\n",
       "      <td>Martin Ødegaard</td>\n",
       "      <td>Arsenal</td>\n",
       "      <td>5.0</td>\n",
       "    </tr>\n",
       "    <tr>\n",
       "      <th>7</th>\n",
       "      <td>Rodrigo</td>\n",
       "      <td>Leeds United</td>\n",
       "      <td>4.9</td>\n",
       "    </tr>\n",
       "    <tr>\n",
       "      <th>8</th>\n",
       "      <td>Harvey Barnes</td>\n",
       "      <td>Leicester City</td>\n",
       "      <td>4.1</td>\n",
       "    </tr>\n",
       "    <tr>\n",
       "      <th>9</th>\n",
       "      <td>Taiwo Awoniyi</td>\n",
       "      <td>Nott'ham Forest</td>\n",
       "      <td>3.4</td>\n",
       "    </tr>\n",
       "    <tr>\n",
       "      <th>10</th>\n",
       "      <td>Miguel Almirón</td>\n",
       "      <td>Newcastle Utd</td>\n",
       "      <td>3.0</td>\n",
       "    </tr>\n",
       "    <tr>\n",
       "      <th>11</th>\n",
       "      <td>Bukayo Saka</td>\n",
       "      <td>Arsenal</td>\n",
       "      <td>2.8</td>\n",
       "    </tr>\n",
       "    <tr>\n",
       "      <th>12</th>\n",
       "      <td>Marcus Rashford</td>\n",
       "      <td>Manchester Utd</td>\n",
       "      <td>1.6</td>\n",
       "    </tr>\n",
       "    <tr>\n",
       "      <th>13</th>\n",
       "      <td>Ivan Toney</td>\n",
       "      <td>Brentford</td>\n",
       "      <td>1.3</td>\n",
       "    </tr>\n",
       "    <tr>\n",
       "      <th>14</th>\n",
       "      <td>James Maddison</td>\n",
       "      <td>Leicester City</td>\n",
       "      <td>1.3</td>\n",
       "    </tr>\n",
       "    <tr>\n",
       "      <th>15</th>\n",
       "      <td>Callum Wilson</td>\n",
       "      <td>Newcastle Utd</td>\n",
       "      <td>0.5</td>\n",
       "    </tr>\n",
       "    <tr>\n",
       "      <th>16</th>\n",
       "      <td>Aleksandar Mitrović</td>\n",
       "      <td>Fulham</td>\n",
       "      <td>-0.9</td>\n",
       "    </tr>\n",
       "    <tr>\n",
       "      <th>17</th>\n",
       "      <td>Ollie Watkins</td>\n",
       "      <td>Aston Villa</td>\n",
       "      <td>-1.5</td>\n",
       "    </tr>\n",
       "    <tr>\n",
       "      <th>18</th>\n",
       "      <td>Alexis Mac Allister</td>\n",
       "      <td>Brighton</td>\n",
       "      <td>-2.1</td>\n",
       "    </tr>\n",
       "    <tr>\n",
       "      <th>19</th>\n",
       "      <td>Mohamed Salah</td>\n",
       "      <td>Liverpool</td>\n",
       "      <td>-2.7</td>\n",
       "    </tr>\n",
       "    <tr>\n",
       "      <th>20</th>\n",
       "      <td>Gabriel Jesus</td>\n",
       "      <td>Arsenal</td>\n",
       "      <td>-3.0</td>\n",
       "    </tr>\n",
       "  </tbody>\n",
       "</table>\n",
       "</div>"
      ],
      "text/plain": [
       "                 Player            Squad  Goal-xG\n",
       "1            Harry Kane        Tottenham      8.5\n",
       "2        Erling Haaland  Manchester City      7.6\n",
       "3    Gabriel Martinelli          Arsenal      5.7\n",
       "4       Roberto Firmino        Liverpool      5.5\n",
       "5            Phil Foden  Manchester City      5.1\n",
       "6       Martin Ødegaard          Arsenal      5.0\n",
       "7               Rodrigo     Leeds United      4.9\n",
       "8         Harvey Barnes   Leicester City      4.1\n",
       "9         Taiwo Awoniyi  Nott'ham Forest      3.4\n",
       "10       Miguel Almirón    Newcastle Utd      3.0\n",
       "11          Bukayo Saka          Arsenal      2.8\n",
       "12      Marcus Rashford   Manchester Utd      1.6\n",
       "13           Ivan Toney        Brentford      1.3\n",
       "14       James Maddison   Leicester City      1.3\n",
       "15        Callum Wilson    Newcastle Utd      0.5\n",
       "16  Aleksandar Mitrović           Fulham     -0.9\n",
       "17        Ollie Watkins      Aston Villa     -1.5\n",
       "18  Alexis Mac Allister         Brighton     -2.1\n",
       "19        Mohamed Salah        Liverpool     -2.7\n",
       "20        Gabriel Jesus          Arsenal     -3.0"
      ]
     },
     "execution_count": 12,
     "metadata": {},
     "output_type": "execute_result"
    }
   ],
   "source": [
    "goal_xG = player_goals_top20.sort_values('Goal-xG', ascending=False).reset_index()\n",
    "goal_xG.index = goal_xG.index + 1\n",
    "goal_xG[['Player', 'Squad', 'Goal-xG']]"
   ]
  },
  {
   "cell_type": "code",
   "execution_count": 13,
   "metadata": {},
   "outputs": [
    {
     "data": {
      "application/vnd.plotly.v1+json": {
       "config": {
        "plotlyServerURL": "https://plot.ly"
       },
       "data": [
        {
         "customdata": [
          [
           "Brenden Aaronson",
           "Leeds United"
          ],
          [
           "George Abbott",
           "Tottenham"
          ],
          [
           "Che Adams",
           "Southampton"
          ],
          [
           "Tyler Adams",
           "Leeds United"
          ],
          [
           "Tosin Adarabioyo",
           "Fulham"
          ],
          [
           "Nayef Aguerd",
           "West Ham"
          ],
          [
           "Naouirou Ahamada",
           "Crystal Palace"
          ],
          [
           "Rayan Aït Nouri",
           "Wolves"
          ],
          [
           "Kristoffer Ajer",
           "Brentford"
          ],
          [
           "Manuel Akanji",
           "Manchester City"
          ],
          [
           "Nathan Aké",
           "Manchester City"
          ],
          [
           "Marc Albrighton",
           "Leicester City"
          ],
          [
           "Thiago Alcántara",
           "Liverpool"
          ],
          [
           "Carlos Alcaraz",
           "Southampton"
          ],
          [
           "Trent Alexander-Arnold",
           "Liverpool"
          ],
          [
           "Alisson",
           "Liverpool"
          ],
          [
           "Dele Alli",
           "Everton"
          ],
          [
           "Miguel Almirón",
           "Newcastle Utd"
          ],
          [
           "Julián Álvarez",
           "Manchester City"
          ],
          [
           "Daniel Amartey",
           "Leicester City"
          ],
          [
           "Samuel Amo-Ameyaw",
           "Southampton"
          ],
          [
           "Joachim Andersen",
           "Crystal Palace"
          ],
          [
           "Elliot Anderson",
           "Newcastle Utd"
          ],
          [
           "Jaidon Anthony",
           "Bournemouth"
          ],
          [
           "Michail Antonio",
           "West Ham"
          ],
          [
           "Antony",
           "Manchester Utd"
          ],
          [
           "Cameron Archer",
           "Aston Villa"
          ],
          [
           "Alphonse Areola",
           "West Ham"
          ],
          [
           "Joe Aribo",
           "Southampton"
          ],
          [
           "Adam Armstrong",
           "Southampton"
          ],
          [
           "Stuart Armstrong",
           "Southampton"
          ],
          [
           "Kepa Arrizabalaga",
           "Chelsea"
          ],
          [
           "Pierre-Emerick Aubameyang",
           "Chelsea"
          ],
          [
           "Ludwig Augustinsson",
           "Aston Villa"
          ],
          [
           "Serge Aurier",
           "Nott'ham Forest"
          ],
          [
           "Taiwo Awoniyi",
           "Nott'ham Forest"
          ],
          [
           "Yasin Ayari",
           "Brighton"
          ],
          [
           "André Ayew",
           "Nott'ham Forest"
          ],
          [
           "Jordan Ayew",
           "Crystal Palace"
          ],
          [
           "Luke Ayling",
           "Leeds United"
          ],
          [
           "César Azpilicueta",
           "Chelsea"
          ],
          [
           "Benoît Badiashile",
           "Chelsea"
          ],
          [
           "Leon Bailey",
           "Aston Villa"
          ],
          [
           "Stefan Bajcetic",
           "Liverpool"
          ],
          [
           "Dominic Ballard",
           "Southampton"
          ],
          [
           "Patrick Bamford",
           "Leeds United"
          ],
          [
           "Shandon Baptiste",
           "Brentford"
          ],
          [
           "Harvey Barnes",
           "Leicester City"
          ],
          [
           "Gavin Bazunu",
           "Southampton"
          ],
          [
           "Mads Bech Sørensen",
           "Brentford"
          ],
          [
           "Jan Bednarek",
           "Southampton"
          ],
          [
           "Jan Bednarek",
           "Aston Villa"
          ],
          [
           "Donny van de Beek",
           "Manchester Utd"
          ],
          [
           "Asmir Begović",
           "Everton"
          ],
          [
           "Armel Bella Kotchap",
           "Southampton"
          ],
          [
           "Saïd Benrahma",
           "West Ham"
          ],
          [
           "Rodrigo Bentancur",
           "Tottenham"
          ],
          [
           "Daniel Bentley",
           "Wolves"
          ],
          [
           "Victor Bernth Kristiansen",
           "Leicester City"
          ],
          [
           "Owen Bevan",
           "Bournemouth"
          ],
          [
           "Giulian Biancone",
           "Nott'ham Forest"
          ],
          [
           "Philip Billing",
           "Bournemouth"
          ],
          [
           "Yves Bissouma",
           "Tottenham"
          ],
          [
           "Willy Boly",
           "Nott'ham Forest"
          ],
          [
           "Sven Botman",
           "Newcastle Utd"
          ],
          [
           "Jarrod Bowen",
           "West Ham"
          ],
          [
           "James Bree",
           "Southampton"
          ],
          [
           "Armando Broja",
           "Chelsea"
          ],
          [
           "David Brooks",
           "Bournemouth"
          ],
          [
           "Lewis Brunt",
           "Leicester City"
          ],
          [
           "Emi Buendía",
           "Aston Villa"
          ],
          [
           "Hugo Bueno",
           "Wolves"
          ],
          [
           "Facundo Buonanotte",
           "Brighton"
          ],
          [
           "Dan Burn",
           "Newcastle Utd"
          ],
          [
           "Cafú",
           "Nott'ham Forest"
          ],
          [
           "Moisés Caicedo",
           "Brighton"
          ],
          [
           "Tom Cairney",
           "Fulham"
          ],
          [
           "Duje Ćaleta-Car",
           "Southampton"
          ],
          [
           "Dominic Calvert-Lewin",
           "Everton"
          ],
          [
           "Chem Campbell",
           "Wolves"
          ],
          [
           "João Cancelo",
           "Manchester City"
          ],
          [
           "Thomas Cannon",
           "Everton"
          ],
          [
           "Sergi Canós",
           "Brentford"
          ],
          [
           "Diego Carlos",
           "Aston Villa"
          ],
          [
           "Fabio Carvalho",
           "Liverpool"
          ],
          [
           "Casemiro",
           "Manchester Utd"
          ],
          [
           "Matty Cash",
           "Aston Villa"
          ],
          [
           "Timothy Castagne",
           "Leicester City"
          ],
          [
           "Jonny Castro",
           "Wolves"
          ],
          [
           "Julio César Enciso",
           "Brighton"
          ],
          [
           "Nathaniel Chalobah",
           "Fulham"
          ],
          [
           "Trevoh Chalobah",
           "Chelsea"
          ],
          [
           "Calum Chambers",
           "Aston Villa"
          ],
          [
           "Shea Charles",
           "Manchester City"
          ],
          [
           "Ben Chilwell",
           "Chelsea"
          ],
          [
           "Ryan Christie",
           "Bournemouth"
          ],
          [
           "Carney Chukwuemeka",
           "Chelsea"
          ],
          [
           "Bobby Clark",
           "Liverpool"
          ],
          [
           "Nathaniel Clyne",
           "Crystal Palace"
          ],
          [
           "Conor Coady",
           "Everton"
          ],
          [
           "Jack Colback",
           "Nott'ham Forest"
          ],
          [
           "Séamus Coleman",
           "Everton"
          ],
          [
           "Nathan Collins",
           "Wolves"
          ],
          [
           "Levi Colwill",
           "Brighton"
          ],
          [
           "Lewis Cook",
           "Bournemouth"
          ],
          [
           "Steve Cook",
           "Nott'ham Forest"
          ],
          [
           "Liam Cooper",
           "Leeds United"
          ],
          [
           "Maxwel Cornet",
           "West Ham"
          ],
          [
           "Diego Costa",
           "Wolves"
          ],
          [
           "Vladimír Coufal",
           "West Ham"
          ],
          [
           "Philippe Coutinho",
           "Aston Villa"
          ],
          [
           "Conor Coventry",
           "West Ham"
          ],
          [
           "Matthew Craig",
           "Tottenham"
          ],
          [
           "Aaron Cresswell",
           "West Ham"
          ],
          [
           "Marc Cucurella",
           "Chelsea"
          ],
          [
           "Matheus Cunha",
           "Wolves"
          ],
          [
           "Patson Daka",
           "Leicester City"
          ],
          [
           "Diogo Dalot",
           "Manchester Utd"
          ],
          [
           "Mikkel Damsgaard",
           "Brentford"
          ],
          [
           "Danilo",
           "Nott'ham Forest"
          ],
          [
           "Arnaut Danjuma",
           "Tottenham"
          ],
          [
           "Josh Dasilva",
           "Brentford"
          ],
          [
           "David Datro Fofana",
           "Chelsea"
          ],
          [
           "Ben Davies",
           "Tottenham"
          ],
          [
           "Tom Davies",
           "Everton"
          ],
          [
           "Craig Dawson",
           "West Ham"
          ],
          [
           "Craig Dawson",
           "Wolves"
          ],
          [
           "Kevin De Bruyne",
           "Manchester City"
          ],
          [
           "Siriki Dembélé",
           "Bournemouth"
          ],
          [
           "Leander Dendoncker",
           "Aston Villa"
          ],
          [
           "Leander Dendoncker",
           "Wolves"
          ],
          [
           "Emmanuel Dennis",
           "Nott'ham Forest"
          ],
          [
           "Halil Dervişoğlu",
           "Brentford"
          ],
          [
           "Kiernan Dewsbury-Hall",
           "Leicester City"
          ],
          [
           "Ibrahima Diallo",
           "Southampton"
          ],
          [
           "Rúben Dias",
           "Manchester City"
          ],
          [
           "Luis Díaz",
           "Liverpool"
          ],
          [
           "Eric Dier",
           "Tottenham"
          ],
          [
           "Lucas Digne",
           "Aston Villa"
          ],
          [
           "Issa Diop",
           "Fulham"
          ],
          [
           "Moussa Djenepo",
           "Southampton"
          ],
          [
           "Ben Doak",
           "Liverpool"
          ],
          [
           "Matt Doherty",
           "Tottenham"
          ],
          [
           "Gabriel Dos Santos",
           "Arsenal"
          ],
          [
           "Abdoulaye Doucouré",
           "Everton"
          ],
          [
           "Cheick Doucouré",
           "Crystal Palace"
          ],
          [
           "Flynn Downes",
           "West Ham"
          ],
          [
           "Kami Doyle",
           "Southampton"
          ],
          [
           "Cody Drameh",
           "Leeds United"
          ],
          [
           "Martin Dúbravka",
           "Newcastle Utd"
          ],
          [
           "Shane Duffy",
           "Fulham"
          ],
          [
           "Lewis Dunk",
           "Brighton"
          ],
          [
           "Jhon Durán",
           "Aston Villa"
          ],
          [
           "Malcolm Ebiowei",
           "Crystal Palace"
          ],
          [
           "Ederson",
           "Manchester City"
          ],
          [
           "Odsonne Édouard",
           "Crystal Palace"
          ],
          [
           "Samuel Edozie",
           "Southampton"
          ],
          [
           "Anthony Elanga",
           "Manchester Utd"
          ],
          [
           "Harvey Elliott",
           "Liverpool"
          ],
          [
           "Mohamed Elneny",
           "Arsenal"
          ],
          [
           "Mohamed Elyounoussi",
           "Southampton"
          ],
          [
           "Emerson",
           "Tottenham"
          ],
          [
           "Christian Eriksen",
           "Manchester Utd"
          ],
          [
           "Pervis Estupiñán",
           "Brighton"
          ],
          [
           "Jonny Evans",
           "Leicester City"
          ],
          [
           "Eberechi Eze",
           "Crystal Palace"
          ],
          [
           "Łukasz Fabiański",
           "West Ham"
          ],
          [
           "Fabinho",
           "Liverpool"
          ],
          [
           "Wout Faes",
           "Leicester City"
          ],
          [
           "Felipe",
           "Nott'ham Forest"
          ],
          [
           "João Félix",
           "Chelsea"
          ],
          [
           "Evan Ferguson",
           "Brighton"
          ],
          [
           "Bruno Fernandes",
           "Manchester Utd"
          ],
          [
           "Enzo Fernández",
           "Chelsea"
          ],
          [
           "Roberto Firmino",
           "Liverpool"
          ],
          [
           "Junior Firpo",
           "Leeds United"
          ],
          [
           "Phil Foden",
           "Manchester City"
          ],
          [
           "Wesley Fofana",
           "Leicester City"
          ],
          [
           "Wesley Fofana",
           "Chelsea"
          ],
          [
           "Pablo Fornals",
           "West Ham"
          ],
          [
           "Adam Forshaw",
           "Leeds United"
          ],
          [
           "Fraser Forster",
           "Tottenham"
          ],
          [
           "Tyrese Francois",
           "Fulham"
          ],
          [
           "Ryan Fraser",
           "Newcastle Utd"
          ],
          [
           "Fred",
           "Manchester Utd"
          ],
          [
           "Ryan Fredericks",
           "Bournemouth"
          ],
          [
           "Remo Freuler",
           "Nott'ham Forest"
          ],
          [
           "Cody Gakpo",
           "Liverpool"
          ],
          [
           "Conor Gallagher",
           "Chelsea"
          ],
          [
           "Idrissa Gana Gueye",
           "Everton"
          ],
          [
           "Alejandro Garnacho",
           "Manchester Utd"
          ],
          [
           "James Garner",
           "Everton"
          ],
          [
           "David de Gea",
           "Manchester Utd"
          ],
          [
           "Joe Gelhardt",
           "Leeds United"
          ],
          [
           "Saman Ghoddos",
           "Brentford"
          ],
          [
           "Morgan Gibbs-White",
           "Wolves"
          ],
          [
           "Morgan Gibbs-White",
           "Nott'ham Forest"
          ],
          [
           "Bryan Gil",
           "Tottenham"
          ],
          [
           "Billy Gilmour",
           "Brighton"
          ],
          [
           "Degnand Gnonto",
           "Leeds United"
          ],
          [
           "Ben Godfrey",
           "Everton"
          ],
          [
           "João Gomes",
           "Wolves"
          ],
          [
           "Toti Gomes",
           "Wolves"
          ],
          [
           "Joe Gomez",
           "Liverpool"
          ],
          [
           "Sergio Gómez",
           "Manchester City"
          ],
          [
           "Anthony Gordon",
           "Newcastle Utd"
          ],
          [
           "Anthony Gordon",
           "Everton"
          ],
          [
           "Demarai Gray",
           "Everton"
          ],
          [
           "Jack Grealish",
           "Manchester City"
          ],
          [
           "Sam Greenwood",
           "Leeds United"
          ],
          [
           "Pascal Groß",
           "Brighton"
          ],
          [
           "Vicente Guaita",
           "Crystal Palace"
          ],
          [
           "Gonçalo Guedes",
           "Wolves"
          ],
          [
           "Marc Guéhi",
           "Crystal Palace"
          ],
          [
           "Bruno Guimarães",
           "Newcastle Utd"
          ],
          [
           "İlkay Gündoğan",
           "Manchester City"
          ],
          [
           "Darko Gyabi",
           "Leeds United"
          ],
          [
           "Erling Haaland",
           "Manchester City"
          ],
          [
           "Lewis Hall",
           "Chelsea"
          ],
          [
           "Luke Harris",
           "Fulham"
          ],
          [
           "Jack Harrison",
           "Leeds United"
          ],
          [
           "Kai Havertz",
           "Chelsea"
          ],
          [
           "Jan Paul van Hecke",
           "Brighton"
          ],
          [
           "Hwang Hee-chan",
           "Wolves"
          ],
          [
           "Dean Henderson",
           "Nott'ham Forest"
          ],
          [
           "Jordan Henderson",
           "Liverpool"
          ],
          [
           "Wayne Hennessey",
           "Nott'ham Forest"
          ],
          [
           "Rico Henry",
           "Brentford"
          ],
          [
           "Son Heung-min",
           "Tottenham"
          ],
          [
           "Aaron Hickey",
           "Brentford"
          ],
          [
           "Jack Hinshelwood",
           "Brighton"
          ],
          [
           "Joseph Hodge",
           "Wolves"
          ],
          [
           "Rob Holding",
           "Arsenal"
          ],
          [
           "Mason Holgate",
           "Everton"
          ],
          [
           "Will Hughes",
           "Crystal Palace"
          ],
          [
           "Omari Hutchinson",
           "Chelsea"
          ],
          [
           "Pierre Højbjerg",
           "Tottenham"
          ],
          [
           "Kelechi Iheanacho",
           "Leicester City"
          ],
          [
           "Danny Ings",
           "West Ham"
          ],
          [
           "Danny Ings",
           "Aston Villa"
          ],
          [
           "Alexander Isak",
           "Newcastle Utd"
          ],
          [
           "Daniel Iversen",
           "Leicester City"
          ],
          [
           "Alex Iwobi",
           "Everton"
          ],
          [
           "Daniel James",
           "Leeds United"
          ],
          [
           "Daniel James",
           "Fulham"
          ],
          [
           "Reece James",
           "Chelsea"
          ],
          [
           "Vitaly Janelt",
           "Brentford"
          ],
          [
           "Pontus Jansson",
           "Brentford"
          ],
          [
           "Mathias Jensen",
           "Brentford"
          ],
          [
           "Gabriel Jesus",
           "Arsenal"
          ],
          [
           "Raúl Jiménez",
           "Wolves"
          ],
          [
           "Joelinton",
           "Newcastle Utd"
          ],
          [
           "Ben Johnson",
           "West Ham"
          ],
          [
           "Brennan Johnson",
           "Nott'ham Forest"
          ],
          [
           "Sam Johnstone",
           "Crystal Palace"
          ],
          [
           "Curtis Jones",
           "Liverpool"
          ],
          [
           "Jorginho",
           "Arsenal"
          ],
          [
           "Jorginho",
           "Chelsea"
          ],
          [
           "Mateo Joseph",
           "Leeds United"
          ],
          [
           "Diogo Jota",
           "Liverpool"
          ],
          [
           "Hamed Junior Traorè",
           "Bournemouth"
          ],
          [
           "James Justin",
           "Leicester City"
          ],
          [
           "Mathias Jørgensen",
           "Brentford"
          ],
          [
           "Sasa Kalajdzic",
           "Wolves"
          ],
          [
           "Boubacar Kamara",
           "Aston Villa"
          ],
          [
           "Harry Kane",
           "Tottenham"
          ],
          [
           "N'Golo Kanté",
           "Chelsea"
          ],
          [
           "Michael Keane",
           "Everton"
          ],
          [
           "Neeskens Kebano",
           "Fulham"
          ],
          [
           "Thilo Kehrer",
           "West Ham"
          ],
          [
           "Naby Keïta",
           "Liverpool"
          ],
          [
           "Caoimhín Kelleher",
           "Liverpool"
          ],
          [
           "Lloyd Kelly",
           "Bournemouth"
          ],
          [
           "Max Kilman",
           "Wolves"
          ],
          [
           "Jakub Kiwior",
           "Arsenal"
          ],
          [
           "Mateusz Klich",
           "Leeds United"
          ],
          [
           "Robin Koch",
           "Leeds United"
          ],
          [
           "Ibrahima Konaté",
           "Liverpool"
          ],
          [
           "Ezri Konsa",
           "Aston Villa"
          ],
          [
           "Kalidou Koulibaly",
           "Chelsea"
          ],
          [
           "Cheikhou Kouyaté",
           "Nott'ham Forest"
          ],
          [
           "Mateo Kovačić",
           "Chelsea"
          ],
          [
           "Emil Krafth",
           "Newcastle Utd"
          ],
          [
           "Dejan Kulusevski",
           "Tottenham"
          ],
          [
           "Layvin Kurzawa",
           "Fulham"
          ],
          [
           "Adam Lallana",
           "Brighton"
          ],
          [
           "Tariq Lamptey",
           "Brighton"
          ],
          [
           "Manuel Lanzini",
           "West Ham"
          ],
          [
           "Aymeric Laporte",
           "Manchester City"
          ],
          [
           "Juan Larios",
           "Southampton"
          ],
          [
           "Jamaal Lascelles",
           "Newcastle Utd"
          ],
          [
           "Roméo Lavia",
           "Southampton"
          ],
          [
           "Dexter Lembikisa",
           "Wolves"
          ],
          [
           "Mario Lemina",
           "Wolves"
          ],
          [
           "Clément Lenglet",
           "Tottenham"
          ],
          [
           "Bernd Leno",
           "Fulham"
          ],
          [
           "Jefferson Lerma",
           "Bournemouth"
          ],
          [
           "Jamal Lewis",
           "Newcastle Utd"
          ],
          [
           "Rico Lewis",
           "Manchester City"
          ],
          [
           "Keane Lewis-Potter",
           "Brentford"
          ],
          [
           "Victor Lindelöf",
           "Manchester Utd"
          ],
          [
           "Jesse Lingard",
           "Nott'ham Forest"
          ],
          [
           "Valentino Livramento",
           "Southampton"
          ],
          [
           "Diego Llorente",
           "Leeds United"
          ],
          [
           "Hugo Lloris",
           "Tottenham"
          ],
          [
           "Renan Lodi",
           "Nott'ham Forest"
          ],
          [
           "Ruben Loftus-Cheek",
           "Chelsea"
          ],
          [
           "Sean Longstaff",
           "Newcastle Utd"
          ],
          [
           "Jamal Lowe",
           "Bournemouth"
          ],
          [
           "Douglas Luiz",
           "Aston Villa"
          ],
          [
           "Saša Lukić",
           "Fulham"
          ],
          [
           "Lyanco",
           "Southampton"
          ],
          [
           "Alexis Mac Allister",
           "Brighton"
          ],
          [
           "James Maddison",
           "Leicester City"
          ],
          [
           "Noni Madueke",
           "Chelsea"
          ],
          [
           "Harry Maguire",
           "Manchester Utd"
          ],
          [
           "Riyad Mahrez",
           "Manchester City"
          ],
          [
           "Kobbie Mainoo",
           "Manchester Utd"
          ],
          [
           "Ainsley Maitland-Niles",
           "Southampton"
          ],
          [
           "Tyrell Malacia",
           "Manchester Utd"
          ],
          [
           "Orel Mangala",
           "Nott'ham Forest"
          ],
          [
           "Javier Manquillo",
           "Newcastle Utd"
          ],
          [
           "Sekou Mara",
           "Southampton"
          ],
          [
           "Solly March",
           "Brighton"
          ],
          [
           "Emiliano Marcondes",
           "Bournemouth"
          ],
          [
           "Marquinhos",
           "Arsenal"
          ],
          [
           "Anthony Martial",
           "Manchester Utd"
          ],
          [
           "Gabriel Martinelli",
           "Arsenal"
          ],
          [
           "Emiliano Martínez",
           "Aston Villa"
          ],
          [
           "Lisandro Martínez",
           "Manchester Utd"
          ],
          [
           "Pape Matar Sarr",
           "Tottenham"
          ],
          [
           "Jean-Philippe Mateta",
           "Crystal Palace"
          ],
          [
           "Joël Matip",
           "Liverpool"
          ],
          [
           "Neal Maupay",
           "Everton"
          ],
          [
           "Kevin Mbabu",
           "Fulham"
          ],
          [
           "Bryan Mbeumo",
           "Brentford"
          ],
          [
           "James McArthur",
           "Crystal Palace"
          ],
          [
           "Alex McCarthy",
           "Southampton"
          ],
          [
           "John McGinn",
           "Aston Villa"
          ],
          [
           "Scott McKenna",
           "Nott'ham Forest"
          ],
          [
           "Weston McKennie",
           "Leeds United"
          ],
          [
           "Dwight McNeil",
           "Everton"
          ],
          [
           "Scott McTominay",
           "Manchester Utd"
          ],
          [
           "Ben Mee",
           "Brentford"
          ],
          [
           "Edouard Mendy",
           "Chelsea"
          ],
          [
           "Nampalys Mendy",
           "Leicester City"
          ],
          [
           "Chris Mepham",
           "Bournemouth"
          ],
          [
           "Illan Meslier",
           "Leeds United"
          ],
          [
           "Alex Mighten",
           "Nott'ham Forest"
          ],
          [
           "Lewis Miley",
           "Newcastle Utd"
          ],
          [
           "Luka Milivojević",
           "Crystal Palace"
          ],
          [
           "James Milner",
           "Liverpool"
          ],
          [
           "Yerry Mina",
           "Everton"
          ],
          [
           "Tyrone Mings",
           "Aston Villa"
          ],
          [
           "Tyrick Mitchell",
           "Crystal Palace"
          ],
          [
           "Kaoru Mitoma",
           "Brighton"
          ],
          [
           "Aleksandar Mitrović",
           "Fulham"
          ],
          [
           "Kieffer Moore",
           "Bournemouth"
          ],
          [
           "Andrew Moran",
           "Brighton"
          ],
          [
           "Álex Moreno",
           "Aston Villa"
          ],
          [
           "Mason Mount",
           "Chelsea"
          ],
          [
           "Lucas Moura",
           "Tottenham"
          ],
          [
           "João Moutinho",
           "Wolves"
          ],
          [
           "Divin Mubama",
           "West Ham"
          ],
          [
           "Mykhailo Mudryk",
           "Chelsea"
          ],
          [
           "Jacob Murphy",
           "Newcastle Utd"
          ],
          [
           "Enock Mwepu",
           "Brighton"
          ],
          [
           "Vitaliy Mykolenko",
           "Everton"
          ],
          [
           "Keylor Navas",
           "Nott'ham Forest"
          ],
          [
           "Wilfred Ndidi",
           "Leicester City"
          ],
          [
           "Reiss Nelson",
           "Arsenal"
          ],
          [
           "Neto",
           "Bournemouth"
          ],
          [
           "Pedro Neto",
           "Wolves"
          ],
          [
           "Rúben Neves",
           "Wolves"
          ],
          [
           "Moussa Niakhate",
           "Nott'ham Forest"
          ],
          [
           "Rasmus Nissen",
           "Leeds United"
          ],
          [
           "Eddie Nketiah",
           "Arsenal"
          ],
          [
           "Matheus Nunes",
           "Wolves"
          ],
          [
           "Darwin Núñez",
           "Liverpool"
          ],
          [
           "Ethan Nwaneri",
           "Arsenal"
          ],
          [
           "Christian Nørgaard",
           "Brentford"
          ],
          [
           "Lewis O'Brien",
           "Nott'ham Forest"
          ],
          [
           "Odeluga Offiah",
           "Brighton"
          ],
          [
           "Angelo Ogbonna",
           "West Ham"
          ],
          [
           "Michael Olise",
           "Crystal Palace"
          ],
          [
           "Robin Olsen",
           "Aston Villa"
          ],
          [
           "Amadou Onana",
           "Everton"
          ],
          [
           "Josh Onomah",
           "Fulham"
          ],
          [
           "Paul Onuachu",
           "Southampton"
          ],
          [
           "Frank Onyeka",
           "Brentford"
          ],
          [
           "Mislav Oršić",
           "Southampton"
          ],
          [
           "Stefan Ortega",
           "Manchester City"
          ],
          [
           "Dango Ouattara",
           "Bournemouth"
          ],
          [
           "Alex Oxlade-Chamberlain",
           "Liverpool"
          ],
          [
           "David Ozoh",
           "Crystal Palace"
          ],
          [
           "João Palhinha",
           "Fulham"
          ],
          [
           "Cole Palmer",
           "Manchester City"
          ],
          [
           "Emerson Palmieri",
           "West Ham"
          ],
          [
           "Lucas Paquetá",
           "West Ham"
          ],
          [
           "Thomas Partey",
           "Arsenal"
          ],
          [
           "Nathan Patterson",
           "Everton"
          ],
          [
           "Ben Pearson",
           "Bournemouth"
          ],
          [
           "Facundo Pellistri",
           "Manchester Utd"
          ],
          [
           "Andreas Pereira",
           "Fulham"
          ],
          [
           "Ricardo Pereira",
           "Leicester City"
          ],
          [
           "Ayoze Pérez",
           "Leicester City"
          ],
          [
           "Ivan Perišić",
           "Tottenham"
          ],
          [
           "Romain Perraud",
           "Southampton"
          ],
          [
           "Máximo Perrone",
           "Manchester City"
          ],
          [
           "Cameron Peupion",
           "Brighton"
          ],
          [
           "Kalvin Phillips",
           "Manchester City"
          ],
          [
           "Nathaniel Phillips",
           "Liverpool"
          ],
          [
           "Jordan Pickford",
           "Everton"
          ],
          [
           "Ethan Pinnock",
           "Brentford"
          ],
          [
           "Daniel Podence",
           "Wolves"
          ],
          [
           "Nick Pope",
           "Newcastle Utd"
          ],
          [
           "Pedro Porro",
           "Tottenham"
          ],
          [
           "Dennis Praet",
           "Leicester City"
          ],
          [
           "Isaac Price",
           "Everton"
          ],
          [
           "Christian Pulisic",
           "Chelsea"
          ],
          [
           "Aaron Ramsdale",
           "Arsenal"
          ],
          [
           "Jacob Ramsey",
           "Aston Villa"
          ],
          [
           "Marcus Rashford",
           "Manchester Utd"
          ],
          [
           "David Raya",
           "Brentford"
          ],
          [
           "Tim Ream",
           "Fulham"
          ],
          [
           "Nathan Redmond",
           "Southampton"
          ],
          [
           "Harrison Reed",
           "Fulham"
          ],
          [
           "Bobby Reid",
           "Fulham"
          ],
          [
           "Declan Rice",
           "West Ham"
          ],
          [
           "Chris Richards",
           "Crystal Palace"
          ],
          [
           "Richarlison",
           "Tottenham"
          ],
          [
           "Jaïro Riedewald",
           "Crystal Palace"
          ],
          [
           "Matt Ritchie",
           "Newcastle Utd"
          ],
          [
           "Andrew Robertson",
           "Liverpool"
          ],
          [
           "Antonee Robinson",
           "Fulham"
          ],
          [
           "Joel Robles",
           "Leeds United"
          ],
          [
           "Marc Roca",
           "Leeds United"
          ],
          [
           "Marek Rodák",
           "Fulham"
          ],
          [
           "Rodri",
           "Manchester City"
          ],
          [
           "Rodrigo",
           "Leeds United"
          ],
          [
           "Mads Roerslev",
           "Brentford"
          ],
          [
           "Cristian Romero",
           "Tottenham"
          ],
          [
           "Oriol Romeu",
           "Southampton"
          ],
          [
           "Cristiano Ronaldo",
           "Manchester Utd"
          ],
          [
           "Connor Ronan",
           "Wolves"
          ],
          [
           "Salomón Rondón",
           "Everton"
          ],
          [
           "Joe Rothwell",
           "Bournemouth"
          ],
          [
           "Georginio Rutter",
           "Leeds United"
          ],
          [
           "José Sá",
           "Wolves"
          ],
          [
           "Marcel Sabitzer",
           "Manchester Utd"
          ],
          [
           "Allan Saint-Maximin",
           "Newcastle Utd"
          ],
          [
           "Bukayo Saka",
           "Arsenal"
          ],
          [
           "Mohamed Salah",
           "Liverpool"
          ],
          [
           "William Saliba",
           "Arsenal"
          ],
          [
           "Mohammed Salisu",
           "Southampton"
          ],
          [
           "Albert Sambi Lokonga",
           "Arsenal"
          ],
          [
           "Albert Sambi Lokonga",
           "Crystal Palace"
          ],
          [
           "Davinson Sánchez",
           "Tottenham"
          ],
          [
           "Robert Sánchez",
           "Brighton"
          ],
          [
           "Jadon Sancho",
           "Manchester Utd"
          ],
          [
           "Morgan Sanson",
           "Aston Villa"
          ],
          [
           "Pablo Sarabia",
           "Wolves"
          ],
          [
           "Jeremy Sarmiento",
           "Brighton"
          ],
          [
           "Gianluca Scamacca",
           "West Ham"
          ],
          [
           "Gustavo Scarpa",
           "Nott'ham Forest"
          ],
          [
           "Kevin Schade",
           "Brentford"
          ],
          [
           "Fabian Schär",
           "Newcastle Utd"
          ],
          [
           "Jeffrey Schlupp",
           "Crystal Palace"
          ],
          [
           "Nélson Semedo",
           "Wolves"
          ],
          [
           "Antoine Semenyo",
           "Bournemouth"
          ],
          [
           "Marcos Senesi",
           "Bournemouth"
          ],
          [
           "Ryan Sessegnon",
           "Tottenham"
          ],
          [
           "Luke Shaw",
           "Manchester Utd"
          ],
          [
           "Jonjo Shelvey",
           "Newcastle Utd"
          ],
          [
           "Jonjo Shelvey",
           "Nott'ham Forest"
          ],
          [
           "Bernardo Silva",
           "Manchester City"
          ],
          [
           "Thiago Silva",
           "Chelsea"
          ],
          [
           "Ellis Simms",
           "Everton"
          ],
          [
           "Luis Sinisterra",
           "Leeds United"
          ],
          [
           "Oliver Skipp",
           "Tottenham"
          ],
          [
           "Adam Smith",
           "Bournemouth"
          ],
          [
           "Emile Smith Rowe",
           "Arsenal"
          ],
          [
           "Cédric Soares",
           "Arsenal"
          ],
          [
           "Cédric Soares",
           "Fulham"
          ],
          [
           "Dominic Solanke",
           "Bournemouth"
          ],
          [
           "Manor Solomon",
           "Fulham"
          ],
          [
           "Tomáš Souček",
           "West Ham"
          ],
          [
           "Boubakary Soumaré",
           "Leicester City"
          ],
          [
           "Harry Souttar",
           "Leicester City"
          ],
          [
           "Çağlar Söyüncü",
           "Leicester City"
          ],
          [
           "Djed Spence",
           "Tottenham"
          ],
          [
           "Jack Stacey",
           "Bournemouth"
          ],
          [
           "Junior Stanislas",
           "Bournemouth"
          ],
          [
           "Jay Stansfield",
           "Fulham"
          ],
          [
           "Jason Steele",
           "Brighton"
          ],
          [
           "Jack Stephens",
           "Southampton"
          ],
          [
           "Jack Stephens",
           "Bournemouth"
          ],
          [
           "Raheem Sterling",
           "Chelsea"
          ],
          [
           "John Stones",
           "Manchester City"
          ],
          [
           "Pascal Struijk",
           "Leeds United"
          ],
          [
           "Kamaldeen Sulemana",
           "Southampton"
          ],
          [
           "Crysencio Summerville",
           "Leeds United"
          ],
          [
           "Sam Surridge",
           "Nott'ham Forest"
          ],
          [
           "Japhet Tanganga",
           "Tottenham"
          ],
          [
           "Matt Targett",
           "Newcastle Utd"
          ],
          [
           "James Tarkowski",
           "Everton"
          ],
          [
           "Marcus Tavernier",
           "Bournemouth"
          ],
          [
           "Tetê",
           "Leicester City"
          ],
          [
           "Kenny Tete",
           "Fulham"
          ],
          [
           "Luke Thomas",
           "Leicester City"
          ],
          [
           "Youri Tielemans",
           "Leicester City"
          ],
          [
           "Kieran Tierney",
           "Arsenal"
          ],
          [
           "Harry Toffolo",
           "Nott'ham Forest"
          ],
          [
           "Takehiro Tomiyasu",
           "Arsenal"
          ],
          [
           "James Tomkins",
           "Crystal Palace"
          ],
          [
           "Ivan Toney",
           "Brentford"
          ],
          [
           "Adama Traoré",
           "Wolves"
          ],
          [
           "Bertrand Traoré",
           "Aston Villa"
          ],
          [
           "Boubacar Traoré",
           "Wolves"
          ],
          [
           "Mark Travers",
           "Bournemouth"
          ],
          [
           "Kieran Trippier",
           "Newcastle Utd"
          ],
          [
           "Leandro Trossard",
           "Arsenal"
          ],
          [
           "Leandro Trossard",
           "Brighton"
          ],
          [
           "Kostas Tsimikas",
           "Liverpool"
          ],
          [
           "Deniz Undav",
           "Brighton"
          ],
          [
           "Yan Valery",
           "Southampton"
          ],
          [
           "Virgil van Dijk",
           "Liverpool"
          ],
          [
           "Raphaël Varane",
           "Manchester Utd"
          ],
          [
           "Jamie Vardy",
           "Leicester City"
          ],
          [
           "Joël Veltman",
           "Brighton"
          ],
          [
           "Fabio Vieira",
           "Arsenal"
          ],
          [
           "Matías Viña",
           "Bournemouth"
          ],
          [
           "Rúben Vinagre",
           "Everton"
          ],
          [
           "Carlos Vinícius",
           "Fulham"
          ],
          [
           "Theo Walcott",
           "Southampton"
          ],
          [
           "Kyle Walker",
           "Manchester City"
          ],
          [
           "Kyle Walker-Peters",
           "Southampton"
          ],
          [
           "Aaron Wan-Bissaka",
           "Manchester Utd"
          ],
          [
           "Danny Ward",
           "Leicester City"
          ],
          [
           "Joel Ward",
           "Crystal Palace"
          ],
          [
           "James Ward-Prowse",
           "Southampton"
          ],
          [
           "Ollie Watkins",
           "Aston Villa"
          ],
          [
           "Adam Webster",
           "Brighton"
          ],
          [
           "Wout Weghorst",
           "Manchester Utd"
          ],
          [
           "Danny Welbeck",
           "Brighton"
          ],
          [
           "Ben White",
           "Arsenal"
          ],
          [
           "Harvey White",
           "Tottenham"
          ],
          [
           "Joseph Whitworth",
           "Crystal Palace"
          ],
          [
           "Neco Williams",
           "Nott'ham Forest"
          ],
          [
           "Willian",
           "Fulham"
          ],
          [
           "Joe Willock",
           "Newcastle Utd"
          ],
          [
           "Callum Wilson",
           "Newcastle Utd"
          ],
          [
           "Harry Wilson",
           "Fulham"
          ],
          [
           "Yoane Wissa",
           "Brentford"
          ],
          [
           "Maximilian Wöber",
           "Leeds United"
          ],
          [
           "Chris Wood",
           "Newcastle Utd"
          ],
          [
           "Chris Wood",
           "Nott'ham Forest"
          ],
          [
           "Joe Worrall",
           "Nott'ham Forest"
          ],
          [
           "Granit Xhaka",
           "Arsenal"
          ],
          [
           "Ryan Yates",
           "Nott'ham Forest"
          ],
          [
           "Ashley Young",
           "Aston Villa"
          ],
          [
           "Illia Zabarnyi",
           "Bournemouth"
          ],
          [
           "Wilfried Zaha",
           "Crystal Palace"
          ],
          [
           "Denis Zakaria",
           "Chelsea"
          ],
          [
           "Jordan Zemura",
           "Bournemouth"
          ],
          [
           "Oleksandr Zinchenko",
           "Arsenal"
          ],
          [
           "Hakim Ziyech",
           "Chelsea"
          ],
          [
           "Kurt Zouma",
           "West Ham"
          ],
          [
           "Martin Ødegaard",
           "Arsenal"
          ]
         ],
         "hovertemplate": "Tot_Shot=%{x}<br>Goals=%{y}<br>Player=%{customdata[0]}<br>Squad=%{customdata[1]}<extra></extra>",
         "legendgroup": "",
         "marker": {
          "color": "#636efa",
          "symbol": "circle"
         },
         "mode": "markers",
         "name": "",
         "orientation": "v",
         "showlegend": false,
         "type": "scatter",
         "x": [
          41,
          0,
          47,
          4,
          16,
          12,
          3,
          10,
          1,
          15,
          9,
          2,
          10,
          24,
          40,
          0,
          0,
          69,
          46,
          6,
          0,
          22,
          11,
          22,
          39,
          72,
          0,
          0,
          14,
          25,
          23,
          0,
          16,
          2,
          9,
          35,
          1,
          3,
          32,
          24,
          9,
          6,
          51,
          6,
          0,
          48,
          4,
          72,
          0,
          0,
          8,
          0,
          2,
          0,
          14,
          69,
          15,
          0,
          3,
          0,
          0,
          38,
          6,
          2,
          22,
          73,
          1,
          6,
          5,
          0,
          49,
          4,
          11,
          21,
          0,
          28,
          21,
          5,
          30,
          2,
          17,
          1,
          1,
          4,
          11,
          34,
          7,
          19,
          9,
          38,
          1,
          9,
          2,
          0,
          16,
          33,
          5,
          0,
          0,
          4,
          0,
          7,
          3,
          8,
          6,
          3,
          10,
          9,
          28,
          6,
          21,
          0,
          0,
          9,
          7,
          26,
          30,
          22,
          12,
          15,
          6,
          18,
          3,
          14,
          9,
          6,
          11,
          65,
          2,
          2,
          3,
          21,
          1,
          26,
          6,
          10,
          27,
          17,
          8,
          3,
          3,
          0,
          10,
          32,
          20,
          36,
          4,
          0,
          0,
          0,
          1,
          22,
          7,
          0,
          0,
          39,
          8,
          10,
          36,
          0,
          36,
          17,
          39,
          29,
          1,
          70,
          0,
          18,
          13,
          13,
          46,
          36,
          90,
          20,
          39,
          2,
          46,
          2,
          6,
          27,
          1,
          0,
          0,
          6,
          26,
          0,
          8,
          39,
          28,
          15,
          24,
          9,
          0,
          10,
          1,
          3,
          57,
          2,
          6,
          22,
          6,
          4,
          5,
          6,
          7,
          8,
          26,
          57,
          41,
          12,
          39,
          0,
          19,
          14,
          28,
          53,
          1,
          116,
          11,
          0,
          39,
          70,
          2,
          18,
          0,
          23,
          0,
          22,
          81,
          11,
          0,
          2,
          5,
          4,
          6,
          0,
          33,
          38,
          15,
          25,
          49,
          0,
          42,
          3,
          14,
          16,
          14,
          4,
          23,
          76,
          20,
          51,
          2,
          52,
          0,
          15,
          6,
          3,
          1,
          35,
          6,
          5,
          5,
          1,
          4,
          124,
          8,
          14,
          9,
          8,
          10,
          0,
          3,
          14,
          1,
          4,
          17,
          11,
          8,
          11,
          6,
          23,
          0,
          43,
          0,
          8,
          5,
          3,
          10,
          0,
          2,
          12,
          0,
          9,
          13,
          0,
          35,
          0,
          5,
          7,
          3,
          10,
          0,
          6,
          0,
          15,
          9,
          33,
          0,
          34,
          5,
          12,
          80,
          83,
          12,
          3,
          42,
          0,
          1,
          5,
          9,
          0,
          17,
          74,
          0,
          0,
          26,
          79,
          0,
          10,
          2,
          27,
          5,
          32,
          0,
          70,
          0,
          0,
          42,
          2,
          13,
          46,
          13,
          28,
          0,
          2,
          8,
          1,
          0,
          1,
          7,
          7,
          8,
          7,
          6,
          52,
          85,
          23,
          0,
          13,
          33,
          4,
          16,
          0,
          14,
          29,
          2,
          10,
          0,
          7,
          12,
          0,
          17,
          63,
          6,
          13,
          41,
          28,
          84,
          0,
          19,
          7,
          0,
          3,
          51,
          0,
          34,
          0,
          11,
          9,
          0,
          0,
          26,
          7,
          0,
          39,
          11,
          11,
          52,
          28,
          8,
          2,
          0,
          61,
          2,
          8,
          29,
          30,
          0,
          1,
          6,
          1,
          0,
          15,
          43,
          0,
          26,
          5,
          0,
          19,
          0,
          33,
          108,
          1,
          3,
          0,
          20,
          31,
          35,
          4,
          27,
          1,
          0,
          13,
          3,
          0,
          35,
          0,
          50,
          66,
          3,
          11,
          0,
          25,
          0,
          4,
          3,
          4,
          0,
          11,
          28,
          86,
          121,
          6,
          19,
          0,
          2,
          6,
          0,
          21,
          0,
          20,
          5,
          30,
          7,
          12,
          56,
          28,
          9,
          3,
          8,
          18,
          14,
          0,
          6,
          25,
          15,
          8,
          28,
          7,
          5,
          4,
          0,
          2,
          76,
          11,
          34,
          1,
          8,
          5,
          1,
          1,
          1,
          2,
          0,
          0,
          2,
          42,
          11,
          16,
          24,
          29,
          9,
          0,
          1,
          32,
          37,
          15,
          13,
          3,
          29,
          7,
          6,
          3,
          3,
          87,
          19,
          9,
          3,
          0,
          14,
          17,
          38,
          7,
          27,
          0,
          30,
          8,
          27,
          15,
          15,
          9,
          0,
          21,
          20,
          5,
          13,
          10,
          0,
          8,
          40,
          84,
          18,
          14,
          62,
          10,
          0,
          0,
          25,
          41,
          58,
          70,
          18,
          32,
          9,
          8,
          3,
          7,
          40,
          26,
          15,
          0,
          64,
          2,
          4,
          28,
          16,
          19,
          93
         ],
         "xaxis": "x",
         "y": [
          1,
          0,
          5,
          0,
          1,
          2,
          0,
          1,
          0,
          0,
          1,
          1,
          0,
          4,
          2,
          0,
          0,
          11,
          9,
          0,
          0,
          1,
          0,
          3,
          5,
          4,
          0,
          0,
          2,
          2,
          2,
          0,
          1,
          0,
          1,
          10,
          0,
          0,
          4,
          2,
          0,
          1,
          4,
          1,
          0,
          4,
          0,
          13,
          0,
          0,
          0,
          0,
          0,
          0,
          0,
          6,
          5,
          0,
          0,
          0,
          0,
          7,
          0,
          0,
          0,
          6,
          0,
          1,
          0,
          0,
          5,
          0,
          1,
          1,
          0,
          1,
          2,
          1,
          2,
          0,
          2,
          0,
          0,
          0,
          2,
          4,
          0,
          2,
          1,
          4,
          0,
          0,
          0,
          0,
          2,
          1,
          0,
          0,
          0,
          1,
          0,
          1,
          0,
          0,
          0,
          0,
          1,
          0,
          1,
          0,
          1,
          0,
          0,
          0,
          0,
          2,
          4,
          1,
          0,
          3,
          1,
          4,
          0,
          2,
          0,
          0,
          1,
          7,
          0,
          0,
          0,
          2,
          0,
          2,
          0,
          0,
          4,
          2,
          1,
          1,
          0,
          0,
          1,
          3,
          5,
          0,
          0,
          0,
          0,
          0,
          0,
          1,
          0,
          0,
          0,
          5,
          0,
          0,
          1,
          0,
          1,
          2,
          1,
          1,
          0,
          10,
          0,
          0,
          1,
          0,
          4,
          6,
          8,
          0,
          11,
          1,
          11,
          0,
          1,
          3,
          0,
          0,
          0,
          0,
          2,
          0,
          0,
          7,
          3,
          0,
          3,
          0,
          0,
          0,
          0,
          0,
          5,
          0,
          0,
          2,
          0,
          1,
          1,
          0,
          0,
          1,
          3,
          4,
          5,
          1,
          9,
          0,
          1,
          1,
          4,
          8,
          0,
          36,
          0,
          0,
          5,
          7,
          0,
          3,
          0,
          0,
          0,
          0,
          10,
          0,
          0,
          0,
          1,
          0,
          1,
          0,
          4,
          5,
          2,
          6,
          10,
          0,
          2,
          0,
          2,
          1,
          3,
          1,
          5,
          11,
          0,
          6,
          0,
          8,
          0,
          3,
          0,
          2,
          0,
          7,
          0,
          0,
          0,
          0,
          0,
          30,
          0,
          1,
          0,
          0,
          0,
          0,
          0,
          0,
          1,
          0,
          0,
          0,
          0,
          2,
          1,
          1,
          0,
          2,
          0,
          2,
          0,
          1,
          0,
          0,
          0,
          1,
          0,
          0,
          0,
          0,
          5,
          0,
          0,
          0,
          0,
          0,
          0,
          0,
          0,
          0,
          0,
          1,
          0,
          6,
          0,
          1,
          10,
          10,
          1,
          0,
          5,
          0,
          0,
          0,
          1,
          0,
          1,
          7,
          0,
          0,
          6,
          15,
          0,
          1,
          0,
          2,
          1,
          1,
          0,
          9,
          0,
          0,
          1,
          0,
          0,
          7,
          1,
          3,
          0,
          1,
          0,
          0,
          0,
          0,
          0,
          0,
          2,
          1,
          0,
          7,
          14,
          4,
          0,
          0,
          3,
          1,
          0,
          0,
          0,
          4,
          0,
          0,
          0,
          0,
          3,
          0,
          0,
          6,
          0,
          3,
          4,
          1,
          9,
          0,
          1,
          1,
          0,
          0,
          2,
          0,
          1,
          0,
          0,
          0,
          0,
          0,
          1,
          1,
          0,
          3,
          0,
          1,
          4,
          3,
          0,
          0,
          0,
          4,
          1,
          0,
          1,
          2,
          0,
          0,
          0,
          0,
          0,
          3,
          6,
          0,
          3,
          1,
          0,
          1,
          0,
          6,
          17,
          0,
          1,
          0,
          3,
          4,
          4,
          0,
          1,
          0,
          0,
          0,
          0,
          0,
          1,
          0,
          2,
          13,
          0,
          0,
          0,
          1,
          0,
          0,
          0,
          0,
          0,
          0,
          1,
          14,
          19,
          2,
          0,
          0,
          0,
          0,
          0,
          6,
          0,
          1,
          0,
          3,
          0,
          0,
          1,
          3,
          0,
          1,
          2,
          2,
          1,
          0,
          0,
          4,
          0,
          1,
          5,
          1,
          0,
          0,
          0,
          0,
          6,
          4,
          2,
          0,
          0,
          1,
          0,
          0,
          0,
          0,
          0,
          0,
          0,
          6,
          2,
          2,
          2,
          4,
          1,
          0,
          0,
          1,
          5,
          1,
          1,
          0,
          3,
          0,
          0,
          0,
          1,
          20,
          2,
          2,
          0,
          0,
          1,
          1,
          7,
          0,
          5,
          0,
          3,
          0,
          3,
          1,
          1,
          2,
          0,
          5,
          2,
          0,
          1,
          0,
          0,
          1,
          9,
          15,
          0,
          0,
          6,
          2,
          0,
          0,
          1,
          5,
          3,
          18,
          2,
          7,
          0,
          2,
          1,
          1,
          7,
          0,
          1,
          0,
          7,
          0,
          0,
          1,
          0,
          2,
          15
         ],
         "yaxis": "y"
        },
        {
         "mode": "lines",
         "name": "Trend Line",
         "type": "scatter",
         "x": [
          0,
          1.2525252525252526,
          2.505050505050505,
          3.757575757575758,
          5.01010101010101,
          6.262626262626263,
          7.515151515151516,
          8.767676767676768,
          10.02020202020202,
          11.272727272727273,
          12.525252525252526,
          13.777777777777779,
          15.030303030303031,
          16.282828282828284,
          17.535353535353536,
          18.78787878787879,
          20.04040404040404,
          21.292929292929294,
          22.545454545454547,
          23.7979797979798,
          25.050505050505052,
          26.303030303030305,
          27.555555555555557,
          28.80808080808081,
          30.060606060606062,
          31.313131313131315,
          32.56565656565657,
          33.81818181818182,
          35.07070707070707,
          36.323232323232325,
          37.57575757575758,
          38.82828282828283,
          40.08080808080808,
          41.333333333333336,
          42.58585858585859,
          43.83838383838384,
          45.09090909090909,
          46.343434343434346,
          47.5959595959596,
          48.84848484848485,
          50.101010101010104,
          51.35353535353536,
          52.60606060606061,
          53.85858585858586,
          55.111111111111114,
          56.36363636363637,
          57.61616161616162,
          58.86868686868687,
          60.121212121212125,
          61.37373737373738,
          62.62626262626263,
          63.87878787878788,
          65.13131313131314,
          66.3838383838384,
          67.63636363636364,
          68.88888888888889,
          70.14141414141415,
          71.3939393939394,
          72.64646464646465,
          73.8989898989899,
          75.15151515151516,
          76.40404040404042,
          77.65656565656566,
          78.9090909090909,
          80.16161616161617,
          81.41414141414143,
          82.66666666666667,
          83.91919191919192,
          85.17171717171718,
          86.42424242424244,
          87.67676767676768,
          88.92929292929293,
          90.18181818181819,
          91.43434343434345,
          92.68686868686869,
          93.93939393939394,
          95.1919191919192,
          96.44444444444446,
          97.6969696969697,
          98.94949494949495,
          100.20202020202021,
          101.45454545454547,
          102.70707070707071,
          103.95959595959596,
          105.21212121212122,
          106.46464646464648,
          107.71717171717172,
          108.96969696969697,
          110.22222222222223,
          111.47474747474749,
          112.72727272727273,
          113.97979797979798,
          115.23232323232324,
          116.4848484848485,
          117.73737373737374,
          118.98989898989899,
          120.24242424242425,
          121.49494949494951,
          122.74747474747475,
          124
         ],
         "y": [
          -0.595329062182647,
          -0.4138719704330174,
          -0.23241487868338767,
          -0.050957786933757965,
          0.1304993048158717,
          0.31195639656550145,
          0.4934134883151311,
          0.6748705800647608,
          0.8563276718143904,
          1.0377847635640203,
          1.21924185531365,
          1.4006989470632796,
          1.5821560388129092,
          1.7636131305625389,
          1.9450702223121685,
          2.126527314061798,
          2.307984405811428,
          2.4894414975610575,
          2.6708985893106876,
          2.8523556810603172,
          3.033812772809947,
          3.2152698645595765,
          3.396726956309206,
          3.5781840480588354,
          3.7596411398084655,
          3.9410982315580956,
          4.122555323307725,
          4.304012415057355,
          4.485469506806984,
          4.666926598556614,
          4.848383690306243,
          5.0298407820558735,
          5.211297873805503,
          5.392754965555133,
          5.574212057304762,
          5.755669149054392,
          5.937126240804022,
          6.118583332553651,
          6.3000404243032815,
          6.481497516052911,
          6.662954607802541,
          6.84441169955217,
          7.0258687913018,
          7.207325883051429,
          7.388782974801059,
          7.5702400665506895,
          7.751697158300318,
          7.933154250049948,
          8.114611341799577,
          8.296068433549209,
          8.477525525298837,
          8.658982617048466,
          8.840439708798097,
          9.021896800547726,
          9.203353892297358,
          9.384810984046986,
          9.566268075796614,
          9.747725167546246,
          9.929182259295875,
          10.110639351045503,
          10.292096442795135,
          10.473553534544767,
          10.655010626294395,
          10.836467718044023,
          11.017924809793652,
          11.199381901543283,
          11.380838993292912,
          11.56229608504254,
          11.743753176792172,
          11.925210268541804,
          12.106667360291432,
          12.28812445204106,
          12.469581543790692,
          12.65103863554032,
          12.832495727289949,
          13.013952819039577,
          13.195409910789209,
          13.376867002538841,
          13.55832409428847,
          13.739781186038098,
          13.92123827778773,
          14.102695369537358,
          14.284152461286986,
          14.465609553036614,
          14.647066644786246,
          14.828523736535878,
          15.009980828285507,
          15.191437920035135,
          15.372895011784767,
          15.554352103534399,
          15.735809195284027,
          15.917266287033655,
          16.098723378783284,
          16.280180470532915,
          16.461637562282544,
          16.643094654032172,
          16.824551745781804,
          17.006008837531436,
          17.187465929281064,
          17.368923021030692
         ]
        }
       ],
       "layout": {
        "annotations": [
         {
          "align": "right",
          "font": {
           "size": 12
          },
          "showarrow": false,
          "text": "Correlation: 0.86",
          "x": 0.95,
          "xref": "paper",
          "y": 1.05,
          "yref": "paper"
         }
        ],
        "legend": {
         "tracegroupgap": 0
        },
        "margin": {
         "t": 60
        },
        "template": {
         "data": {
          "bar": [
           {
            "error_x": {
             "color": "#2a3f5f"
            },
            "error_y": {
             "color": "#2a3f5f"
            },
            "marker": {
             "line": {
              "color": "#E5ECF6",
              "width": 0.5
             },
             "pattern": {
              "fillmode": "overlay",
              "size": 10,
              "solidity": 0.2
             }
            },
            "type": "bar"
           }
          ],
          "barpolar": [
           {
            "marker": {
             "line": {
              "color": "#E5ECF6",
              "width": 0.5
             },
             "pattern": {
              "fillmode": "overlay",
              "size": 10,
              "solidity": 0.2
             }
            },
            "type": "barpolar"
           }
          ],
          "carpet": [
           {
            "aaxis": {
             "endlinecolor": "#2a3f5f",
             "gridcolor": "white",
             "linecolor": "white",
             "minorgridcolor": "white",
             "startlinecolor": "#2a3f5f"
            },
            "baxis": {
             "endlinecolor": "#2a3f5f",
             "gridcolor": "white",
             "linecolor": "white",
             "minorgridcolor": "white",
             "startlinecolor": "#2a3f5f"
            },
            "type": "carpet"
           }
          ],
          "choropleth": [
           {
            "colorbar": {
             "outlinewidth": 0,
             "ticks": ""
            },
            "type": "choropleth"
           }
          ],
          "contour": [
           {
            "colorbar": {
             "outlinewidth": 0,
             "ticks": ""
            },
            "colorscale": [
             [
              0,
              "#0d0887"
             ],
             [
              0.1111111111111111,
              "#46039f"
             ],
             [
              0.2222222222222222,
              "#7201a8"
             ],
             [
              0.3333333333333333,
              "#9c179e"
             ],
             [
              0.4444444444444444,
              "#bd3786"
             ],
             [
              0.5555555555555556,
              "#d8576b"
             ],
             [
              0.6666666666666666,
              "#ed7953"
             ],
             [
              0.7777777777777778,
              "#fb9f3a"
             ],
             [
              0.8888888888888888,
              "#fdca26"
             ],
             [
              1,
              "#f0f921"
             ]
            ],
            "type": "contour"
           }
          ],
          "contourcarpet": [
           {
            "colorbar": {
             "outlinewidth": 0,
             "ticks": ""
            },
            "type": "contourcarpet"
           }
          ],
          "heatmap": [
           {
            "colorbar": {
             "outlinewidth": 0,
             "ticks": ""
            },
            "colorscale": [
             [
              0,
              "#0d0887"
             ],
             [
              0.1111111111111111,
              "#46039f"
             ],
             [
              0.2222222222222222,
              "#7201a8"
             ],
             [
              0.3333333333333333,
              "#9c179e"
             ],
             [
              0.4444444444444444,
              "#bd3786"
             ],
             [
              0.5555555555555556,
              "#d8576b"
             ],
             [
              0.6666666666666666,
              "#ed7953"
             ],
             [
              0.7777777777777778,
              "#fb9f3a"
             ],
             [
              0.8888888888888888,
              "#fdca26"
             ],
             [
              1,
              "#f0f921"
             ]
            ],
            "type": "heatmap"
           }
          ],
          "heatmapgl": [
           {
            "colorbar": {
             "outlinewidth": 0,
             "ticks": ""
            },
            "colorscale": [
             [
              0,
              "#0d0887"
             ],
             [
              0.1111111111111111,
              "#46039f"
             ],
             [
              0.2222222222222222,
              "#7201a8"
             ],
             [
              0.3333333333333333,
              "#9c179e"
             ],
             [
              0.4444444444444444,
              "#bd3786"
             ],
             [
              0.5555555555555556,
              "#d8576b"
             ],
             [
              0.6666666666666666,
              "#ed7953"
             ],
             [
              0.7777777777777778,
              "#fb9f3a"
             ],
             [
              0.8888888888888888,
              "#fdca26"
             ],
             [
              1,
              "#f0f921"
             ]
            ],
            "type": "heatmapgl"
           }
          ],
          "histogram": [
           {
            "marker": {
             "pattern": {
              "fillmode": "overlay",
              "size": 10,
              "solidity": 0.2
             }
            },
            "type": "histogram"
           }
          ],
          "histogram2d": [
           {
            "colorbar": {
             "outlinewidth": 0,
             "ticks": ""
            },
            "colorscale": [
             [
              0,
              "#0d0887"
             ],
             [
              0.1111111111111111,
              "#46039f"
             ],
             [
              0.2222222222222222,
              "#7201a8"
             ],
             [
              0.3333333333333333,
              "#9c179e"
             ],
             [
              0.4444444444444444,
              "#bd3786"
             ],
             [
              0.5555555555555556,
              "#d8576b"
             ],
             [
              0.6666666666666666,
              "#ed7953"
             ],
             [
              0.7777777777777778,
              "#fb9f3a"
             ],
             [
              0.8888888888888888,
              "#fdca26"
             ],
             [
              1,
              "#f0f921"
             ]
            ],
            "type": "histogram2d"
           }
          ],
          "histogram2dcontour": [
           {
            "colorbar": {
             "outlinewidth": 0,
             "ticks": ""
            },
            "colorscale": [
             [
              0,
              "#0d0887"
             ],
             [
              0.1111111111111111,
              "#46039f"
             ],
             [
              0.2222222222222222,
              "#7201a8"
             ],
             [
              0.3333333333333333,
              "#9c179e"
             ],
             [
              0.4444444444444444,
              "#bd3786"
             ],
             [
              0.5555555555555556,
              "#d8576b"
             ],
             [
              0.6666666666666666,
              "#ed7953"
             ],
             [
              0.7777777777777778,
              "#fb9f3a"
             ],
             [
              0.8888888888888888,
              "#fdca26"
             ],
             [
              1,
              "#f0f921"
             ]
            ],
            "type": "histogram2dcontour"
           }
          ],
          "mesh3d": [
           {
            "colorbar": {
             "outlinewidth": 0,
             "ticks": ""
            },
            "type": "mesh3d"
           }
          ],
          "parcoords": [
           {
            "line": {
             "colorbar": {
              "outlinewidth": 0,
              "ticks": ""
             }
            },
            "type": "parcoords"
           }
          ],
          "pie": [
           {
            "automargin": true,
            "type": "pie"
           }
          ],
          "scatter": [
           {
            "fillpattern": {
             "fillmode": "overlay",
             "size": 10,
             "solidity": 0.2
            },
            "type": "scatter"
           }
          ],
          "scatter3d": [
           {
            "line": {
             "colorbar": {
              "outlinewidth": 0,
              "ticks": ""
             }
            },
            "marker": {
             "colorbar": {
              "outlinewidth": 0,
              "ticks": ""
             }
            },
            "type": "scatter3d"
           }
          ],
          "scattercarpet": [
           {
            "marker": {
             "colorbar": {
              "outlinewidth": 0,
              "ticks": ""
             }
            },
            "type": "scattercarpet"
           }
          ],
          "scattergeo": [
           {
            "marker": {
             "colorbar": {
              "outlinewidth": 0,
              "ticks": ""
             }
            },
            "type": "scattergeo"
           }
          ],
          "scattergl": [
           {
            "marker": {
             "colorbar": {
              "outlinewidth": 0,
              "ticks": ""
             }
            },
            "type": "scattergl"
           }
          ],
          "scattermapbox": [
           {
            "marker": {
             "colorbar": {
              "outlinewidth": 0,
              "ticks": ""
             }
            },
            "type": "scattermapbox"
           }
          ],
          "scatterpolar": [
           {
            "marker": {
             "colorbar": {
              "outlinewidth": 0,
              "ticks": ""
             }
            },
            "type": "scatterpolar"
           }
          ],
          "scatterpolargl": [
           {
            "marker": {
             "colorbar": {
              "outlinewidth": 0,
              "ticks": ""
             }
            },
            "type": "scatterpolargl"
           }
          ],
          "scatterternary": [
           {
            "marker": {
             "colorbar": {
              "outlinewidth": 0,
              "ticks": ""
             }
            },
            "type": "scatterternary"
           }
          ],
          "surface": [
           {
            "colorbar": {
             "outlinewidth": 0,
             "ticks": ""
            },
            "colorscale": [
             [
              0,
              "#0d0887"
             ],
             [
              0.1111111111111111,
              "#46039f"
             ],
             [
              0.2222222222222222,
              "#7201a8"
             ],
             [
              0.3333333333333333,
              "#9c179e"
             ],
             [
              0.4444444444444444,
              "#bd3786"
             ],
             [
              0.5555555555555556,
              "#d8576b"
             ],
             [
              0.6666666666666666,
              "#ed7953"
             ],
             [
              0.7777777777777778,
              "#fb9f3a"
             ],
             [
              0.8888888888888888,
              "#fdca26"
             ],
             [
              1,
              "#f0f921"
             ]
            ],
            "type": "surface"
           }
          ],
          "table": [
           {
            "cells": {
             "fill": {
              "color": "#EBF0F8"
             },
             "line": {
              "color": "white"
             }
            },
            "header": {
             "fill": {
              "color": "#C8D4E3"
             },
             "line": {
              "color": "white"
             }
            },
            "type": "table"
           }
          ]
         },
         "layout": {
          "annotationdefaults": {
           "arrowcolor": "#2a3f5f",
           "arrowhead": 0,
           "arrowwidth": 1
          },
          "autotypenumbers": "strict",
          "coloraxis": {
           "colorbar": {
            "outlinewidth": 0,
            "ticks": ""
           }
          },
          "colorscale": {
           "diverging": [
            [
             0,
             "#8e0152"
            ],
            [
             0.1,
             "#c51b7d"
            ],
            [
             0.2,
             "#de77ae"
            ],
            [
             0.3,
             "#f1b6da"
            ],
            [
             0.4,
             "#fde0ef"
            ],
            [
             0.5,
             "#f7f7f7"
            ],
            [
             0.6,
             "#e6f5d0"
            ],
            [
             0.7,
             "#b8e186"
            ],
            [
             0.8,
             "#7fbc41"
            ],
            [
             0.9,
             "#4d9221"
            ],
            [
             1,
             "#276419"
            ]
           ],
           "sequential": [
            [
             0,
             "#0d0887"
            ],
            [
             0.1111111111111111,
             "#46039f"
            ],
            [
             0.2222222222222222,
             "#7201a8"
            ],
            [
             0.3333333333333333,
             "#9c179e"
            ],
            [
             0.4444444444444444,
             "#bd3786"
            ],
            [
             0.5555555555555556,
             "#d8576b"
            ],
            [
             0.6666666666666666,
             "#ed7953"
            ],
            [
             0.7777777777777778,
             "#fb9f3a"
            ],
            [
             0.8888888888888888,
             "#fdca26"
            ],
            [
             1,
             "#f0f921"
            ]
           ],
           "sequentialminus": [
            [
             0,
             "#0d0887"
            ],
            [
             0.1111111111111111,
             "#46039f"
            ],
            [
             0.2222222222222222,
             "#7201a8"
            ],
            [
             0.3333333333333333,
             "#9c179e"
            ],
            [
             0.4444444444444444,
             "#bd3786"
            ],
            [
             0.5555555555555556,
             "#d8576b"
            ],
            [
             0.6666666666666666,
             "#ed7953"
            ],
            [
             0.7777777777777778,
             "#fb9f3a"
            ],
            [
             0.8888888888888888,
             "#fdca26"
            ],
            [
             1,
             "#f0f921"
            ]
           ]
          },
          "colorway": [
           "#636efa",
           "#EF553B",
           "#00cc96",
           "#ab63fa",
           "#FFA15A",
           "#19d3f3",
           "#FF6692",
           "#B6E880",
           "#FF97FF",
           "#FECB52"
          ],
          "font": {
           "color": "#2a3f5f"
          },
          "geo": {
           "bgcolor": "white",
           "lakecolor": "white",
           "landcolor": "#E5ECF6",
           "showlakes": true,
           "showland": true,
           "subunitcolor": "white"
          },
          "hoverlabel": {
           "align": "left"
          },
          "hovermode": "closest",
          "mapbox": {
           "style": "light"
          },
          "paper_bgcolor": "white",
          "plot_bgcolor": "#E5ECF6",
          "polar": {
           "angularaxis": {
            "gridcolor": "white",
            "linecolor": "white",
            "ticks": ""
           },
           "bgcolor": "#E5ECF6",
           "radialaxis": {
            "gridcolor": "white",
            "linecolor": "white",
            "ticks": ""
           }
          },
          "scene": {
           "xaxis": {
            "backgroundcolor": "#E5ECF6",
            "gridcolor": "white",
            "gridwidth": 2,
            "linecolor": "white",
            "showbackground": true,
            "ticks": "",
            "zerolinecolor": "white"
           },
           "yaxis": {
            "backgroundcolor": "#E5ECF6",
            "gridcolor": "white",
            "gridwidth": 2,
            "linecolor": "white",
            "showbackground": true,
            "ticks": "",
            "zerolinecolor": "white"
           },
           "zaxis": {
            "backgroundcolor": "#E5ECF6",
            "gridcolor": "white",
            "gridwidth": 2,
            "linecolor": "white",
            "showbackground": true,
            "ticks": "",
            "zerolinecolor": "white"
           }
          },
          "shapedefaults": {
           "line": {
            "color": "#2a3f5f"
           }
          },
          "ternary": {
           "aaxis": {
            "gridcolor": "white",
            "linecolor": "white",
            "ticks": ""
           },
           "baxis": {
            "gridcolor": "white",
            "linecolor": "white",
            "ticks": ""
           },
           "bgcolor": "#E5ECF6",
           "caxis": {
            "gridcolor": "white",
            "linecolor": "white",
            "ticks": ""
           }
          },
          "title": {
           "x": 0.05
          },
          "xaxis": {
           "automargin": true,
           "gridcolor": "white",
           "linecolor": "white",
           "ticks": "",
           "title": {
            "standoff": 15
           },
           "zerolinecolor": "white",
           "zerolinewidth": 2
          },
          "yaxis": {
           "automargin": true,
           "gridcolor": "white",
           "linecolor": "white",
           "ticks": "",
           "title": {
            "standoff": 15
           },
           "zerolinecolor": "white",
           "zerolinewidth": 2
          }
         }
        },
        "xaxis": {
         "anchor": "y",
         "domain": [
          0,
          1
         ],
         "title": {
          "text": "Tot_Shot"
         }
        },
        "yaxis": {
         "anchor": "x",
         "domain": [
          0,
          1
         ],
         "title": {
          "text": "Goals"
         }
        }
       }
      }
     },
     "metadata": {},
     "output_type": "display_data"
    }
   ],
   "source": [
    "# Calculate the correlation\n",
    "correlation = player_shooting['Tot_Shot'].corr(player_shooting['Goals'])\n",
    "\n",
    "# Calculate the linear regression line\n",
    "slope, intercept, r_value, p_value, std_err = linregress(player_shooting['Tot_Shot'], player_shooting['Goals'])\n",
    "x = np.linspace(player_shooting['Tot_Shot'].min(), player_shooting['Tot_Shot'].max(), 100)\n",
    "y = slope * x + intercept\n",
    "\n",
    "# Plot the scatterplot with trend line\n",
    "fig = px.scatter(player_shooting, x='Tot_Shot', y='Goals', hover_data=['Player', 'Squad'])\n",
    "fig.add_annotation(\n",
    "    x=0.95,\n",
    "    y=1.05,  # Adjust the y-coordinate to position the annotation at the top\n",
    "    text=f\"Correlation: {correlation:.2f}\",\n",
    "    showarrow=False,\n",
    "    font=dict(size=12),\n",
    "    xref=\"paper\",\n",
    "    yref=\"paper\",\n",
    "    align=\"right\"\n",
    ")\n",
    "fig.add_trace(go.Scatter(x=x, y=y, mode='lines', name='Trend Line'))\n",
    "fig.show()\n"
   ]
  },
  {
   "cell_type": "code",
   "execution_count": 14,
   "metadata": {},
   "outputs": [
    {
     "data": {
      "application/vnd.plotly.v1+json": {
       "config": {
        "plotlyServerURL": "https://plot.ly"
       },
       "data": [
        {
         "customdata": [
          [
           "Brenden Aaronson",
           "Leeds United"
          ],
          [
           "George Abbott",
           "Tottenham"
          ],
          [
           "Che Adams",
           "Southampton"
          ],
          [
           "Tyler Adams",
           "Leeds United"
          ],
          [
           "Tosin Adarabioyo",
           "Fulham"
          ],
          [
           "Nayef Aguerd",
           "West Ham"
          ],
          [
           "Naouirou Ahamada",
           "Crystal Palace"
          ],
          [
           "Rayan Aït Nouri",
           "Wolves"
          ],
          [
           "Kristoffer Ajer",
           "Brentford"
          ],
          [
           "Manuel Akanji",
           "Manchester City"
          ],
          [
           "Nathan Aké",
           "Manchester City"
          ],
          [
           "Marc Albrighton",
           "Leicester City"
          ],
          [
           "Thiago Alcántara",
           "Liverpool"
          ],
          [
           "Carlos Alcaraz",
           "Southampton"
          ],
          [
           "Trent Alexander-Arnold",
           "Liverpool"
          ],
          [
           "Alisson",
           "Liverpool"
          ],
          [
           "Dele Alli",
           "Everton"
          ],
          [
           "Miguel Almirón",
           "Newcastle Utd"
          ],
          [
           "Julián Álvarez",
           "Manchester City"
          ],
          [
           "Daniel Amartey",
           "Leicester City"
          ],
          [
           "Samuel Amo-Ameyaw",
           "Southampton"
          ],
          [
           "Joachim Andersen",
           "Crystal Palace"
          ],
          [
           "Elliot Anderson",
           "Newcastle Utd"
          ],
          [
           "Jaidon Anthony",
           "Bournemouth"
          ],
          [
           "Michail Antonio",
           "West Ham"
          ],
          [
           "Antony",
           "Manchester Utd"
          ],
          [
           "Cameron Archer",
           "Aston Villa"
          ],
          [
           "Alphonse Areola",
           "West Ham"
          ],
          [
           "Joe Aribo",
           "Southampton"
          ],
          [
           "Adam Armstrong",
           "Southampton"
          ],
          [
           "Stuart Armstrong",
           "Southampton"
          ],
          [
           "Kepa Arrizabalaga",
           "Chelsea"
          ],
          [
           "Pierre-Emerick Aubameyang",
           "Chelsea"
          ],
          [
           "Ludwig Augustinsson",
           "Aston Villa"
          ],
          [
           "Serge Aurier",
           "Nott'ham Forest"
          ],
          [
           "Taiwo Awoniyi",
           "Nott'ham Forest"
          ],
          [
           "Yasin Ayari",
           "Brighton"
          ],
          [
           "André Ayew",
           "Nott'ham Forest"
          ],
          [
           "Jordan Ayew",
           "Crystal Palace"
          ],
          [
           "Luke Ayling",
           "Leeds United"
          ],
          [
           "César Azpilicueta",
           "Chelsea"
          ],
          [
           "Benoît Badiashile",
           "Chelsea"
          ],
          [
           "Leon Bailey",
           "Aston Villa"
          ],
          [
           "Stefan Bajcetic",
           "Liverpool"
          ],
          [
           "Dominic Ballard",
           "Southampton"
          ],
          [
           "Patrick Bamford",
           "Leeds United"
          ],
          [
           "Shandon Baptiste",
           "Brentford"
          ],
          [
           "Harvey Barnes",
           "Leicester City"
          ],
          [
           "Gavin Bazunu",
           "Southampton"
          ],
          [
           "Mads Bech Sørensen",
           "Brentford"
          ],
          [
           "Jan Bednarek",
           "Southampton"
          ],
          [
           "Jan Bednarek",
           "Aston Villa"
          ],
          [
           "Donny van de Beek",
           "Manchester Utd"
          ],
          [
           "Asmir Begović",
           "Everton"
          ],
          [
           "Armel Bella Kotchap",
           "Southampton"
          ],
          [
           "Saïd Benrahma",
           "West Ham"
          ],
          [
           "Rodrigo Bentancur",
           "Tottenham"
          ],
          [
           "Daniel Bentley",
           "Wolves"
          ],
          [
           "Victor Bernth Kristiansen",
           "Leicester City"
          ],
          [
           "Owen Bevan",
           "Bournemouth"
          ],
          [
           "Giulian Biancone",
           "Nott'ham Forest"
          ],
          [
           "Philip Billing",
           "Bournemouth"
          ],
          [
           "Yves Bissouma",
           "Tottenham"
          ],
          [
           "Willy Boly",
           "Nott'ham Forest"
          ],
          [
           "Sven Botman",
           "Newcastle Utd"
          ],
          [
           "Jarrod Bowen",
           "West Ham"
          ],
          [
           "James Bree",
           "Southampton"
          ],
          [
           "Armando Broja",
           "Chelsea"
          ],
          [
           "David Brooks",
           "Bournemouth"
          ],
          [
           "Lewis Brunt",
           "Leicester City"
          ],
          [
           "Emi Buendía",
           "Aston Villa"
          ],
          [
           "Hugo Bueno",
           "Wolves"
          ],
          [
           "Facundo Buonanotte",
           "Brighton"
          ],
          [
           "Dan Burn",
           "Newcastle Utd"
          ],
          [
           "Cafú",
           "Nott'ham Forest"
          ],
          [
           "Moisés Caicedo",
           "Brighton"
          ],
          [
           "Tom Cairney",
           "Fulham"
          ],
          [
           "Duje Ćaleta-Car",
           "Southampton"
          ],
          [
           "Dominic Calvert-Lewin",
           "Everton"
          ],
          [
           "Chem Campbell",
           "Wolves"
          ],
          [
           "João Cancelo",
           "Manchester City"
          ],
          [
           "Thomas Cannon",
           "Everton"
          ],
          [
           "Sergi Canós",
           "Brentford"
          ],
          [
           "Diego Carlos",
           "Aston Villa"
          ],
          [
           "Fabio Carvalho",
           "Liverpool"
          ],
          [
           "Casemiro",
           "Manchester Utd"
          ],
          [
           "Matty Cash",
           "Aston Villa"
          ],
          [
           "Timothy Castagne",
           "Leicester City"
          ],
          [
           "Jonny Castro",
           "Wolves"
          ],
          [
           "Julio César Enciso",
           "Brighton"
          ],
          [
           "Nathaniel Chalobah",
           "Fulham"
          ],
          [
           "Trevoh Chalobah",
           "Chelsea"
          ],
          [
           "Calum Chambers",
           "Aston Villa"
          ],
          [
           "Shea Charles",
           "Manchester City"
          ],
          [
           "Ben Chilwell",
           "Chelsea"
          ],
          [
           "Ryan Christie",
           "Bournemouth"
          ],
          [
           "Carney Chukwuemeka",
           "Chelsea"
          ],
          [
           "Bobby Clark",
           "Liverpool"
          ],
          [
           "Nathaniel Clyne",
           "Crystal Palace"
          ],
          [
           "Conor Coady",
           "Everton"
          ],
          [
           "Jack Colback",
           "Nott'ham Forest"
          ],
          [
           "Séamus Coleman",
           "Everton"
          ],
          [
           "Nathan Collins",
           "Wolves"
          ],
          [
           "Levi Colwill",
           "Brighton"
          ],
          [
           "Lewis Cook",
           "Bournemouth"
          ],
          [
           "Steve Cook",
           "Nott'ham Forest"
          ],
          [
           "Liam Cooper",
           "Leeds United"
          ],
          [
           "Maxwel Cornet",
           "West Ham"
          ],
          [
           "Diego Costa",
           "Wolves"
          ],
          [
           "Vladimír Coufal",
           "West Ham"
          ],
          [
           "Philippe Coutinho",
           "Aston Villa"
          ],
          [
           "Conor Coventry",
           "West Ham"
          ],
          [
           "Matthew Craig",
           "Tottenham"
          ],
          [
           "Aaron Cresswell",
           "West Ham"
          ],
          [
           "Marc Cucurella",
           "Chelsea"
          ],
          [
           "Matheus Cunha",
           "Wolves"
          ],
          [
           "Patson Daka",
           "Leicester City"
          ],
          [
           "Diogo Dalot",
           "Manchester Utd"
          ],
          [
           "Mikkel Damsgaard",
           "Brentford"
          ],
          [
           "Danilo",
           "Nott'ham Forest"
          ],
          [
           "Arnaut Danjuma",
           "Tottenham"
          ],
          [
           "Josh Dasilva",
           "Brentford"
          ],
          [
           "David Datro Fofana",
           "Chelsea"
          ],
          [
           "Ben Davies",
           "Tottenham"
          ],
          [
           "Tom Davies",
           "Everton"
          ],
          [
           "Craig Dawson",
           "West Ham"
          ],
          [
           "Craig Dawson",
           "Wolves"
          ],
          [
           "Kevin De Bruyne",
           "Manchester City"
          ],
          [
           "Siriki Dembélé",
           "Bournemouth"
          ],
          [
           "Leander Dendoncker",
           "Aston Villa"
          ],
          [
           "Leander Dendoncker",
           "Wolves"
          ],
          [
           "Emmanuel Dennis",
           "Nott'ham Forest"
          ],
          [
           "Halil Dervişoğlu",
           "Brentford"
          ],
          [
           "Kiernan Dewsbury-Hall",
           "Leicester City"
          ],
          [
           "Ibrahima Diallo",
           "Southampton"
          ],
          [
           "Rúben Dias",
           "Manchester City"
          ],
          [
           "Luis Díaz",
           "Liverpool"
          ],
          [
           "Eric Dier",
           "Tottenham"
          ],
          [
           "Lucas Digne",
           "Aston Villa"
          ],
          [
           "Issa Diop",
           "Fulham"
          ],
          [
           "Moussa Djenepo",
           "Southampton"
          ],
          [
           "Ben Doak",
           "Liverpool"
          ],
          [
           "Matt Doherty",
           "Tottenham"
          ],
          [
           "Gabriel Dos Santos",
           "Arsenal"
          ],
          [
           "Abdoulaye Doucouré",
           "Everton"
          ],
          [
           "Cheick Doucouré",
           "Crystal Palace"
          ],
          [
           "Flynn Downes",
           "West Ham"
          ],
          [
           "Kami Doyle",
           "Southampton"
          ],
          [
           "Cody Drameh",
           "Leeds United"
          ],
          [
           "Martin Dúbravka",
           "Newcastle Utd"
          ],
          [
           "Shane Duffy",
           "Fulham"
          ],
          [
           "Lewis Dunk",
           "Brighton"
          ],
          [
           "Jhon Durán",
           "Aston Villa"
          ],
          [
           "Malcolm Ebiowei",
           "Crystal Palace"
          ],
          [
           "Ederson",
           "Manchester City"
          ],
          [
           "Odsonne Édouard",
           "Crystal Palace"
          ],
          [
           "Samuel Edozie",
           "Southampton"
          ],
          [
           "Anthony Elanga",
           "Manchester Utd"
          ],
          [
           "Harvey Elliott",
           "Liverpool"
          ],
          [
           "Mohamed Elneny",
           "Arsenal"
          ],
          [
           "Mohamed Elyounoussi",
           "Southampton"
          ],
          [
           "Emerson",
           "Tottenham"
          ],
          [
           "Christian Eriksen",
           "Manchester Utd"
          ],
          [
           "Pervis Estupiñán",
           "Brighton"
          ],
          [
           "Jonny Evans",
           "Leicester City"
          ],
          [
           "Eberechi Eze",
           "Crystal Palace"
          ],
          [
           "Łukasz Fabiański",
           "West Ham"
          ],
          [
           "Fabinho",
           "Liverpool"
          ],
          [
           "Wout Faes",
           "Leicester City"
          ],
          [
           "Felipe",
           "Nott'ham Forest"
          ],
          [
           "João Félix",
           "Chelsea"
          ],
          [
           "Evan Ferguson",
           "Brighton"
          ],
          [
           "Bruno Fernandes",
           "Manchester Utd"
          ],
          [
           "Enzo Fernández",
           "Chelsea"
          ],
          [
           "Roberto Firmino",
           "Liverpool"
          ],
          [
           "Junior Firpo",
           "Leeds United"
          ],
          [
           "Phil Foden",
           "Manchester City"
          ],
          [
           "Wesley Fofana",
           "Leicester City"
          ],
          [
           "Wesley Fofana",
           "Chelsea"
          ],
          [
           "Pablo Fornals",
           "West Ham"
          ],
          [
           "Adam Forshaw",
           "Leeds United"
          ],
          [
           "Fraser Forster",
           "Tottenham"
          ],
          [
           "Tyrese Francois",
           "Fulham"
          ],
          [
           "Ryan Fraser",
           "Newcastle Utd"
          ],
          [
           "Fred",
           "Manchester Utd"
          ],
          [
           "Ryan Fredericks",
           "Bournemouth"
          ],
          [
           "Remo Freuler",
           "Nott'ham Forest"
          ],
          [
           "Cody Gakpo",
           "Liverpool"
          ],
          [
           "Conor Gallagher",
           "Chelsea"
          ],
          [
           "Idrissa Gana Gueye",
           "Everton"
          ],
          [
           "Alejandro Garnacho",
           "Manchester Utd"
          ],
          [
           "James Garner",
           "Everton"
          ],
          [
           "David de Gea",
           "Manchester Utd"
          ],
          [
           "Joe Gelhardt",
           "Leeds United"
          ],
          [
           "Saman Ghoddos",
           "Brentford"
          ],
          [
           "Morgan Gibbs-White",
           "Wolves"
          ],
          [
           "Morgan Gibbs-White",
           "Nott'ham Forest"
          ],
          [
           "Bryan Gil",
           "Tottenham"
          ],
          [
           "Billy Gilmour",
           "Brighton"
          ],
          [
           "Degnand Gnonto",
           "Leeds United"
          ],
          [
           "Ben Godfrey",
           "Everton"
          ],
          [
           "João Gomes",
           "Wolves"
          ],
          [
           "Toti Gomes",
           "Wolves"
          ],
          [
           "Joe Gomez",
           "Liverpool"
          ],
          [
           "Sergio Gómez",
           "Manchester City"
          ],
          [
           "Anthony Gordon",
           "Newcastle Utd"
          ],
          [
           "Anthony Gordon",
           "Everton"
          ],
          [
           "Demarai Gray",
           "Everton"
          ],
          [
           "Jack Grealish",
           "Manchester City"
          ],
          [
           "Sam Greenwood",
           "Leeds United"
          ],
          [
           "Pascal Groß",
           "Brighton"
          ],
          [
           "Vicente Guaita",
           "Crystal Palace"
          ],
          [
           "Gonçalo Guedes",
           "Wolves"
          ],
          [
           "Marc Guéhi",
           "Crystal Palace"
          ],
          [
           "Bruno Guimarães",
           "Newcastle Utd"
          ],
          [
           "İlkay Gündoğan",
           "Manchester City"
          ],
          [
           "Darko Gyabi",
           "Leeds United"
          ],
          [
           "Erling Haaland",
           "Manchester City"
          ],
          [
           "Lewis Hall",
           "Chelsea"
          ],
          [
           "Luke Harris",
           "Fulham"
          ],
          [
           "Jack Harrison",
           "Leeds United"
          ],
          [
           "Kai Havertz",
           "Chelsea"
          ],
          [
           "Jan Paul van Hecke",
           "Brighton"
          ],
          [
           "Hwang Hee-chan",
           "Wolves"
          ],
          [
           "Dean Henderson",
           "Nott'ham Forest"
          ],
          [
           "Jordan Henderson",
           "Liverpool"
          ],
          [
           "Wayne Hennessey",
           "Nott'ham Forest"
          ],
          [
           "Rico Henry",
           "Brentford"
          ],
          [
           "Son Heung-min",
           "Tottenham"
          ],
          [
           "Aaron Hickey",
           "Brentford"
          ],
          [
           "Jack Hinshelwood",
           "Brighton"
          ],
          [
           "Joseph Hodge",
           "Wolves"
          ],
          [
           "Rob Holding",
           "Arsenal"
          ],
          [
           "Mason Holgate",
           "Everton"
          ],
          [
           "Will Hughes",
           "Crystal Palace"
          ],
          [
           "Omari Hutchinson",
           "Chelsea"
          ],
          [
           "Pierre Højbjerg",
           "Tottenham"
          ],
          [
           "Kelechi Iheanacho",
           "Leicester City"
          ],
          [
           "Danny Ings",
           "West Ham"
          ],
          [
           "Danny Ings",
           "Aston Villa"
          ],
          [
           "Alexander Isak",
           "Newcastle Utd"
          ],
          [
           "Daniel Iversen",
           "Leicester City"
          ],
          [
           "Alex Iwobi",
           "Everton"
          ],
          [
           "Daniel James",
           "Leeds United"
          ],
          [
           "Daniel James",
           "Fulham"
          ],
          [
           "Reece James",
           "Chelsea"
          ],
          [
           "Vitaly Janelt",
           "Brentford"
          ],
          [
           "Pontus Jansson",
           "Brentford"
          ],
          [
           "Mathias Jensen",
           "Brentford"
          ],
          [
           "Gabriel Jesus",
           "Arsenal"
          ],
          [
           "Raúl Jiménez",
           "Wolves"
          ],
          [
           "Joelinton",
           "Newcastle Utd"
          ],
          [
           "Ben Johnson",
           "West Ham"
          ],
          [
           "Brennan Johnson",
           "Nott'ham Forest"
          ],
          [
           "Sam Johnstone",
           "Crystal Palace"
          ],
          [
           "Curtis Jones",
           "Liverpool"
          ],
          [
           "Jorginho",
           "Arsenal"
          ],
          [
           "Jorginho",
           "Chelsea"
          ],
          [
           "Mateo Joseph",
           "Leeds United"
          ],
          [
           "Diogo Jota",
           "Liverpool"
          ],
          [
           "Hamed Junior Traorè",
           "Bournemouth"
          ],
          [
           "James Justin",
           "Leicester City"
          ],
          [
           "Mathias Jørgensen",
           "Brentford"
          ],
          [
           "Sasa Kalajdzic",
           "Wolves"
          ],
          [
           "Boubacar Kamara",
           "Aston Villa"
          ],
          [
           "Harry Kane",
           "Tottenham"
          ],
          [
           "N'Golo Kanté",
           "Chelsea"
          ],
          [
           "Michael Keane",
           "Everton"
          ],
          [
           "Neeskens Kebano",
           "Fulham"
          ],
          [
           "Thilo Kehrer",
           "West Ham"
          ],
          [
           "Naby Keïta",
           "Liverpool"
          ],
          [
           "Caoimhín Kelleher",
           "Liverpool"
          ],
          [
           "Lloyd Kelly",
           "Bournemouth"
          ],
          [
           "Max Kilman",
           "Wolves"
          ],
          [
           "Jakub Kiwior",
           "Arsenal"
          ],
          [
           "Mateusz Klich",
           "Leeds United"
          ],
          [
           "Robin Koch",
           "Leeds United"
          ],
          [
           "Ibrahima Konaté",
           "Liverpool"
          ],
          [
           "Ezri Konsa",
           "Aston Villa"
          ],
          [
           "Kalidou Koulibaly",
           "Chelsea"
          ],
          [
           "Cheikhou Kouyaté",
           "Nott'ham Forest"
          ],
          [
           "Mateo Kovačić",
           "Chelsea"
          ],
          [
           "Emil Krafth",
           "Newcastle Utd"
          ],
          [
           "Dejan Kulusevski",
           "Tottenham"
          ],
          [
           "Layvin Kurzawa",
           "Fulham"
          ],
          [
           "Adam Lallana",
           "Brighton"
          ],
          [
           "Tariq Lamptey",
           "Brighton"
          ],
          [
           "Manuel Lanzini",
           "West Ham"
          ],
          [
           "Aymeric Laporte",
           "Manchester City"
          ],
          [
           "Juan Larios",
           "Southampton"
          ],
          [
           "Jamaal Lascelles",
           "Newcastle Utd"
          ],
          [
           "Roméo Lavia",
           "Southampton"
          ],
          [
           "Dexter Lembikisa",
           "Wolves"
          ],
          [
           "Mario Lemina",
           "Wolves"
          ],
          [
           "Clément Lenglet",
           "Tottenham"
          ],
          [
           "Bernd Leno",
           "Fulham"
          ],
          [
           "Jefferson Lerma",
           "Bournemouth"
          ],
          [
           "Jamal Lewis",
           "Newcastle Utd"
          ],
          [
           "Rico Lewis",
           "Manchester City"
          ],
          [
           "Keane Lewis-Potter",
           "Brentford"
          ],
          [
           "Victor Lindelöf",
           "Manchester Utd"
          ],
          [
           "Jesse Lingard",
           "Nott'ham Forest"
          ],
          [
           "Valentino Livramento",
           "Southampton"
          ],
          [
           "Diego Llorente",
           "Leeds United"
          ],
          [
           "Hugo Lloris",
           "Tottenham"
          ],
          [
           "Renan Lodi",
           "Nott'ham Forest"
          ],
          [
           "Ruben Loftus-Cheek",
           "Chelsea"
          ],
          [
           "Sean Longstaff",
           "Newcastle Utd"
          ],
          [
           "Jamal Lowe",
           "Bournemouth"
          ],
          [
           "Douglas Luiz",
           "Aston Villa"
          ],
          [
           "Saša Lukić",
           "Fulham"
          ],
          [
           "Lyanco",
           "Southampton"
          ],
          [
           "Alexis Mac Allister",
           "Brighton"
          ],
          [
           "James Maddison",
           "Leicester City"
          ],
          [
           "Noni Madueke",
           "Chelsea"
          ],
          [
           "Harry Maguire",
           "Manchester Utd"
          ],
          [
           "Riyad Mahrez",
           "Manchester City"
          ],
          [
           "Kobbie Mainoo",
           "Manchester Utd"
          ],
          [
           "Ainsley Maitland-Niles",
           "Southampton"
          ],
          [
           "Tyrell Malacia",
           "Manchester Utd"
          ],
          [
           "Orel Mangala",
           "Nott'ham Forest"
          ],
          [
           "Javier Manquillo",
           "Newcastle Utd"
          ],
          [
           "Sekou Mara",
           "Southampton"
          ],
          [
           "Solly March",
           "Brighton"
          ],
          [
           "Emiliano Marcondes",
           "Bournemouth"
          ],
          [
           "Marquinhos",
           "Arsenal"
          ],
          [
           "Anthony Martial",
           "Manchester Utd"
          ],
          [
           "Gabriel Martinelli",
           "Arsenal"
          ],
          [
           "Emiliano Martínez",
           "Aston Villa"
          ],
          [
           "Lisandro Martínez",
           "Manchester Utd"
          ],
          [
           "Pape Matar Sarr",
           "Tottenham"
          ],
          [
           "Jean-Philippe Mateta",
           "Crystal Palace"
          ],
          [
           "Joël Matip",
           "Liverpool"
          ],
          [
           "Neal Maupay",
           "Everton"
          ],
          [
           "Kevin Mbabu",
           "Fulham"
          ],
          [
           "Bryan Mbeumo",
           "Brentford"
          ],
          [
           "James McArthur",
           "Crystal Palace"
          ],
          [
           "Alex McCarthy",
           "Southampton"
          ],
          [
           "John McGinn",
           "Aston Villa"
          ],
          [
           "Scott McKenna",
           "Nott'ham Forest"
          ],
          [
           "Weston McKennie",
           "Leeds United"
          ],
          [
           "Dwight McNeil",
           "Everton"
          ],
          [
           "Scott McTominay",
           "Manchester Utd"
          ],
          [
           "Ben Mee",
           "Brentford"
          ],
          [
           "Edouard Mendy",
           "Chelsea"
          ],
          [
           "Nampalys Mendy",
           "Leicester City"
          ],
          [
           "Chris Mepham",
           "Bournemouth"
          ],
          [
           "Illan Meslier",
           "Leeds United"
          ],
          [
           "Alex Mighten",
           "Nott'ham Forest"
          ],
          [
           "Lewis Miley",
           "Newcastle Utd"
          ],
          [
           "Luka Milivojević",
           "Crystal Palace"
          ],
          [
           "James Milner",
           "Liverpool"
          ],
          [
           "Yerry Mina",
           "Everton"
          ],
          [
           "Tyrone Mings",
           "Aston Villa"
          ],
          [
           "Tyrick Mitchell",
           "Crystal Palace"
          ],
          [
           "Kaoru Mitoma",
           "Brighton"
          ],
          [
           "Aleksandar Mitrović",
           "Fulham"
          ],
          [
           "Kieffer Moore",
           "Bournemouth"
          ],
          [
           "Andrew Moran",
           "Brighton"
          ],
          [
           "Álex Moreno",
           "Aston Villa"
          ],
          [
           "Mason Mount",
           "Chelsea"
          ],
          [
           "Lucas Moura",
           "Tottenham"
          ],
          [
           "João Moutinho",
           "Wolves"
          ],
          [
           "Divin Mubama",
           "West Ham"
          ],
          [
           "Mykhailo Mudryk",
           "Chelsea"
          ],
          [
           "Jacob Murphy",
           "Newcastle Utd"
          ],
          [
           "Enock Mwepu",
           "Brighton"
          ],
          [
           "Vitaliy Mykolenko",
           "Everton"
          ],
          [
           "Keylor Navas",
           "Nott'ham Forest"
          ],
          [
           "Wilfred Ndidi",
           "Leicester City"
          ],
          [
           "Reiss Nelson",
           "Arsenal"
          ],
          [
           "Neto",
           "Bournemouth"
          ],
          [
           "Pedro Neto",
           "Wolves"
          ],
          [
           "Rúben Neves",
           "Wolves"
          ],
          [
           "Moussa Niakhate",
           "Nott'ham Forest"
          ],
          [
           "Rasmus Nissen",
           "Leeds United"
          ],
          [
           "Eddie Nketiah",
           "Arsenal"
          ],
          [
           "Matheus Nunes",
           "Wolves"
          ],
          [
           "Darwin Núñez",
           "Liverpool"
          ],
          [
           "Ethan Nwaneri",
           "Arsenal"
          ],
          [
           "Christian Nørgaard",
           "Brentford"
          ],
          [
           "Lewis O'Brien",
           "Nott'ham Forest"
          ],
          [
           "Odeluga Offiah",
           "Brighton"
          ],
          [
           "Angelo Ogbonna",
           "West Ham"
          ],
          [
           "Michael Olise",
           "Crystal Palace"
          ],
          [
           "Robin Olsen",
           "Aston Villa"
          ],
          [
           "Amadou Onana",
           "Everton"
          ],
          [
           "Josh Onomah",
           "Fulham"
          ],
          [
           "Paul Onuachu",
           "Southampton"
          ],
          [
           "Frank Onyeka",
           "Brentford"
          ],
          [
           "Mislav Oršić",
           "Southampton"
          ],
          [
           "Stefan Ortega",
           "Manchester City"
          ],
          [
           "Dango Ouattara",
           "Bournemouth"
          ],
          [
           "Alex Oxlade-Chamberlain",
           "Liverpool"
          ],
          [
           "David Ozoh",
           "Crystal Palace"
          ],
          [
           "João Palhinha",
           "Fulham"
          ],
          [
           "Cole Palmer",
           "Manchester City"
          ],
          [
           "Emerson Palmieri",
           "West Ham"
          ],
          [
           "Lucas Paquetá",
           "West Ham"
          ],
          [
           "Thomas Partey",
           "Arsenal"
          ],
          [
           "Nathan Patterson",
           "Everton"
          ],
          [
           "Ben Pearson",
           "Bournemouth"
          ],
          [
           "Facundo Pellistri",
           "Manchester Utd"
          ],
          [
           "Andreas Pereira",
           "Fulham"
          ],
          [
           "Ricardo Pereira",
           "Leicester City"
          ],
          [
           "Ayoze Pérez",
           "Leicester City"
          ],
          [
           "Ivan Perišić",
           "Tottenham"
          ],
          [
           "Romain Perraud",
           "Southampton"
          ],
          [
           "Máximo Perrone",
           "Manchester City"
          ],
          [
           "Cameron Peupion",
           "Brighton"
          ],
          [
           "Kalvin Phillips",
           "Manchester City"
          ],
          [
           "Nathaniel Phillips",
           "Liverpool"
          ],
          [
           "Jordan Pickford",
           "Everton"
          ],
          [
           "Ethan Pinnock",
           "Brentford"
          ],
          [
           "Daniel Podence",
           "Wolves"
          ],
          [
           "Nick Pope",
           "Newcastle Utd"
          ],
          [
           "Pedro Porro",
           "Tottenham"
          ],
          [
           "Dennis Praet",
           "Leicester City"
          ],
          [
           "Isaac Price",
           "Everton"
          ],
          [
           "Christian Pulisic",
           "Chelsea"
          ],
          [
           "Aaron Ramsdale",
           "Arsenal"
          ],
          [
           "Jacob Ramsey",
           "Aston Villa"
          ],
          [
           "Marcus Rashford",
           "Manchester Utd"
          ],
          [
           "David Raya",
           "Brentford"
          ],
          [
           "Tim Ream",
           "Fulham"
          ],
          [
           "Nathan Redmond",
           "Southampton"
          ],
          [
           "Harrison Reed",
           "Fulham"
          ],
          [
           "Bobby Reid",
           "Fulham"
          ],
          [
           "Declan Rice",
           "West Ham"
          ],
          [
           "Chris Richards",
           "Crystal Palace"
          ],
          [
           "Richarlison",
           "Tottenham"
          ],
          [
           "Jaïro Riedewald",
           "Crystal Palace"
          ],
          [
           "Matt Ritchie",
           "Newcastle Utd"
          ],
          [
           "Andrew Robertson",
           "Liverpool"
          ],
          [
           "Antonee Robinson",
           "Fulham"
          ],
          [
           "Joel Robles",
           "Leeds United"
          ],
          [
           "Marc Roca",
           "Leeds United"
          ],
          [
           "Marek Rodák",
           "Fulham"
          ],
          [
           "Rodri",
           "Manchester City"
          ],
          [
           "Rodrigo",
           "Leeds United"
          ],
          [
           "Mads Roerslev",
           "Brentford"
          ],
          [
           "Cristian Romero",
           "Tottenham"
          ],
          [
           "Oriol Romeu",
           "Southampton"
          ],
          [
           "Cristiano Ronaldo",
           "Manchester Utd"
          ],
          [
           "Connor Ronan",
           "Wolves"
          ],
          [
           "Salomón Rondón",
           "Everton"
          ],
          [
           "Joe Rothwell",
           "Bournemouth"
          ],
          [
           "Georginio Rutter",
           "Leeds United"
          ],
          [
           "José Sá",
           "Wolves"
          ],
          [
           "Marcel Sabitzer",
           "Manchester Utd"
          ],
          [
           "Allan Saint-Maximin",
           "Newcastle Utd"
          ],
          [
           "Bukayo Saka",
           "Arsenal"
          ],
          [
           "Mohamed Salah",
           "Liverpool"
          ],
          [
           "William Saliba",
           "Arsenal"
          ],
          [
           "Mohammed Salisu",
           "Southampton"
          ],
          [
           "Albert Sambi Lokonga",
           "Arsenal"
          ],
          [
           "Albert Sambi Lokonga",
           "Crystal Palace"
          ],
          [
           "Davinson Sánchez",
           "Tottenham"
          ],
          [
           "Robert Sánchez",
           "Brighton"
          ],
          [
           "Jadon Sancho",
           "Manchester Utd"
          ],
          [
           "Morgan Sanson",
           "Aston Villa"
          ],
          [
           "Pablo Sarabia",
           "Wolves"
          ],
          [
           "Jeremy Sarmiento",
           "Brighton"
          ],
          [
           "Gianluca Scamacca",
           "West Ham"
          ],
          [
           "Gustavo Scarpa",
           "Nott'ham Forest"
          ],
          [
           "Kevin Schade",
           "Brentford"
          ],
          [
           "Fabian Schär",
           "Newcastle Utd"
          ],
          [
           "Jeffrey Schlupp",
           "Crystal Palace"
          ],
          [
           "Nélson Semedo",
           "Wolves"
          ],
          [
           "Antoine Semenyo",
           "Bournemouth"
          ],
          [
           "Marcos Senesi",
           "Bournemouth"
          ],
          [
           "Ryan Sessegnon",
           "Tottenham"
          ],
          [
           "Luke Shaw",
           "Manchester Utd"
          ],
          [
           "Jonjo Shelvey",
           "Newcastle Utd"
          ],
          [
           "Jonjo Shelvey",
           "Nott'ham Forest"
          ],
          [
           "Bernardo Silva",
           "Manchester City"
          ],
          [
           "Thiago Silva",
           "Chelsea"
          ],
          [
           "Ellis Simms",
           "Everton"
          ],
          [
           "Luis Sinisterra",
           "Leeds United"
          ],
          [
           "Oliver Skipp",
           "Tottenham"
          ],
          [
           "Adam Smith",
           "Bournemouth"
          ],
          [
           "Emile Smith Rowe",
           "Arsenal"
          ],
          [
           "Cédric Soares",
           "Arsenal"
          ],
          [
           "Cédric Soares",
           "Fulham"
          ],
          [
           "Dominic Solanke",
           "Bournemouth"
          ],
          [
           "Manor Solomon",
           "Fulham"
          ],
          [
           "Tomáš Souček",
           "West Ham"
          ],
          [
           "Boubakary Soumaré",
           "Leicester City"
          ],
          [
           "Harry Souttar",
           "Leicester City"
          ],
          [
           "Çağlar Söyüncü",
           "Leicester City"
          ],
          [
           "Djed Spence",
           "Tottenham"
          ],
          [
           "Jack Stacey",
           "Bournemouth"
          ],
          [
           "Junior Stanislas",
           "Bournemouth"
          ],
          [
           "Jay Stansfield",
           "Fulham"
          ],
          [
           "Jason Steele",
           "Brighton"
          ],
          [
           "Jack Stephens",
           "Southampton"
          ],
          [
           "Jack Stephens",
           "Bournemouth"
          ],
          [
           "Raheem Sterling",
           "Chelsea"
          ],
          [
           "John Stones",
           "Manchester City"
          ],
          [
           "Pascal Struijk",
           "Leeds United"
          ],
          [
           "Kamaldeen Sulemana",
           "Southampton"
          ],
          [
           "Crysencio Summerville",
           "Leeds United"
          ],
          [
           "Sam Surridge",
           "Nott'ham Forest"
          ],
          [
           "Japhet Tanganga",
           "Tottenham"
          ],
          [
           "Matt Targett",
           "Newcastle Utd"
          ],
          [
           "James Tarkowski",
           "Everton"
          ],
          [
           "Marcus Tavernier",
           "Bournemouth"
          ],
          [
           "Tetê",
           "Leicester City"
          ],
          [
           "Kenny Tete",
           "Fulham"
          ],
          [
           "Luke Thomas",
           "Leicester City"
          ],
          [
           "Youri Tielemans",
           "Leicester City"
          ],
          [
           "Kieran Tierney",
           "Arsenal"
          ],
          [
           "Harry Toffolo",
           "Nott'ham Forest"
          ],
          [
           "Takehiro Tomiyasu",
           "Arsenal"
          ],
          [
           "James Tomkins",
           "Crystal Palace"
          ],
          [
           "Ivan Toney",
           "Brentford"
          ],
          [
           "Adama Traoré",
           "Wolves"
          ],
          [
           "Bertrand Traoré",
           "Aston Villa"
          ],
          [
           "Boubacar Traoré",
           "Wolves"
          ],
          [
           "Mark Travers",
           "Bournemouth"
          ],
          [
           "Kieran Trippier",
           "Newcastle Utd"
          ],
          [
           "Leandro Trossard",
           "Arsenal"
          ],
          [
           "Leandro Trossard",
           "Brighton"
          ],
          [
           "Kostas Tsimikas",
           "Liverpool"
          ],
          [
           "Deniz Undav",
           "Brighton"
          ],
          [
           "Yan Valery",
           "Southampton"
          ],
          [
           "Virgil van Dijk",
           "Liverpool"
          ],
          [
           "Raphaël Varane",
           "Manchester Utd"
          ],
          [
           "Jamie Vardy",
           "Leicester City"
          ],
          [
           "Joël Veltman",
           "Brighton"
          ],
          [
           "Fabio Vieira",
           "Arsenal"
          ],
          [
           "Matías Viña",
           "Bournemouth"
          ],
          [
           "Rúben Vinagre",
           "Everton"
          ],
          [
           "Carlos Vinícius",
           "Fulham"
          ],
          [
           "Theo Walcott",
           "Southampton"
          ],
          [
           "Kyle Walker",
           "Manchester City"
          ],
          [
           "Kyle Walker-Peters",
           "Southampton"
          ],
          [
           "Aaron Wan-Bissaka",
           "Manchester Utd"
          ],
          [
           "Danny Ward",
           "Leicester City"
          ],
          [
           "Joel Ward",
           "Crystal Palace"
          ],
          [
           "James Ward-Prowse",
           "Southampton"
          ],
          [
           "Ollie Watkins",
           "Aston Villa"
          ],
          [
           "Adam Webster",
           "Brighton"
          ],
          [
           "Wout Weghorst",
           "Manchester Utd"
          ],
          [
           "Danny Welbeck",
           "Brighton"
          ],
          [
           "Ben White",
           "Arsenal"
          ],
          [
           "Harvey White",
           "Tottenham"
          ],
          [
           "Joseph Whitworth",
           "Crystal Palace"
          ],
          [
           "Neco Williams",
           "Nott'ham Forest"
          ],
          [
           "Willian",
           "Fulham"
          ],
          [
           "Joe Willock",
           "Newcastle Utd"
          ],
          [
           "Callum Wilson",
           "Newcastle Utd"
          ],
          [
           "Harry Wilson",
           "Fulham"
          ],
          [
           "Yoane Wissa",
           "Brentford"
          ],
          [
           "Maximilian Wöber",
           "Leeds United"
          ],
          [
           "Chris Wood",
           "Newcastle Utd"
          ],
          [
           "Chris Wood",
           "Nott'ham Forest"
          ],
          [
           "Joe Worrall",
           "Nott'ham Forest"
          ],
          [
           "Granit Xhaka",
           "Arsenal"
          ],
          [
           "Ryan Yates",
           "Nott'ham Forest"
          ],
          [
           "Ashley Young",
           "Aston Villa"
          ],
          [
           "Illia Zabarnyi",
           "Bournemouth"
          ],
          [
           "Wilfried Zaha",
           "Crystal Palace"
          ],
          [
           "Denis Zakaria",
           "Chelsea"
          ],
          [
           "Jordan Zemura",
           "Bournemouth"
          ],
          [
           "Oleksandr Zinchenko",
           "Arsenal"
          ],
          [
           "Hakim Ziyech",
           "Chelsea"
          ],
          [
           "Kurt Zouma",
           "West Ham"
          ],
          [
           "Martin Ødegaard",
           "Arsenal"
          ]
         ],
         "hovertemplate": "Shot_On_Target=%{x}<br>Goals=%{y}<br>Player=%{customdata[0]}<br>Squad=%{customdata[1]}<extra></extra>",
         "legendgroup": "",
         "marker": {
          "color": "#636efa",
          "symbol": "circle"
         },
         "mode": "markers",
         "name": "",
         "orientation": "v",
         "showlegend": false,
         "type": "scatter",
         "x": [
          9,
          0,
          14,
          0,
          4,
          2,
          0,
          5,
          0,
          2,
          2,
          1,
          1,
          10,
          8,
          0,
          0,
          20,
          20,
          2,
          0,
          9,
          4,
          13,
          13,
          24,
          0,
          0,
          8,
          12,
          6,
          0,
          7,
          1,
          3,
          15,
          0,
          1,
          10,
          5,
          1,
          2,
          14,
          3,
          0,
          16,
          1,
          34,
          0,
          0,
          0,
          0,
          0,
          0,
          2,
          23,
          9,
          0,
          0,
          0,
          0,
          18,
          0,
          1,
          7,
          21,
          1,
          5,
          1,
          0,
          11,
          1,
          3,
          4,
          0,
          8,
          2,
          2,
          9,
          0,
          3,
          1,
          0,
          0,
          4,
          11,
          1,
          5,
          2,
          18,
          1,
          2,
          0,
          0,
          4,
          9,
          1,
          0,
          0,
          2,
          0,
          2,
          0,
          0,
          0,
          0,
          2,
          2,
          14,
          0,
          8,
          0,
          0,
          1,
          0,
          7,
          16,
          7,
          5,
          4,
          3,
          6,
          1,
          5,
          2,
          1,
          2,
          21,
          2,
          0,
          2,
          7,
          0,
          6,
          0,
          2,
          8,
          4,
          3,
          2,
          2,
          0,
          2,
          9,
          8,
          7,
          1,
          0,
          0,
          0,
          0,
          3,
          2,
          0,
          0,
          15,
          3,
          4,
          12,
          0,
          10,
          6,
          11,
          4,
          1,
          25,
          0,
          4,
          3,
          1,
          16,
          17,
          32,
          3,
          25,
          1,
          22,
          1,
          2,
          7,
          0,
          0,
          0,
          1,
          5,
          0,
          1,
          12,
          11,
          6,
          9,
          3,
          0,
          2,
          1,
          1,
          19,
          1,
          1,
          8,
          0,
          2,
          2,
          2,
          0,
          2,
          16,
          22,
          15,
          2,
          19,
          0,
          6,
          6,
          8,
          20,
          0,
          53,
          5,
          0,
          14,
          31,
          0,
          7,
          0,
          5,
          0,
          4,
          38,
          2,
          0,
          0,
          2,
          0,
          4,
          0,
          9,
          13,
          4,
          12,
          23,
          0,
          15,
          1,
          3,
          4,
          5,
          2,
          7,
          31,
          9,
          19,
          1,
          24,
          0,
          5,
          0,
          1,
          1,
          11,
          0,
          0,
          1,
          0,
          1,
          54,
          1,
          4,
          2,
          1,
          0,
          0,
          0,
          0,
          1,
          1,
          4,
          3,
          0,
          4,
          5,
          1,
          0,
          10,
          0,
          5,
          0,
          1,
          1,
          0,
          0,
          3,
          0,
          2,
          2,
          0,
          10,
          0,
          2,
          2,
          0,
          2,
          0,
          0,
          0,
          0,
          2,
          7,
          0,
          12,
          1,
          4,
          28,
          27,
          6,
          0,
          12,
          0,
          1,
          2,
          3,
          0,
          4,
          31,
          0,
          0,
          12,
          30,
          0,
          1,
          0,
          7,
          3,
          13,
          0,
          32,
          0,
          0,
          11,
          0,
          2,
          15,
          6,
          7,
          0,
          1,
          4,
          1,
          0,
          0,
          0,
          1,
          4,
          2,
          1,
          21,
          27,
          8,
          0,
          3,
          9,
          1,
          3,
          0,
          5,
          10,
          1,
          3,
          0,
          2,
          7,
          0,
          3,
          13,
          3,
          5,
          14,
          9,
          35,
          0,
          8,
          2,
          0,
          0,
          14,
          0,
          6,
          0,
          5,
          4,
          0,
          0,
          5,
          3,
          0,
          9,
          3,
          5,
          14,
          4,
          1,
          1,
          0,
          22,
          1,
          2,
          8,
          6,
          0,
          0,
          0,
          0,
          0,
          8,
          17,
          0,
          7,
          2,
          0,
          6,
          0,
          13,
          49,
          0,
          2,
          0,
          7,
          10,
          8,
          0,
          14,
          0,
          0,
          2,
          0,
          0,
          13,
          0,
          14,
          25,
          0,
          2,
          0,
          6,
          0,
          1,
          2,
          0,
          0,
          3,
          11,
          29,
          45,
          3,
          4,
          0,
          1,
          2,
          0,
          9,
          0,
          5,
          2,
          10,
          1,
          4,
          14,
          9,
          0,
          1,
          2,
          6,
          4,
          0,
          0,
          9,
          2,
          1,
          11,
          3,
          1,
          1,
          0,
          0,
          28,
          7,
          13,
          0,
          1,
          2,
          0,
          0,
          0,
          0,
          0,
          0,
          1,
          16,
          3,
          7,
          7,
          9,
          2,
          0,
          0,
          9,
          14,
          1,
          5,
          0,
          8,
          2,
          2,
          0,
          2,
          33,
          7,
          3,
          0,
          0,
          4,
          5,
          17,
          2,
          12,
          0,
          9,
          4,
          13,
          5,
          2,
          6,
          0,
          12,
          7,
          1,
          5,
          2,
          0,
          2,
          16,
          45,
          2,
          5,
          22,
          2,
          0,
          0,
          7,
          17,
          16,
          31,
          4,
          15,
          2,
          3,
          1,
          2,
          14,
          5,
          3,
          0,
          21,
          0,
          0,
          7,
          3,
          5,
          31
         ],
         "xaxis": "x",
         "y": [
          1,
          0,
          5,
          0,
          1,
          2,
          0,
          1,
          0,
          0,
          1,
          1,
          0,
          4,
          2,
          0,
          0,
          11,
          9,
          0,
          0,
          1,
          0,
          3,
          5,
          4,
          0,
          0,
          2,
          2,
          2,
          0,
          1,
          0,
          1,
          10,
          0,
          0,
          4,
          2,
          0,
          1,
          4,
          1,
          0,
          4,
          0,
          13,
          0,
          0,
          0,
          0,
          0,
          0,
          0,
          6,
          5,
          0,
          0,
          0,
          0,
          7,
          0,
          0,
          0,
          6,
          0,
          1,
          0,
          0,
          5,
          0,
          1,
          1,
          0,
          1,
          2,
          1,
          2,
          0,
          2,
          0,
          0,
          0,
          2,
          4,
          0,
          2,
          1,
          4,
          0,
          0,
          0,
          0,
          2,
          1,
          0,
          0,
          0,
          1,
          0,
          1,
          0,
          0,
          0,
          0,
          1,
          0,
          1,
          0,
          1,
          0,
          0,
          0,
          0,
          2,
          4,
          1,
          0,
          3,
          1,
          4,
          0,
          2,
          0,
          0,
          1,
          7,
          0,
          0,
          0,
          2,
          0,
          2,
          0,
          0,
          4,
          2,
          1,
          1,
          0,
          0,
          1,
          3,
          5,
          0,
          0,
          0,
          0,
          0,
          0,
          1,
          0,
          0,
          0,
          5,
          0,
          0,
          1,
          0,
          1,
          2,
          1,
          1,
          0,
          10,
          0,
          0,
          1,
          0,
          4,
          6,
          8,
          0,
          11,
          1,
          11,
          0,
          1,
          3,
          0,
          0,
          0,
          0,
          2,
          0,
          0,
          7,
          3,
          0,
          3,
          0,
          0,
          0,
          0,
          0,
          5,
          0,
          0,
          2,
          0,
          1,
          1,
          0,
          0,
          1,
          3,
          4,
          5,
          1,
          9,
          0,
          1,
          1,
          4,
          8,
          0,
          36,
          0,
          0,
          5,
          7,
          0,
          3,
          0,
          0,
          0,
          0,
          10,
          0,
          0,
          0,
          1,
          0,
          1,
          0,
          4,
          5,
          2,
          6,
          10,
          0,
          2,
          0,
          2,
          1,
          3,
          1,
          5,
          11,
          0,
          6,
          0,
          8,
          0,
          3,
          0,
          2,
          0,
          7,
          0,
          0,
          0,
          0,
          0,
          30,
          0,
          1,
          0,
          0,
          0,
          0,
          0,
          0,
          1,
          0,
          0,
          0,
          0,
          2,
          1,
          1,
          0,
          2,
          0,
          2,
          0,
          1,
          0,
          0,
          0,
          1,
          0,
          0,
          0,
          0,
          5,
          0,
          0,
          0,
          0,
          0,
          0,
          0,
          0,
          0,
          0,
          1,
          0,
          6,
          0,
          1,
          10,
          10,
          1,
          0,
          5,
          0,
          0,
          0,
          1,
          0,
          1,
          7,
          0,
          0,
          6,
          15,
          0,
          1,
          0,
          2,
          1,
          1,
          0,
          9,
          0,
          0,
          1,
          0,
          0,
          7,
          1,
          3,
          0,
          1,
          0,
          0,
          0,
          0,
          0,
          0,
          2,
          1,
          0,
          7,
          14,
          4,
          0,
          0,
          3,
          1,
          0,
          0,
          0,
          4,
          0,
          0,
          0,
          0,
          3,
          0,
          0,
          6,
          0,
          3,
          4,
          1,
          9,
          0,
          1,
          1,
          0,
          0,
          2,
          0,
          1,
          0,
          0,
          0,
          0,
          0,
          1,
          1,
          0,
          3,
          0,
          1,
          4,
          3,
          0,
          0,
          0,
          4,
          1,
          0,
          1,
          2,
          0,
          0,
          0,
          0,
          0,
          3,
          6,
          0,
          3,
          1,
          0,
          1,
          0,
          6,
          17,
          0,
          1,
          0,
          3,
          4,
          4,
          0,
          1,
          0,
          0,
          0,
          0,
          0,
          1,
          0,
          2,
          13,
          0,
          0,
          0,
          1,
          0,
          0,
          0,
          0,
          0,
          0,
          1,
          14,
          19,
          2,
          0,
          0,
          0,
          0,
          0,
          6,
          0,
          1,
          0,
          3,
          0,
          0,
          1,
          3,
          0,
          1,
          2,
          2,
          1,
          0,
          0,
          4,
          0,
          1,
          5,
          1,
          0,
          0,
          0,
          0,
          6,
          4,
          2,
          0,
          0,
          1,
          0,
          0,
          0,
          0,
          0,
          0,
          0,
          6,
          2,
          2,
          2,
          4,
          1,
          0,
          0,
          1,
          5,
          1,
          1,
          0,
          3,
          0,
          0,
          0,
          1,
          20,
          2,
          2,
          0,
          0,
          1,
          1,
          7,
          0,
          5,
          0,
          3,
          0,
          3,
          1,
          1,
          2,
          0,
          5,
          2,
          0,
          1,
          0,
          0,
          1,
          9,
          15,
          0,
          0,
          6,
          2,
          0,
          0,
          1,
          5,
          3,
          18,
          2,
          7,
          0,
          2,
          1,
          1,
          7,
          0,
          1,
          0,
          7,
          0,
          0,
          1,
          0,
          2,
          15
         ],
         "yaxis": "y"
        },
        {
         "mode": "lines",
         "name": "Trend Line",
         "type": "scatter",
         "x": [
          0,
          0.5454545454545454,
          1.0909090909090908,
          1.6363636363636362,
          2.1818181818181817,
          2.727272727272727,
          3.2727272727272725,
          3.818181818181818,
          4.363636363636363,
          4.909090909090908,
          5.454545454545454,
          6,
          6.545454545454545,
          7.09090909090909,
          7.636363636363636,
          8.181818181818182,
          8.727272727272727,
          9.272727272727272,
          9.818181818181817,
          10.363636363636363,
          10.909090909090908,
          11.454545454545453,
          12,
          12.545454545454545,
          13.09090909090909,
          13.636363636363635,
          14.18181818181818,
          14.727272727272727,
          15.272727272727272,
          15.818181818181817,
          16.363636363636363,
          16.909090909090907,
          17.454545454545453,
          18,
          18.545454545454543,
          19.09090909090909,
          19.636363636363633,
          20.18181818181818,
          20.727272727272727,
          21.27272727272727,
          21.818181818181817,
          22.363636363636363,
          22.909090909090907,
          23.454545454545453,
          24,
          24.545454545454543,
          25.09090909090909,
          25.636363636363633,
          26.18181818181818,
          26.727272727272727,
          27.27272727272727,
          27.818181818181817,
          28.36363636363636,
          28.909090909090907,
          29.454545454545453,
          29.999999999999996,
          30.545454545454543,
          31.09090909090909,
          31.636363636363633,
          32.18181818181818,
          32.72727272727273,
          33.27272727272727,
          33.81818181818181,
          34.36363636363636,
          34.90909090909091,
          35.45454545454545,
          36,
          36.54545454545454,
          37.090909090909086,
          37.63636363636363,
          38.18181818181818,
          38.72727272727273,
          39.272727272727266,
          39.81818181818181,
          40.36363636363636,
          40.90909090909091,
          41.45454545454545,
          42,
          42.54545454545454,
          43.090909090909086,
          43.63636363636363,
          44.18181818181818,
          44.72727272727273,
          45.272727272727266,
          45.81818181818181,
          46.36363636363636,
          46.90909090909091,
          47.45454545454545,
          48,
          48.54545454545454,
          49.090909090909086,
          49.63636363636363,
          50.18181818181818,
          50.72727272727273,
          51.272727272727266,
          51.81818181818181,
          52.36363636363636,
          52.90909090909091,
          53.45454545454545,
          54
         ],
         "y": [
          -0.33783624951580826,
          -0.12510917963223153,
          0.0876178902513452,
          0.30034496013492196,
          0.5130720300184987,
          0.7257990999020754,
          0.9385261697856522,
          1.1512532396692288,
          1.3639803095528056,
          1.5767073794363822,
          1.789434449319959,
          2.002161519203536,
          2.2148885890871126,
          2.427615658970689,
          2.640342728854266,
          2.8530697987378426,
          3.0657968686214194,
          3.278523938504996,
          3.4912510083885726,
          3.70397807827215,
          3.9167051481557262,
          4.129432218039303,
          4.34215928792288,
          4.554886357806456,
          4.7676134276900335,
          4.98034049757361,
          5.193067567457186,
          5.4057946373407635,
          5.61852170722434,
          5.831248777107916,
          6.0439758469914935,
          6.25670291687507,
          6.469429986758647,
          6.682157056642224,
          6.8948841265258,
          7.107611196409377,
          7.3203382662929535,
          7.533065336176531,
          7.745792406060108,
          7.9585194759436835,
          8.17124654582726,
          8.383973615710838,
          8.596700685594413,
          8.80942775547799,
          9.022154825361568,
          9.234881895245143,
          9.44760896512872,
          9.660336035012298,
          9.873063104895875,
          10.085790174779452,
          10.298517244663028,
          10.511244314546605,
          10.72397138443018,
          10.936698454313758,
          11.149425524197335,
          11.36215259408091,
          11.574879663964488,
          11.787606733848065,
          12.00033380373164,
          12.213060873615218,
          12.425787943498795,
          12.638515013382372,
          12.851242083265948,
          13.063969153149525,
          13.276696223033102,
          13.48942329291668,
          13.702150362800257,
          13.91487743268383,
          14.127604502567408,
          14.340331572450985,
          14.553058642334562,
          14.76578571221814,
          14.978512782101715,
          15.191239851985292,
          15.40396692186887,
          15.616693991752447,
          15.829421061636024,
          16.042148131519603,
          16.254875201403173,
          16.46760227128675,
          16.680329341170328,
          16.893056411053905,
          17.105783480937482,
          17.31851055082106,
          17.531237620704637,
          17.743964690588214,
          17.95669176047179,
          18.16941883035537,
          18.382145900238946,
          18.594872970122516,
          18.807600040006093,
          19.02032710988967,
          19.233054179773248,
          19.445781249656825,
          19.658508319540402,
          19.87123538942398,
          20.083962459307557,
          20.296689529191134,
          20.50941659907471,
          20.72214366895829
         ]
        }
       ],
       "layout": {
        "annotations": [
         {
          "align": "right",
          "font": {
           "size": 12
          },
          "showarrow": false,
          "text": "Correlation: 0.91",
          "x": 0.95,
          "xref": "paper",
          "y": 1.05,
          "yref": "paper"
         }
        ],
        "legend": {
         "tracegroupgap": 0
        },
        "margin": {
         "t": 60
        },
        "template": {
         "data": {
          "bar": [
           {
            "error_x": {
             "color": "#2a3f5f"
            },
            "error_y": {
             "color": "#2a3f5f"
            },
            "marker": {
             "line": {
              "color": "#E5ECF6",
              "width": 0.5
             },
             "pattern": {
              "fillmode": "overlay",
              "size": 10,
              "solidity": 0.2
             }
            },
            "type": "bar"
           }
          ],
          "barpolar": [
           {
            "marker": {
             "line": {
              "color": "#E5ECF6",
              "width": 0.5
             },
             "pattern": {
              "fillmode": "overlay",
              "size": 10,
              "solidity": 0.2
             }
            },
            "type": "barpolar"
           }
          ],
          "carpet": [
           {
            "aaxis": {
             "endlinecolor": "#2a3f5f",
             "gridcolor": "white",
             "linecolor": "white",
             "minorgridcolor": "white",
             "startlinecolor": "#2a3f5f"
            },
            "baxis": {
             "endlinecolor": "#2a3f5f",
             "gridcolor": "white",
             "linecolor": "white",
             "minorgridcolor": "white",
             "startlinecolor": "#2a3f5f"
            },
            "type": "carpet"
           }
          ],
          "choropleth": [
           {
            "colorbar": {
             "outlinewidth": 0,
             "ticks": ""
            },
            "type": "choropleth"
           }
          ],
          "contour": [
           {
            "colorbar": {
             "outlinewidth": 0,
             "ticks": ""
            },
            "colorscale": [
             [
              0,
              "#0d0887"
             ],
             [
              0.1111111111111111,
              "#46039f"
             ],
             [
              0.2222222222222222,
              "#7201a8"
             ],
             [
              0.3333333333333333,
              "#9c179e"
             ],
             [
              0.4444444444444444,
              "#bd3786"
             ],
             [
              0.5555555555555556,
              "#d8576b"
             ],
             [
              0.6666666666666666,
              "#ed7953"
             ],
             [
              0.7777777777777778,
              "#fb9f3a"
             ],
             [
              0.8888888888888888,
              "#fdca26"
             ],
             [
              1,
              "#f0f921"
             ]
            ],
            "type": "contour"
           }
          ],
          "contourcarpet": [
           {
            "colorbar": {
             "outlinewidth": 0,
             "ticks": ""
            },
            "type": "contourcarpet"
           }
          ],
          "heatmap": [
           {
            "colorbar": {
             "outlinewidth": 0,
             "ticks": ""
            },
            "colorscale": [
             [
              0,
              "#0d0887"
             ],
             [
              0.1111111111111111,
              "#46039f"
             ],
             [
              0.2222222222222222,
              "#7201a8"
             ],
             [
              0.3333333333333333,
              "#9c179e"
             ],
             [
              0.4444444444444444,
              "#bd3786"
             ],
             [
              0.5555555555555556,
              "#d8576b"
             ],
             [
              0.6666666666666666,
              "#ed7953"
             ],
             [
              0.7777777777777778,
              "#fb9f3a"
             ],
             [
              0.8888888888888888,
              "#fdca26"
             ],
             [
              1,
              "#f0f921"
             ]
            ],
            "type": "heatmap"
           }
          ],
          "heatmapgl": [
           {
            "colorbar": {
             "outlinewidth": 0,
             "ticks": ""
            },
            "colorscale": [
             [
              0,
              "#0d0887"
             ],
             [
              0.1111111111111111,
              "#46039f"
             ],
             [
              0.2222222222222222,
              "#7201a8"
             ],
             [
              0.3333333333333333,
              "#9c179e"
             ],
             [
              0.4444444444444444,
              "#bd3786"
             ],
             [
              0.5555555555555556,
              "#d8576b"
             ],
             [
              0.6666666666666666,
              "#ed7953"
             ],
             [
              0.7777777777777778,
              "#fb9f3a"
             ],
             [
              0.8888888888888888,
              "#fdca26"
             ],
             [
              1,
              "#f0f921"
             ]
            ],
            "type": "heatmapgl"
           }
          ],
          "histogram": [
           {
            "marker": {
             "pattern": {
              "fillmode": "overlay",
              "size": 10,
              "solidity": 0.2
             }
            },
            "type": "histogram"
           }
          ],
          "histogram2d": [
           {
            "colorbar": {
             "outlinewidth": 0,
             "ticks": ""
            },
            "colorscale": [
             [
              0,
              "#0d0887"
             ],
             [
              0.1111111111111111,
              "#46039f"
             ],
             [
              0.2222222222222222,
              "#7201a8"
             ],
             [
              0.3333333333333333,
              "#9c179e"
             ],
             [
              0.4444444444444444,
              "#bd3786"
             ],
             [
              0.5555555555555556,
              "#d8576b"
             ],
             [
              0.6666666666666666,
              "#ed7953"
             ],
             [
              0.7777777777777778,
              "#fb9f3a"
             ],
             [
              0.8888888888888888,
              "#fdca26"
             ],
             [
              1,
              "#f0f921"
             ]
            ],
            "type": "histogram2d"
           }
          ],
          "histogram2dcontour": [
           {
            "colorbar": {
             "outlinewidth": 0,
             "ticks": ""
            },
            "colorscale": [
             [
              0,
              "#0d0887"
             ],
             [
              0.1111111111111111,
              "#46039f"
             ],
             [
              0.2222222222222222,
              "#7201a8"
             ],
             [
              0.3333333333333333,
              "#9c179e"
             ],
             [
              0.4444444444444444,
              "#bd3786"
             ],
             [
              0.5555555555555556,
              "#d8576b"
             ],
             [
              0.6666666666666666,
              "#ed7953"
             ],
             [
              0.7777777777777778,
              "#fb9f3a"
             ],
             [
              0.8888888888888888,
              "#fdca26"
             ],
             [
              1,
              "#f0f921"
             ]
            ],
            "type": "histogram2dcontour"
           }
          ],
          "mesh3d": [
           {
            "colorbar": {
             "outlinewidth": 0,
             "ticks": ""
            },
            "type": "mesh3d"
           }
          ],
          "parcoords": [
           {
            "line": {
             "colorbar": {
              "outlinewidth": 0,
              "ticks": ""
             }
            },
            "type": "parcoords"
           }
          ],
          "pie": [
           {
            "automargin": true,
            "type": "pie"
           }
          ],
          "scatter": [
           {
            "fillpattern": {
             "fillmode": "overlay",
             "size": 10,
             "solidity": 0.2
            },
            "type": "scatter"
           }
          ],
          "scatter3d": [
           {
            "line": {
             "colorbar": {
              "outlinewidth": 0,
              "ticks": ""
             }
            },
            "marker": {
             "colorbar": {
              "outlinewidth": 0,
              "ticks": ""
             }
            },
            "type": "scatter3d"
           }
          ],
          "scattercarpet": [
           {
            "marker": {
             "colorbar": {
              "outlinewidth": 0,
              "ticks": ""
             }
            },
            "type": "scattercarpet"
           }
          ],
          "scattergeo": [
           {
            "marker": {
             "colorbar": {
              "outlinewidth": 0,
              "ticks": ""
             }
            },
            "type": "scattergeo"
           }
          ],
          "scattergl": [
           {
            "marker": {
             "colorbar": {
              "outlinewidth": 0,
              "ticks": ""
             }
            },
            "type": "scattergl"
           }
          ],
          "scattermapbox": [
           {
            "marker": {
             "colorbar": {
              "outlinewidth": 0,
              "ticks": ""
             }
            },
            "type": "scattermapbox"
           }
          ],
          "scatterpolar": [
           {
            "marker": {
             "colorbar": {
              "outlinewidth": 0,
              "ticks": ""
             }
            },
            "type": "scatterpolar"
           }
          ],
          "scatterpolargl": [
           {
            "marker": {
             "colorbar": {
              "outlinewidth": 0,
              "ticks": ""
             }
            },
            "type": "scatterpolargl"
           }
          ],
          "scatterternary": [
           {
            "marker": {
             "colorbar": {
              "outlinewidth": 0,
              "ticks": ""
             }
            },
            "type": "scatterternary"
           }
          ],
          "surface": [
           {
            "colorbar": {
             "outlinewidth": 0,
             "ticks": ""
            },
            "colorscale": [
             [
              0,
              "#0d0887"
             ],
             [
              0.1111111111111111,
              "#46039f"
             ],
             [
              0.2222222222222222,
              "#7201a8"
             ],
             [
              0.3333333333333333,
              "#9c179e"
             ],
             [
              0.4444444444444444,
              "#bd3786"
             ],
             [
              0.5555555555555556,
              "#d8576b"
             ],
             [
              0.6666666666666666,
              "#ed7953"
             ],
             [
              0.7777777777777778,
              "#fb9f3a"
             ],
             [
              0.8888888888888888,
              "#fdca26"
             ],
             [
              1,
              "#f0f921"
             ]
            ],
            "type": "surface"
           }
          ],
          "table": [
           {
            "cells": {
             "fill": {
              "color": "#EBF0F8"
             },
             "line": {
              "color": "white"
             }
            },
            "header": {
             "fill": {
              "color": "#C8D4E3"
             },
             "line": {
              "color": "white"
             }
            },
            "type": "table"
           }
          ]
         },
         "layout": {
          "annotationdefaults": {
           "arrowcolor": "#2a3f5f",
           "arrowhead": 0,
           "arrowwidth": 1
          },
          "autotypenumbers": "strict",
          "coloraxis": {
           "colorbar": {
            "outlinewidth": 0,
            "ticks": ""
           }
          },
          "colorscale": {
           "diverging": [
            [
             0,
             "#8e0152"
            ],
            [
             0.1,
             "#c51b7d"
            ],
            [
             0.2,
             "#de77ae"
            ],
            [
             0.3,
             "#f1b6da"
            ],
            [
             0.4,
             "#fde0ef"
            ],
            [
             0.5,
             "#f7f7f7"
            ],
            [
             0.6,
             "#e6f5d0"
            ],
            [
             0.7,
             "#b8e186"
            ],
            [
             0.8,
             "#7fbc41"
            ],
            [
             0.9,
             "#4d9221"
            ],
            [
             1,
             "#276419"
            ]
           ],
           "sequential": [
            [
             0,
             "#0d0887"
            ],
            [
             0.1111111111111111,
             "#46039f"
            ],
            [
             0.2222222222222222,
             "#7201a8"
            ],
            [
             0.3333333333333333,
             "#9c179e"
            ],
            [
             0.4444444444444444,
             "#bd3786"
            ],
            [
             0.5555555555555556,
             "#d8576b"
            ],
            [
             0.6666666666666666,
             "#ed7953"
            ],
            [
             0.7777777777777778,
             "#fb9f3a"
            ],
            [
             0.8888888888888888,
             "#fdca26"
            ],
            [
             1,
             "#f0f921"
            ]
           ],
           "sequentialminus": [
            [
             0,
             "#0d0887"
            ],
            [
             0.1111111111111111,
             "#46039f"
            ],
            [
             0.2222222222222222,
             "#7201a8"
            ],
            [
             0.3333333333333333,
             "#9c179e"
            ],
            [
             0.4444444444444444,
             "#bd3786"
            ],
            [
             0.5555555555555556,
             "#d8576b"
            ],
            [
             0.6666666666666666,
             "#ed7953"
            ],
            [
             0.7777777777777778,
             "#fb9f3a"
            ],
            [
             0.8888888888888888,
             "#fdca26"
            ],
            [
             1,
             "#f0f921"
            ]
           ]
          },
          "colorway": [
           "#636efa",
           "#EF553B",
           "#00cc96",
           "#ab63fa",
           "#FFA15A",
           "#19d3f3",
           "#FF6692",
           "#B6E880",
           "#FF97FF",
           "#FECB52"
          ],
          "font": {
           "color": "#2a3f5f"
          },
          "geo": {
           "bgcolor": "white",
           "lakecolor": "white",
           "landcolor": "#E5ECF6",
           "showlakes": true,
           "showland": true,
           "subunitcolor": "white"
          },
          "hoverlabel": {
           "align": "left"
          },
          "hovermode": "closest",
          "mapbox": {
           "style": "light"
          },
          "paper_bgcolor": "white",
          "plot_bgcolor": "#E5ECF6",
          "polar": {
           "angularaxis": {
            "gridcolor": "white",
            "linecolor": "white",
            "ticks": ""
           },
           "bgcolor": "#E5ECF6",
           "radialaxis": {
            "gridcolor": "white",
            "linecolor": "white",
            "ticks": ""
           }
          },
          "scene": {
           "xaxis": {
            "backgroundcolor": "#E5ECF6",
            "gridcolor": "white",
            "gridwidth": 2,
            "linecolor": "white",
            "showbackground": true,
            "ticks": "",
            "zerolinecolor": "white"
           },
           "yaxis": {
            "backgroundcolor": "#E5ECF6",
            "gridcolor": "white",
            "gridwidth": 2,
            "linecolor": "white",
            "showbackground": true,
            "ticks": "",
            "zerolinecolor": "white"
           },
           "zaxis": {
            "backgroundcolor": "#E5ECF6",
            "gridcolor": "white",
            "gridwidth": 2,
            "linecolor": "white",
            "showbackground": true,
            "ticks": "",
            "zerolinecolor": "white"
           }
          },
          "shapedefaults": {
           "line": {
            "color": "#2a3f5f"
           }
          },
          "ternary": {
           "aaxis": {
            "gridcolor": "white",
            "linecolor": "white",
            "ticks": ""
           },
           "baxis": {
            "gridcolor": "white",
            "linecolor": "white",
            "ticks": ""
           },
           "bgcolor": "#E5ECF6",
           "caxis": {
            "gridcolor": "white",
            "linecolor": "white",
            "ticks": ""
           }
          },
          "title": {
           "x": 0.05
          },
          "xaxis": {
           "automargin": true,
           "gridcolor": "white",
           "linecolor": "white",
           "ticks": "",
           "title": {
            "standoff": 15
           },
           "zerolinecolor": "white",
           "zerolinewidth": 2
          },
          "yaxis": {
           "automargin": true,
           "gridcolor": "white",
           "linecolor": "white",
           "ticks": "",
           "title": {
            "standoff": 15
           },
           "zerolinecolor": "white",
           "zerolinewidth": 2
          }
         }
        },
        "xaxis": {
         "anchor": "y",
         "domain": [
          0,
          1
         ],
         "title": {
          "text": "Shot_On_Target"
         }
        },
        "yaxis": {
         "anchor": "x",
         "domain": [
          0,
          1
         ],
         "title": {
          "text": "Goals"
         }
        }
       }
      }
     },
     "metadata": {},
     "output_type": "display_data"
    }
   ],
   "source": [
    "# Calculate the correlation\n",
    "correlation = player_shooting['Shot_On_Target'].corr(player_shooting['Goals'])\n",
    "\n",
    "# Calculate the linear regression line\n",
    "slope, intercept, r_value, p_value, std_err = linregress(player_shooting['Shot_On_Target'], player_shooting['Goals'])\n",
    "x = np.linspace(player_shooting['Shot_On_Target'].min(), player_shooting['Shot_On_Target'].max(), 100)\n",
    "y = slope * x + intercept\n",
    "\n",
    "# Plot the scatterplot with trend line\n",
    "fig = px.scatter(player_shooting, x='Shot_On_Target', y='Goals', hover_data=['Player', 'Squad'])\n",
    "fig.add_annotation(\n",
    "    x=0.95,\n",
    "    y=1.05,  # Adjust the y-coordinate to position the annotation at the top\n",
    "    text=f\"Correlation: {correlation:.2f}\",\n",
    "    showarrow=False,\n",
    "    font=dict(size=12),\n",
    "    xref=\"paper\",\n",
    "    yref=\"paper\",\n",
    "    align=\"right\"\n",
    ")\n",
    "fig.add_trace(go.Scatter(x=x, y=y, mode='lines', name='Trend Line'))\n",
    "fig.show()"
   ]
  }
 ],
 "metadata": {
  "kernelspec": {
   "display_name": "base",
   "language": "python",
   "name": "python3"
  },
  "language_info": {
   "codemirror_mode": {
    "name": "ipython",
    "version": 3
   },
   "file_extension": ".py",
   "mimetype": "text/x-python",
   "name": "python",
   "nbconvert_exporter": "python",
   "pygments_lexer": "ipython3",
   "version": "3.11.5"
  }
 },
 "nbformat": 4,
 "nbformat_minor": 2
}
